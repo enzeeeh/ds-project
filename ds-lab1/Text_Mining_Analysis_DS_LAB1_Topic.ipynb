{
  "nbformat": 4,
  "nbformat_minor": 0,
  "metadata": {
    "colab": {
      "provenance": [],
      "authorship_tag": "ABX9TyNt56vwPJdvzQW9lI+pORLY",
      "include_colab_link": true
    },
    "kernelspec": {
      "name": "python3",
      "display_name": "Python 3"
    },
    "language_info": {
      "name": "python"
    }
  },
  "cells": [
    {
      "cell_type": "markdown",
      "metadata": {
        "id": "view-in-github",
        "colab_type": "text"
      },
      "source": [
        "<a href=\"https://colab.research.google.com/github/enzeeeh/ds-project/blob/main/ds-lab1/Text_Mining_Analysis_DS_LAB1_Topic.ipynb\" target=\"_parent\"><img src=\"https://colab.research.google.com/assets/colab-badge.svg\" alt=\"Open In Colab\"/></a>"
      ]
    },
    {
      "cell_type": "markdown",
      "source": [
        "# PROJECT DATA SCIENCE LAB 1"
      ],
      "metadata": {
        "id": "P3uYG0Y_vE9u"
      }
    },
    {
      "cell_type": "markdown",
      "source": [
        "### 0. Install and Import"
      ],
      "metadata": {
        "id": "IaRR71mkRrHi"
      }
    },
    {
      "cell_type": "code",
      "source": [
        "# Import libs\n",
        "import pandas as pd\n",
        "import numpy as np\n",
        "from datetime import datetime as dt\n",
        "import re, string, unicodedata\n",
        "string.punctuation\n",
        "from time import time\n",
        "\n",
        "# Libs for visualization\n",
        "import matplotlib.pyplot as plt\n",
        "import seaborn as sns\n",
        "import folium # map visualization\n",
        "from wordcloud import WordCloud\n",
        "import wordcloud\n",
        "!pip install kneed\n",
        "from kneed import KneeLocator\n",
        "import pickle\n",
        "\n",
        "import warnings\n",
        "warnings.filterwarnings('ignore')\n",
        "\n",
        "# Text preprocessing\n",
        "import nltk\n",
        "from nltk import word_tokenize, sent_tokenize\n",
        "from nltk.corpus import stopwords, wordnet\n",
        "from nltk.stem import LancasterStemmer, WordNetLemmatizer\n",
        "from nltk.stem import WordNetLemmatizer\n",
        "from nltk.stem.snowball import SnowballStemmer\n",
        "from nltk.tokenize import RegexpTokenizer\n",
        "from nltk import pos_tag\n",
        "\n",
        "# Metrics, Clustering algorithms, Topic modeling, Dimensionality reduction\n",
        "from sklearn.feature_extraction.text import TfidfVectorizer\n",
        "from sklearn.feature_extraction.text import CountVectorizer\n",
        "from sklearn.decomposition import PCA\n",
        "from sklearn.decomposition import TruncatedSVD\n",
        "from sklearn.neighbors import NearestNeighbors\n",
        "from sklearn.manifold import TSNE\n",
        "from sklearn.cluster import KMeans, MiniBatchKMeans, DBSCAN, AgglomerativeClustering\n",
        "from sklearn.mixture import GaussianMixture\n",
        "import scipy.cluster.hierarchy as sch\n",
        "#Performance metrics\n",
        "from sklearn.metrics.pairwise import cosine_similarity\n",
        "from sklearn.metrics import pairwise_distances, calinski_harabasz_score, silhouette_score\n",
        "\n",
        "!pip install hdbscan\n",
        "import hdbscan\n",
        "import en_core_web_sm\n",
        "nlp = en_core_web_sm.load()\n",
        "\n",
        "nltk.download('wordnet')\n",
        "nltk.download('stopwords')\n",
        "nltk.download('omw-1.4')\n",
        "nltk.download('punkt')\n",
        "nltk.download('averaged_perceptron_tagger')\n",
        "\n",
        "%matplotlib inline\n",
        "sns.set()"
      ],
      "metadata": {
        "id": "_PjtH6HbOISn",
        "colab": {
          "base_uri": "https://localhost:8080/"
        },
        "outputId": "83129958-0470-4a6e-872f-d287d7db7a3a"
      },
      "execution_count": 1,
      "outputs": [
        {
          "output_type": "stream",
          "name": "stdout",
          "text": [
            "Collecting kneed\n",
            "  Downloading kneed-0.8.5-py3-none-any.whl (10 kB)\n",
            "Requirement already satisfied: numpy>=1.14.2 in /usr/local/lib/python3.10/dist-packages (from kneed) (1.25.2)\n",
            "Requirement already satisfied: scipy>=1.0.0 in /usr/local/lib/python3.10/dist-packages (from kneed) (1.11.4)\n",
            "Installing collected packages: kneed\n",
            "Successfully installed kneed-0.8.5\n",
            "Collecting hdbscan\n",
            "  Downloading hdbscan-0.8.33.tar.gz (5.2 MB)\n",
            "\u001b[2K     \u001b[90m━━━━━━━━━━━━━━━━━━━━━━━━━━━━━━━━━━━━━━━━\u001b[0m \u001b[32m5.2/5.2 MB\u001b[0m \u001b[31m12.7 MB/s\u001b[0m eta \u001b[36m0:00:00\u001b[0m\n",
            "\u001b[?25h  Installing build dependencies ... \u001b[?25l\u001b[?25hdone\n",
            "  Getting requirements to build wheel ... \u001b[?25l\u001b[?25hdone\n",
            "  Preparing metadata (pyproject.toml) ... \u001b[?25l\u001b[?25hdone\n",
            "Collecting cython<3,>=0.27 (from hdbscan)\n",
            "  Using cached Cython-0.29.37-cp310-cp310-manylinux_2_17_x86_64.manylinux2014_x86_64.manylinux_2_24_x86_64.whl (1.9 MB)\n",
            "Requirement already satisfied: numpy>=1.20 in /usr/local/lib/python3.10/dist-packages (from hdbscan) (1.25.2)\n",
            "Requirement already satisfied: scipy>=1.0 in /usr/local/lib/python3.10/dist-packages (from hdbscan) (1.11.4)\n",
            "Requirement already satisfied: scikit-learn>=0.20 in /usr/local/lib/python3.10/dist-packages (from hdbscan) (1.2.2)\n",
            "Requirement already satisfied: joblib>=1.0 in /usr/local/lib/python3.10/dist-packages (from hdbscan) (1.4.2)\n",
            "Requirement already satisfied: threadpoolctl>=2.0.0 in /usr/local/lib/python3.10/dist-packages (from scikit-learn>=0.20->hdbscan) (3.5.0)\n",
            "Building wheels for collected packages: hdbscan\n",
            "  Building wheel for hdbscan (pyproject.toml) ... \u001b[?25l\u001b[?25hdone\n",
            "  Created wheel for hdbscan: filename=hdbscan-0.8.33-cp310-cp310-linux_x86_64.whl size=3039285 sha256=077ac8951b4d195ddaaaa81db198c89cefdd349f82eebad8b7320f2ca6cf668f\n",
            "  Stored in directory: /root/.cache/pip/wheels/75/0b/3b/dc4f60b7cc455efaefb62883a7483e76f09d06ca81cf87d610\n",
            "Successfully built hdbscan\n",
            "Installing collected packages: cython, hdbscan\n",
            "  Attempting uninstall: cython\n",
            "    Found existing installation: Cython 3.0.10\n",
            "    Uninstalling Cython-3.0.10:\n",
            "      Successfully uninstalled Cython-3.0.10\n",
            "Successfully installed cython-0.29.37 hdbscan-0.8.33\n"
          ]
        },
        {
          "output_type": "stream",
          "name": "stderr",
          "text": [
            "[nltk_data] Downloading package wordnet to /root/nltk_data...\n",
            "[nltk_data] Downloading package stopwords to /root/nltk_data...\n",
            "[nltk_data]   Unzipping corpora/stopwords.zip.\n",
            "[nltk_data] Downloading package omw-1.4 to /root/nltk_data...\n",
            "[nltk_data] Downloading package punkt to /root/nltk_data...\n",
            "[nltk_data]   Unzipping tokenizers/punkt.zip.\n",
            "[nltk_data] Downloading package averaged_perceptron_tagger to\n",
            "[nltk_data]     /root/nltk_data...\n",
            "[nltk_data]   Unzipping taggers/averaged_perceptron_tagger.zip.\n"
          ]
        }
      ]
    },
    {
      "cell_type": "markdown",
      "source": [],
      "metadata": {
        "id": "OOsCQifKtzAE"
      }
    },
    {
      "cell_type": "code",
      "execution_count": null,
      "metadata": {
        "id": "JlO-hjJFYxCg",
        "colab": {
          "base_uri": "https://localhost:8080/"
        },
        "outputId": "37bce575-586b-4d82-b080-7cc010b6b7ed"
      },
      "outputs": [
        {
          "output_type": "stream",
          "name": "stdout",
          "text": [
            "Mounted at /content/drive/\n"
          ]
        }
      ],
      "source": [
        "# mount drive from the gdrive\n",
        "from google.colab import drive\n",
        "drive.mount('/content/drive/')"
      ]
    },
    {
      "cell_type": "code",
      "source": [
        "# Load dataset\n",
        "root_dir = '/content/drive/MyDrive/ds_lab_1/dataset/'\n",
        "\n",
        "df = pd.read_excel(root_dir +'dataset.xlsx')\n",
        "\n",
        "# Display the first few rows of the DataFrame\n",
        "display(df.head(5))\n",
        "print(f\"\\nNumber of rows and columns in dataset: {df.shape}\")"
      ],
      "metadata": {
        "colab": {
          "base_uri": "https://localhost:8080/",
          "height": 345
        },
        "id": "MBKaE_2oNHxH",
        "outputId": "9eebd0f9-3c5d-429e-e378-2ce9b62efbc2"
      },
      "execution_count": null,
      "outputs": [
        {
          "output_type": "display_data",
          "data": {
            "text/plain": [
              "                 id                                    University Name  \\\n",
              "0  iva_rtu_security                          Riga Technical University   \n",
              "1   deu_hn_security                             Hochschule Niederrhein   \n",
              "2               NaN                                 University of Oulu   \n",
              "3               NaN                         European University Cyprus   \n",
              "4               NaN  Escuela Internacional de Criminología y Crimin...   \n",
              "\n",
              "                                  Study Program Name                  City  \\\n",
              "0                          Cybersecurity Engineering                  Riga   \n",
              "1                          Cyber Security Management       Mönchengladbach   \n",
              "2  Cybersecurity specialisation for Computer Scie...                  Oulu   \n",
              "3                               MSc in Cybersecurity               Nicosia   \n",
              "4  High Specialization Master in Forensic Computi...  San Juan de Alicante   \n",
              "\n",
              "  Country  Year Established                                        Description  \n",
              "0     lva              2021  Brand new study program, with focus on industr...  \n",
              "1     deu              2020  The study concept offers problem-based learnin...  \n",
              "2     fin              2023  The student specialising in cybersecurity will...  \n",
              "3     cyp              2017  The MSc in Cybersecurity at EUC addresses the ...  \n",
              "4     esp              2006  This master offers the student a complete trai...  "
            ],
            "text/html": [
              "\n",
              "  <div id=\"df-4f804ee9-027a-42fd-afc7-2725728af42d\" class=\"colab-df-container\">\n",
              "    <div>\n",
              "<style scoped>\n",
              "    .dataframe tbody tr th:only-of-type {\n",
              "        vertical-align: middle;\n",
              "    }\n",
              "\n",
              "    .dataframe tbody tr th {\n",
              "        vertical-align: top;\n",
              "    }\n",
              "\n",
              "    .dataframe thead th {\n",
              "        text-align: right;\n",
              "    }\n",
              "</style>\n",
              "<table border=\"1\" class=\"dataframe\">\n",
              "  <thead>\n",
              "    <tr style=\"text-align: right;\">\n",
              "      <th></th>\n",
              "      <th>id</th>\n",
              "      <th>University Name</th>\n",
              "      <th>Study Program Name</th>\n",
              "      <th>City</th>\n",
              "      <th>Country</th>\n",
              "      <th>Year Established</th>\n",
              "      <th>Description</th>\n",
              "    </tr>\n",
              "  </thead>\n",
              "  <tbody>\n",
              "    <tr>\n",
              "      <th>0</th>\n",
              "      <td>iva_rtu_security</td>\n",
              "      <td>Riga Technical University</td>\n",
              "      <td>Cybersecurity Engineering</td>\n",
              "      <td>Riga</td>\n",
              "      <td>lva</td>\n",
              "      <td>2021</td>\n",
              "      <td>Brand new study program, with focus on industr...</td>\n",
              "    </tr>\n",
              "    <tr>\n",
              "      <th>1</th>\n",
              "      <td>deu_hn_security</td>\n",
              "      <td>Hochschule Niederrhein</td>\n",
              "      <td>Cyber Security Management</td>\n",
              "      <td>Mönchengladbach</td>\n",
              "      <td>deu</td>\n",
              "      <td>2020</td>\n",
              "      <td>The study concept offers problem-based learnin...</td>\n",
              "    </tr>\n",
              "    <tr>\n",
              "      <th>2</th>\n",
              "      <td>NaN</td>\n",
              "      <td>University of Oulu</td>\n",
              "      <td>Cybersecurity specialisation for Computer Scie...</td>\n",
              "      <td>Oulu</td>\n",
              "      <td>fin</td>\n",
              "      <td>2023</td>\n",
              "      <td>The student specialising in cybersecurity will...</td>\n",
              "    </tr>\n",
              "    <tr>\n",
              "      <th>3</th>\n",
              "      <td>NaN</td>\n",
              "      <td>European University Cyprus</td>\n",
              "      <td>MSc in Cybersecurity</td>\n",
              "      <td>Nicosia</td>\n",
              "      <td>cyp</td>\n",
              "      <td>2017</td>\n",
              "      <td>The MSc in Cybersecurity at EUC addresses the ...</td>\n",
              "    </tr>\n",
              "    <tr>\n",
              "      <th>4</th>\n",
              "      <td>NaN</td>\n",
              "      <td>Escuela Internacional de Criminología y Crimin...</td>\n",
              "      <td>High Specialization Master in Forensic Computi...</td>\n",
              "      <td>San Juan de Alicante</td>\n",
              "      <td>esp</td>\n",
              "      <td>2006</td>\n",
              "      <td>This master offers the student a complete trai...</td>\n",
              "    </tr>\n",
              "  </tbody>\n",
              "</table>\n",
              "</div>\n",
              "    <div class=\"colab-df-buttons\">\n",
              "\n",
              "  <div class=\"colab-df-container\">\n",
              "    <button class=\"colab-df-convert\" onclick=\"convertToInteractive('df-4f804ee9-027a-42fd-afc7-2725728af42d')\"\n",
              "            title=\"Convert this dataframe to an interactive table.\"\n",
              "            style=\"display:none;\">\n",
              "\n",
              "  <svg xmlns=\"http://www.w3.org/2000/svg\" height=\"24px\" viewBox=\"0 -960 960 960\">\n",
              "    <path d=\"M120-120v-720h720v720H120Zm60-500h600v-160H180v160Zm220 220h160v-160H400v160Zm0 220h160v-160H400v160ZM180-400h160v-160H180v160Zm440 0h160v-160H620v160ZM180-180h160v-160H180v160Zm440 0h160v-160H620v160Z\"/>\n",
              "  </svg>\n",
              "    </button>\n",
              "\n",
              "  <style>\n",
              "    .colab-df-container {\n",
              "      display:flex;\n",
              "      gap: 12px;\n",
              "    }\n",
              "\n",
              "    .colab-df-convert {\n",
              "      background-color: #E8F0FE;\n",
              "      border: none;\n",
              "      border-radius: 50%;\n",
              "      cursor: pointer;\n",
              "      display: none;\n",
              "      fill: #1967D2;\n",
              "      height: 32px;\n",
              "      padding: 0 0 0 0;\n",
              "      width: 32px;\n",
              "    }\n",
              "\n",
              "    .colab-df-convert:hover {\n",
              "      background-color: #E2EBFA;\n",
              "      box-shadow: 0px 1px 2px rgba(60, 64, 67, 0.3), 0px 1px 3px 1px rgba(60, 64, 67, 0.15);\n",
              "      fill: #174EA6;\n",
              "    }\n",
              "\n",
              "    .colab-df-buttons div {\n",
              "      margin-bottom: 4px;\n",
              "    }\n",
              "\n",
              "    [theme=dark] .colab-df-convert {\n",
              "      background-color: #3B4455;\n",
              "      fill: #D2E3FC;\n",
              "    }\n",
              "\n",
              "    [theme=dark] .colab-df-convert:hover {\n",
              "      background-color: #434B5C;\n",
              "      box-shadow: 0px 1px 3px 1px rgba(0, 0, 0, 0.15);\n",
              "      filter: drop-shadow(0px 1px 2px rgba(0, 0, 0, 0.3));\n",
              "      fill: #FFFFFF;\n",
              "    }\n",
              "  </style>\n",
              "\n",
              "    <script>\n",
              "      const buttonEl =\n",
              "        document.querySelector('#df-4f804ee9-027a-42fd-afc7-2725728af42d button.colab-df-convert');\n",
              "      buttonEl.style.display =\n",
              "        google.colab.kernel.accessAllowed ? 'block' : 'none';\n",
              "\n",
              "      async function convertToInteractive(key) {\n",
              "        const element = document.querySelector('#df-4f804ee9-027a-42fd-afc7-2725728af42d');\n",
              "        const dataTable =\n",
              "          await google.colab.kernel.invokeFunction('convertToInteractive',\n",
              "                                                    [key], {});\n",
              "        if (!dataTable) return;\n",
              "\n",
              "        const docLinkHtml = 'Like what you see? Visit the ' +\n",
              "          '<a target=\"_blank\" href=https://colab.research.google.com/notebooks/data_table.ipynb>data table notebook</a>'\n",
              "          + ' to learn more about interactive tables.';\n",
              "        element.innerHTML = '';\n",
              "        dataTable['output_type'] = 'display_data';\n",
              "        await google.colab.output.renderOutput(dataTable, element);\n",
              "        const docLink = document.createElement('div');\n",
              "        docLink.innerHTML = docLinkHtml;\n",
              "        element.appendChild(docLink);\n",
              "      }\n",
              "    </script>\n",
              "  </div>\n",
              "\n",
              "\n",
              "<div id=\"df-a77e3f6a-027f-4d0a-95f0-c3ed8ebfe721\">\n",
              "  <button class=\"colab-df-quickchart\" onclick=\"quickchart('df-a77e3f6a-027f-4d0a-95f0-c3ed8ebfe721')\"\n",
              "            title=\"Suggest charts\"\n",
              "            style=\"display:none;\">\n",
              "\n",
              "<svg xmlns=\"http://www.w3.org/2000/svg\" height=\"24px\"viewBox=\"0 0 24 24\"\n",
              "     width=\"24px\">\n",
              "    <g>\n",
              "        <path d=\"M19 3H5c-1.1 0-2 .9-2 2v14c0 1.1.9 2 2 2h14c1.1 0 2-.9 2-2V5c0-1.1-.9-2-2-2zM9 17H7v-7h2v7zm4 0h-2V7h2v10zm4 0h-2v-4h2v4z\"/>\n",
              "    </g>\n",
              "</svg>\n",
              "  </button>\n",
              "\n",
              "<style>\n",
              "  .colab-df-quickchart {\n",
              "      --bg-color: #E8F0FE;\n",
              "      --fill-color: #1967D2;\n",
              "      --hover-bg-color: #E2EBFA;\n",
              "      --hover-fill-color: #174EA6;\n",
              "      --disabled-fill-color: #AAA;\n",
              "      --disabled-bg-color: #DDD;\n",
              "  }\n",
              "\n",
              "  [theme=dark] .colab-df-quickchart {\n",
              "      --bg-color: #3B4455;\n",
              "      --fill-color: #D2E3FC;\n",
              "      --hover-bg-color: #434B5C;\n",
              "      --hover-fill-color: #FFFFFF;\n",
              "      --disabled-bg-color: #3B4455;\n",
              "      --disabled-fill-color: #666;\n",
              "  }\n",
              "\n",
              "  .colab-df-quickchart {\n",
              "    background-color: var(--bg-color);\n",
              "    border: none;\n",
              "    border-radius: 50%;\n",
              "    cursor: pointer;\n",
              "    display: none;\n",
              "    fill: var(--fill-color);\n",
              "    height: 32px;\n",
              "    padding: 0;\n",
              "    width: 32px;\n",
              "  }\n",
              "\n",
              "  .colab-df-quickchart:hover {\n",
              "    background-color: var(--hover-bg-color);\n",
              "    box-shadow: 0 1px 2px rgba(60, 64, 67, 0.3), 0 1px 3px 1px rgba(60, 64, 67, 0.15);\n",
              "    fill: var(--button-hover-fill-color);\n",
              "  }\n",
              "\n",
              "  .colab-df-quickchart-complete:disabled,\n",
              "  .colab-df-quickchart-complete:disabled:hover {\n",
              "    background-color: var(--disabled-bg-color);\n",
              "    fill: var(--disabled-fill-color);\n",
              "    box-shadow: none;\n",
              "  }\n",
              "\n",
              "  .colab-df-spinner {\n",
              "    border: 2px solid var(--fill-color);\n",
              "    border-color: transparent;\n",
              "    border-bottom-color: var(--fill-color);\n",
              "    animation:\n",
              "      spin 1s steps(1) infinite;\n",
              "  }\n",
              "\n",
              "  @keyframes spin {\n",
              "    0% {\n",
              "      border-color: transparent;\n",
              "      border-bottom-color: var(--fill-color);\n",
              "      border-left-color: var(--fill-color);\n",
              "    }\n",
              "    20% {\n",
              "      border-color: transparent;\n",
              "      border-left-color: var(--fill-color);\n",
              "      border-top-color: var(--fill-color);\n",
              "    }\n",
              "    30% {\n",
              "      border-color: transparent;\n",
              "      border-left-color: var(--fill-color);\n",
              "      border-top-color: var(--fill-color);\n",
              "      border-right-color: var(--fill-color);\n",
              "    }\n",
              "    40% {\n",
              "      border-color: transparent;\n",
              "      border-right-color: var(--fill-color);\n",
              "      border-top-color: var(--fill-color);\n",
              "    }\n",
              "    60% {\n",
              "      border-color: transparent;\n",
              "      border-right-color: var(--fill-color);\n",
              "    }\n",
              "    80% {\n",
              "      border-color: transparent;\n",
              "      border-right-color: var(--fill-color);\n",
              "      border-bottom-color: var(--fill-color);\n",
              "    }\n",
              "    90% {\n",
              "      border-color: transparent;\n",
              "      border-bottom-color: var(--fill-color);\n",
              "    }\n",
              "  }\n",
              "</style>\n",
              "\n",
              "  <script>\n",
              "    async function quickchart(key) {\n",
              "      const quickchartButtonEl =\n",
              "        document.querySelector('#' + key + ' button');\n",
              "      quickchartButtonEl.disabled = true;  // To prevent multiple clicks.\n",
              "      quickchartButtonEl.classList.add('colab-df-spinner');\n",
              "      try {\n",
              "        const charts = await google.colab.kernel.invokeFunction(\n",
              "            'suggestCharts', [key], {});\n",
              "      } catch (error) {\n",
              "        console.error('Error during call to suggestCharts:', error);\n",
              "      }\n",
              "      quickchartButtonEl.classList.remove('colab-df-spinner');\n",
              "      quickchartButtonEl.classList.add('colab-df-quickchart-complete');\n",
              "    }\n",
              "    (() => {\n",
              "      let quickchartButtonEl =\n",
              "        document.querySelector('#df-a77e3f6a-027f-4d0a-95f0-c3ed8ebfe721 button');\n",
              "      quickchartButtonEl.style.display =\n",
              "        google.colab.kernel.accessAllowed ? 'block' : 'none';\n",
              "    })();\n",
              "  </script>\n",
              "</div>\n",
              "    </div>\n",
              "  </div>\n"
            ],
            "application/vnd.google.colaboratory.intrinsic+json": {
              "type": "dataframe",
              "summary": "{\n  \"name\": \"print(f\\\"\\\\nNumber of rows and columns in dataset: {df\",\n  \"rows\": 5,\n  \"fields\": [\n    {\n      \"column\": \"id\",\n      \"properties\": {\n        \"dtype\": \"category\",\n        \"num_unique_values\": 2,\n        \"samples\": [\n          \"deu_hn_security\",\n          \"iva_rtu_security\"\n        ],\n        \"semantic_type\": \"\",\n        \"description\": \"\"\n      }\n    },\n    {\n      \"column\": \"University Name\",\n      \"properties\": {\n        \"dtype\": \"string\",\n        \"num_unique_values\": 5,\n        \"samples\": [\n          \"Hochschule Niederrhein\",\n          \"Escuela Internacional de Criminolog\\u00eda y Criminalistica (EICYC)\"\n        ],\n        \"semantic_type\": \"\",\n        \"description\": \"\"\n      }\n    },\n    {\n      \"column\": \"Study Program Name\",\n      \"properties\": {\n        \"dtype\": \"string\",\n        \"num_unique_values\": 5,\n        \"samples\": [\n          \"Cyber Security Management\",\n          \"High Specialization Master in Forensic Computing and Cybercrime\"\n        ],\n        \"semantic_type\": \"\",\n        \"description\": \"\"\n      }\n    },\n    {\n      \"column\": \"City\",\n      \"properties\": {\n        \"dtype\": \"string\",\n        \"num_unique_values\": 5,\n        \"samples\": [\n          \"M\\u00f6nchengladbach\",\n          \"San Juan de Alicante\"\n        ],\n        \"semantic_type\": \"\",\n        \"description\": \"\"\n      }\n    },\n    {\n      \"column\": \"Country\",\n      \"properties\": {\n        \"dtype\": \"string\",\n        \"num_unique_values\": 5,\n        \"samples\": [\n          \"deu\",\n          \"esp\"\n        ],\n        \"semantic_type\": \"\",\n        \"description\": \"\"\n      }\n    },\n    {\n      \"column\": \"Year Established\",\n      \"properties\": {\n        \"dtype\": \"number\",\n        \"std\": 6,\n        \"min\": 2006,\n        \"max\": 2023,\n        \"num_unique_values\": 5,\n        \"samples\": [\n          2020,\n          2006\n        ],\n        \"semantic_type\": \"\",\n        \"description\": \"\"\n      }\n    },\n    {\n      \"column\": \"Description\",\n      \"properties\": {\n        \"dtype\": \"string\",\n        \"num_unique_values\": 5,\n        \"samples\": [\n          \"The study concept offers problem-based learning as a form of learning: given practical problems are solved largely independently, in an action- and practice-oriented manner. With the skills you have acquired, as a graduate of the Cyber Security Management course for companies, you can take on important key tasks in procedural and organizational Information security, IT operations and information technology.\",\n          \"This master offers the student a complete training in Cybersecurity, and forensic. A very practical master's degree developed and taught by active professionals, as well as collaborating International consultants from the United Nations Office on Drugs and Organized Crime. (UNODC)\"\n        ],\n        \"semantic_type\": \"\",\n        \"description\": \"\"\n      }\n    }\n  ]\n}"
            }
          },
          "metadata": {}
        },
        {
          "output_type": "stream",
          "name": "stdout",
          "text": [
            "\n",
            "Number of rows and columns in dataset: (143, 7)\n"
          ]
        }
      ]
    },
    {
      "cell_type": "markdown",
      "source": [
        "We only use two column for the Analysis [Study Program Name] and [Description]"
      ],
      "metadata": {
        "id": "EK_Po762yqVB"
      }
    },
    {
      "cell_type": "code",
      "source": [
        "data = df[['Study Program Name', 'Description']]"
      ],
      "metadata": {
        "id": "9r0fbu4WOW6b"
      },
      "execution_count": null,
      "outputs": []
    },
    {
      "cell_type": "code",
      "source": [
        "# Combining all the clustering attributes into a single column\n",
        "data['program_name_and_description'] = (data['Study Program Name'] + ' ' + data['Description'])\n",
        "data"
      ],
      "metadata": {
        "colab": {
          "base_uri": "https://localhost:8080/",
          "height": 423
        },
        "id": "-uNeYFUZR62j",
        "outputId": "44263446-8a5d-4371-88fc-54ab425aeadb"
      },
      "execution_count": null,
      "outputs": [
        {
          "output_type": "execute_result",
          "data": {
            "text/plain": [
              "                                    Study Program Name  \\\n",
              "0                            Cybersecurity Engineering   \n",
              "1                            Cyber Security Management   \n",
              "2    Cybersecurity specialisation for Computer Scie...   \n",
              "3                                 MSc in Cybersecurity   \n",
              "4    High Specialization Master in Forensic Computi...   \n",
              "..                                                 ...   \n",
              "138  Computer Engineering and Science for Cybersecu...   \n",
              "139  Master of Science in Cyber Risk Strategy and G...   \n",
              "140    Cyber Security, Master of Science in Technology   \n",
              "141  Master in International Cybersecurity and Cybe...   \n",
              "142  CyberMACS- Erasmus Mundus Joint Master’s Degre...   \n",
              "\n",
              "                                           Description  \\\n",
              "0    Brand new study program, with focus on industr...   \n",
              "1    The study concept offers problem-based learnin...   \n",
              "2    The student specialising in cybersecurity will...   \n",
              "3    The MSc in Cybersecurity at EUC addresses the ...   \n",
              "4    This master offers the student a complete trai...   \n",
              "..                                                 ...   \n",
              "138  The course in Computer Engineering and Science...   \n",
              "139  The program gives students the tools required ...   \n",
              "140  The programme is also a part of the EIT Digita...   \n",
              "141  The Master in International Cybersecurity and ...   \n",
              "142  CyberMACS is an Erasmus Mundus Joint Master’s ...   \n",
              "\n",
              "                          program_name_and_description  \n",
              "0    Cybersecurity Engineering Brand new study prog...  \n",
              "1    Cyber Security Management The study concept of...  \n",
              "2    Cybersecurity specialisation for Computer Scie...  \n",
              "3    MSc in Cybersecurity The MSc in Cybersecurity ...  \n",
              "4    High Specialization Master in Forensic Computi...  \n",
              "..                                                 ...  \n",
              "138  Computer Engineering and Science for Cybersecu...  \n",
              "139  Master of Science in Cyber Risk Strategy and G...  \n",
              "140  Cyber Security, Master of Science in Technolog...  \n",
              "141  Master in International Cybersecurity and Cybe...  \n",
              "142  CyberMACS- Erasmus Mundus Joint Master’s Degre...  \n",
              "\n",
              "[143 rows x 3 columns]"
            ],
            "text/html": [
              "\n",
              "  <div id=\"df-53ee566c-e343-43b2-a397-05bad11ac788\" class=\"colab-df-container\">\n",
              "    <div>\n",
              "<style scoped>\n",
              "    .dataframe tbody tr th:only-of-type {\n",
              "        vertical-align: middle;\n",
              "    }\n",
              "\n",
              "    .dataframe tbody tr th {\n",
              "        vertical-align: top;\n",
              "    }\n",
              "\n",
              "    .dataframe thead th {\n",
              "        text-align: right;\n",
              "    }\n",
              "</style>\n",
              "<table border=\"1\" class=\"dataframe\">\n",
              "  <thead>\n",
              "    <tr style=\"text-align: right;\">\n",
              "      <th></th>\n",
              "      <th>Study Program Name</th>\n",
              "      <th>Description</th>\n",
              "      <th>program_name_and_description</th>\n",
              "    </tr>\n",
              "  </thead>\n",
              "  <tbody>\n",
              "    <tr>\n",
              "      <th>0</th>\n",
              "      <td>Cybersecurity Engineering</td>\n",
              "      <td>Brand new study program, with focus on industr...</td>\n",
              "      <td>Cybersecurity Engineering Brand new study prog...</td>\n",
              "    </tr>\n",
              "    <tr>\n",
              "      <th>1</th>\n",
              "      <td>Cyber Security Management</td>\n",
              "      <td>The study concept offers problem-based learnin...</td>\n",
              "      <td>Cyber Security Management The study concept of...</td>\n",
              "    </tr>\n",
              "    <tr>\n",
              "      <th>2</th>\n",
              "      <td>Cybersecurity specialisation for Computer Scie...</td>\n",
              "      <td>The student specialising in cybersecurity will...</td>\n",
              "      <td>Cybersecurity specialisation for Computer Scie...</td>\n",
              "    </tr>\n",
              "    <tr>\n",
              "      <th>3</th>\n",
              "      <td>MSc in Cybersecurity</td>\n",
              "      <td>The MSc in Cybersecurity at EUC addresses the ...</td>\n",
              "      <td>MSc in Cybersecurity The MSc in Cybersecurity ...</td>\n",
              "    </tr>\n",
              "    <tr>\n",
              "      <th>4</th>\n",
              "      <td>High Specialization Master in Forensic Computi...</td>\n",
              "      <td>This master offers the student a complete trai...</td>\n",
              "      <td>High Specialization Master in Forensic Computi...</td>\n",
              "    </tr>\n",
              "    <tr>\n",
              "      <th>...</th>\n",
              "      <td>...</td>\n",
              "      <td>...</td>\n",
              "      <td>...</td>\n",
              "    </tr>\n",
              "    <tr>\n",
              "      <th>138</th>\n",
              "      <td>Computer Engineering and Science for Cybersecu...</td>\n",
              "      <td>The course in Computer Engineering and Science...</td>\n",
              "      <td>Computer Engineering and Science for Cybersecu...</td>\n",
              "    </tr>\n",
              "    <tr>\n",
              "      <th>139</th>\n",
              "      <td>Master of Science in Cyber Risk Strategy and G...</td>\n",
              "      <td>The program gives students the tools required ...</td>\n",
              "      <td>Master of Science in Cyber Risk Strategy and G...</td>\n",
              "    </tr>\n",
              "    <tr>\n",
              "      <th>140</th>\n",
              "      <td>Cyber Security, Master of Science in Technology</td>\n",
              "      <td>The programme is also a part of the EIT Digita...</td>\n",
              "      <td>Cyber Security, Master of Science in Technolog...</td>\n",
              "    </tr>\n",
              "    <tr>\n",
              "      <th>141</th>\n",
              "      <td>Master in International Cybersecurity and Cybe...</td>\n",
              "      <td>The Master in International Cybersecurity and ...</td>\n",
              "      <td>Master in International Cybersecurity and Cybe...</td>\n",
              "    </tr>\n",
              "    <tr>\n",
              "      <th>142</th>\n",
              "      <td>CyberMACS- Erasmus Mundus Joint Master’s Degre...</td>\n",
              "      <td>CyberMACS is an Erasmus Mundus Joint Master’s ...</td>\n",
              "      <td>CyberMACS- Erasmus Mundus Joint Master’s Degre...</td>\n",
              "    </tr>\n",
              "  </tbody>\n",
              "</table>\n",
              "<p>143 rows × 3 columns</p>\n",
              "</div>\n",
              "    <div class=\"colab-df-buttons\">\n",
              "\n",
              "  <div class=\"colab-df-container\">\n",
              "    <button class=\"colab-df-convert\" onclick=\"convertToInteractive('df-53ee566c-e343-43b2-a397-05bad11ac788')\"\n",
              "            title=\"Convert this dataframe to an interactive table.\"\n",
              "            style=\"display:none;\">\n",
              "\n",
              "  <svg xmlns=\"http://www.w3.org/2000/svg\" height=\"24px\" viewBox=\"0 -960 960 960\">\n",
              "    <path d=\"M120-120v-720h720v720H120Zm60-500h600v-160H180v160Zm220 220h160v-160H400v160Zm0 220h160v-160H400v160ZM180-400h160v-160H180v160Zm440 0h160v-160H620v160ZM180-180h160v-160H180v160Zm440 0h160v-160H620v160Z\"/>\n",
              "  </svg>\n",
              "    </button>\n",
              "\n",
              "  <style>\n",
              "    .colab-df-container {\n",
              "      display:flex;\n",
              "      gap: 12px;\n",
              "    }\n",
              "\n",
              "    .colab-df-convert {\n",
              "      background-color: #E8F0FE;\n",
              "      border: none;\n",
              "      border-radius: 50%;\n",
              "      cursor: pointer;\n",
              "      display: none;\n",
              "      fill: #1967D2;\n",
              "      height: 32px;\n",
              "      padding: 0 0 0 0;\n",
              "      width: 32px;\n",
              "    }\n",
              "\n",
              "    .colab-df-convert:hover {\n",
              "      background-color: #E2EBFA;\n",
              "      box-shadow: 0px 1px 2px rgba(60, 64, 67, 0.3), 0px 1px 3px 1px rgba(60, 64, 67, 0.15);\n",
              "      fill: #174EA6;\n",
              "    }\n",
              "\n",
              "    .colab-df-buttons div {\n",
              "      margin-bottom: 4px;\n",
              "    }\n",
              "\n",
              "    [theme=dark] .colab-df-convert {\n",
              "      background-color: #3B4455;\n",
              "      fill: #D2E3FC;\n",
              "    }\n",
              "\n",
              "    [theme=dark] .colab-df-convert:hover {\n",
              "      background-color: #434B5C;\n",
              "      box-shadow: 0px 1px 3px 1px rgba(0, 0, 0, 0.15);\n",
              "      filter: drop-shadow(0px 1px 2px rgba(0, 0, 0, 0.3));\n",
              "      fill: #FFFFFF;\n",
              "    }\n",
              "  </style>\n",
              "\n",
              "    <script>\n",
              "      const buttonEl =\n",
              "        document.querySelector('#df-53ee566c-e343-43b2-a397-05bad11ac788 button.colab-df-convert');\n",
              "      buttonEl.style.display =\n",
              "        google.colab.kernel.accessAllowed ? 'block' : 'none';\n",
              "\n",
              "      async function convertToInteractive(key) {\n",
              "        const element = document.querySelector('#df-53ee566c-e343-43b2-a397-05bad11ac788');\n",
              "        const dataTable =\n",
              "          await google.colab.kernel.invokeFunction('convertToInteractive',\n",
              "                                                    [key], {});\n",
              "        if (!dataTable) return;\n",
              "\n",
              "        const docLinkHtml = 'Like what you see? Visit the ' +\n",
              "          '<a target=\"_blank\" href=https://colab.research.google.com/notebooks/data_table.ipynb>data table notebook</a>'\n",
              "          + ' to learn more about interactive tables.';\n",
              "        element.innerHTML = '';\n",
              "        dataTable['output_type'] = 'display_data';\n",
              "        await google.colab.output.renderOutput(dataTable, element);\n",
              "        const docLink = document.createElement('div');\n",
              "        docLink.innerHTML = docLinkHtml;\n",
              "        element.appendChild(docLink);\n",
              "      }\n",
              "    </script>\n",
              "  </div>\n",
              "\n",
              "\n",
              "<div id=\"df-d9e6eae2-784f-47bb-859b-c7ccc9d5d7cc\">\n",
              "  <button class=\"colab-df-quickchart\" onclick=\"quickchart('df-d9e6eae2-784f-47bb-859b-c7ccc9d5d7cc')\"\n",
              "            title=\"Suggest charts\"\n",
              "            style=\"display:none;\">\n",
              "\n",
              "<svg xmlns=\"http://www.w3.org/2000/svg\" height=\"24px\"viewBox=\"0 0 24 24\"\n",
              "     width=\"24px\">\n",
              "    <g>\n",
              "        <path d=\"M19 3H5c-1.1 0-2 .9-2 2v14c0 1.1.9 2 2 2h14c1.1 0 2-.9 2-2V5c0-1.1-.9-2-2-2zM9 17H7v-7h2v7zm4 0h-2V7h2v10zm4 0h-2v-4h2v4z\"/>\n",
              "    </g>\n",
              "</svg>\n",
              "  </button>\n",
              "\n",
              "<style>\n",
              "  .colab-df-quickchart {\n",
              "      --bg-color: #E8F0FE;\n",
              "      --fill-color: #1967D2;\n",
              "      --hover-bg-color: #E2EBFA;\n",
              "      --hover-fill-color: #174EA6;\n",
              "      --disabled-fill-color: #AAA;\n",
              "      --disabled-bg-color: #DDD;\n",
              "  }\n",
              "\n",
              "  [theme=dark] .colab-df-quickchart {\n",
              "      --bg-color: #3B4455;\n",
              "      --fill-color: #D2E3FC;\n",
              "      --hover-bg-color: #434B5C;\n",
              "      --hover-fill-color: #FFFFFF;\n",
              "      --disabled-bg-color: #3B4455;\n",
              "      --disabled-fill-color: #666;\n",
              "  }\n",
              "\n",
              "  .colab-df-quickchart {\n",
              "    background-color: var(--bg-color);\n",
              "    border: none;\n",
              "    border-radius: 50%;\n",
              "    cursor: pointer;\n",
              "    display: none;\n",
              "    fill: var(--fill-color);\n",
              "    height: 32px;\n",
              "    padding: 0;\n",
              "    width: 32px;\n",
              "  }\n",
              "\n",
              "  .colab-df-quickchart:hover {\n",
              "    background-color: var(--hover-bg-color);\n",
              "    box-shadow: 0 1px 2px rgba(60, 64, 67, 0.3), 0 1px 3px 1px rgba(60, 64, 67, 0.15);\n",
              "    fill: var(--button-hover-fill-color);\n",
              "  }\n",
              "\n",
              "  .colab-df-quickchart-complete:disabled,\n",
              "  .colab-df-quickchart-complete:disabled:hover {\n",
              "    background-color: var(--disabled-bg-color);\n",
              "    fill: var(--disabled-fill-color);\n",
              "    box-shadow: none;\n",
              "  }\n",
              "\n",
              "  .colab-df-spinner {\n",
              "    border: 2px solid var(--fill-color);\n",
              "    border-color: transparent;\n",
              "    border-bottom-color: var(--fill-color);\n",
              "    animation:\n",
              "      spin 1s steps(1) infinite;\n",
              "  }\n",
              "\n",
              "  @keyframes spin {\n",
              "    0% {\n",
              "      border-color: transparent;\n",
              "      border-bottom-color: var(--fill-color);\n",
              "      border-left-color: var(--fill-color);\n",
              "    }\n",
              "    20% {\n",
              "      border-color: transparent;\n",
              "      border-left-color: var(--fill-color);\n",
              "      border-top-color: var(--fill-color);\n",
              "    }\n",
              "    30% {\n",
              "      border-color: transparent;\n",
              "      border-left-color: var(--fill-color);\n",
              "      border-top-color: var(--fill-color);\n",
              "      border-right-color: var(--fill-color);\n",
              "    }\n",
              "    40% {\n",
              "      border-color: transparent;\n",
              "      border-right-color: var(--fill-color);\n",
              "      border-top-color: var(--fill-color);\n",
              "    }\n",
              "    60% {\n",
              "      border-color: transparent;\n",
              "      border-right-color: var(--fill-color);\n",
              "    }\n",
              "    80% {\n",
              "      border-color: transparent;\n",
              "      border-right-color: var(--fill-color);\n",
              "      border-bottom-color: var(--fill-color);\n",
              "    }\n",
              "    90% {\n",
              "      border-color: transparent;\n",
              "      border-bottom-color: var(--fill-color);\n",
              "    }\n",
              "  }\n",
              "</style>\n",
              "\n",
              "  <script>\n",
              "    async function quickchart(key) {\n",
              "      const quickchartButtonEl =\n",
              "        document.querySelector('#' + key + ' button');\n",
              "      quickchartButtonEl.disabled = true;  // To prevent multiple clicks.\n",
              "      quickchartButtonEl.classList.add('colab-df-spinner');\n",
              "      try {\n",
              "        const charts = await google.colab.kernel.invokeFunction(\n",
              "            'suggestCharts', [key], {});\n",
              "      } catch (error) {\n",
              "        console.error('Error during call to suggestCharts:', error);\n",
              "      }\n",
              "      quickchartButtonEl.classList.remove('colab-df-spinner');\n",
              "      quickchartButtonEl.classList.add('colab-df-quickchart-complete');\n",
              "    }\n",
              "    (() => {\n",
              "      let quickchartButtonEl =\n",
              "        document.querySelector('#df-d9e6eae2-784f-47bb-859b-c7ccc9d5d7cc button');\n",
              "      quickchartButtonEl.style.display =\n",
              "        google.colab.kernel.accessAllowed ? 'block' : 'none';\n",
              "    })();\n",
              "  </script>\n",
              "</div>\n",
              "    </div>\n",
              "  </div>\n"
            ],
            "application/vnd.google.colaboratory.intrinsic+json": {
              "type": "dataframe",
              "variable_name": "data",
              "summary": "{\n  \"name\": \"data\",\n  \"rows\": 143,\n  \"fields\": [\n    {\n      \"column\": \"Study Program Name\",\n      \"properties\": {\n        \"dtype\": \"string\",\n        \"num_unique_values\": 116,\n        \"samples\": [\n          \"Master of Permanent Training in Cybersecurity\",\n          \"High Specialization Master in Forensic Computing and Cybercrime\",\n          \"Information Systems and Cyber Security\"\n        ],\n        \"semantic_type\": \"\",\n        \"description\": \"\"\n      }\n    },\n    {\n      \"column\": \"Description\",\n      \"properties\": {\n        \"dtype\": \"string\",\n        \"num_unique_values\": 143,\n        \"samples\": [\n          \"The master of science in cybersecurity is offered by 4 universities and 2 University College in Brussels in a multicultural environment. Key topics are Cryptography, Systems and Networks, Legal, ethics, and human aspects Management of the Security and Secure software engineering.\",\n          \"The Master\\u2019s programme in Network Forensics has a multidisciplinary connection to technology and social sciences. During the programme, you build theoretical and practical skills for work in IT forensic network analysis. You also develop in-depth knowledge of data mining, cybersecurity and investigation into cybercrime. The programme maps to the following European Cybersecurity Skills Framework (ECSF) roles: - Digital Forensics Investigator - Cyber Incident Responder - Cyber Threat Intelligent Specialist\",\n          \"Multiple teaching & training modalities utilized: synchronous & asynchronous delivery and training, state-of-the-art online cybersecurity laboratories equivalent to professional training environments, invited speakers from the industry, access to enriched e-learning material. Programme is also available in conventional delivery.\"\n        ],\n        \"semantic_type\": \"\",\n        \"description\": \"\"\n      }\n    },\n    {\n      \"column\": \"program_name_and_description\",\n      \"properties\": {\n        \"dtype\": \"string\",\n        \"num_unique_values\": 143,\n        \"samples\": [\n          \"Master of Science in Cybersecurity The master of science in cybersecurity is offered by 4 universities and 2 University College in Brussels in a multicultural environment. Key topics are Cryptography, Systems and Networks, Legal, ethics, and human aspects Management of the Security and Secure software engineering.\",\n          \"Master's Programme  in Network Forensics The Master\\u2019s programme in Network Forensics has a multidisciplinary connection to technology and social sciences. During the programme, you build theoretical and practical skills for work in IT forensic network analysis. You also develop in-depth knowledge of data mining, cybersecurity and investigation into cybercrime. The programme maps to the following European Cybersecurity Skills Framework (ECSF) roles: - Digital Forensics Investigator - Cyber Incident Responder - Cyber Threat Intelligent Specialist\",\n          \"MSc Cybersecurity Multiple teaching & training modalities utilized: synchronous & asynchronous delivery and training, state-of-the-art online cybersecurity laboratories equivalent to professional training environments, invited speakers from the industry, access to enriched e-learning material. Programme is also available in conventional delivery.\"\n        ],\n        \"semantic_type\": \"\",\n        \"description\": \"\"\n      }\n    }\n  ]\n}"
            }
          },
          "metadata": {},
          "execution_count": 5
        }
      ]
    },
    {
      "cell_type": "markdown",
      "source": [
        "# 1. Exploratory Data Analysis and Text Preprocessing"
      ],
      "metadata": {
        "id": "OLD5W3sOzAA5"
      }
    },
    {
      "cell_type": "code",
      "source": [
        "unique_list = []\n",
        "for col in df.columns:\n",
        "    # creating tuple: column name, number of unique values, type\n",
        "    item = (col, df[col].nunique(), df[col].dtypes, df[col].unique())\n",
        "    unique_list.append(item)\n",
        "\n",
        "unique_counts = pd.DataFrame(\n",
        "    unique_list,\n",
        "    columns=[\"Column_Name\", \"Num_Unique\", \"Type\", \"Unique_category\"]\n",
        ").sort_values(by=\"Num_Unique\")\n",
        "\n",
        "\n",
        "display(unique_counts)"
      ],
      "metadata": {
        "colab": {
          "base_uri": "https://localhost:8080/",
          "height": 269
        },
        "id": "HkiqPJ0RzXkk",
        "outputId": "3c674216-a3d7-4ef2-a070-88a0613d1c39"
      },
      "execution_count": null,
      "outputs": [
        {
          "output_type": "display_data",
          "data": {
            "text/plain": [
              "          Column_Name  Num_Unique    Type  \\\n",
              "0                  id           2  object   \n",
              "5    Year Established          24   int64   \n",
              "4             Country          29  object   \n",
              "3                City         100  object   \n",
              "2  Study Program Name         116  object   \n",
              "1     University Name         118  object   \n",
              "6         Description         143  object   \n",
              "\n",
              "                                     Unique_category  \n",
              "0           [iva_rtu_security, deu_hn_security, nan]  \n",
              "5  [2021, 2020, 2023, 2017, 2006, 2019, 2000, 200...  \n",
              "4  [lva, deu, fin, cyp, esp, bgr, aut, ita, pol, ...  \n",
              "3  [Riga, Mönchengladbach, Oulu, Nicosia, San Jua...  \n",
              "2  [Cybersecurity Engineering, Cyber Security Man...  \n",
              "1  [Riga Technical University, Hochschule Niederr...  \n",
              "6  [Brand new study program, with focus on indust...  "
            ],
            "text/html": [
              "\n",
              "  <div id=\"df-891ac241-e3c5-4c39-aedd-b8d9f1ef3b3b\" class=\"colab-df-container\">\n",
              "    <div>\n",
              "<style scoped>\n",
              "    .dataframe tbody tr th:only-of-type {\n",
              "        vertical-align: middle;\n",
              "    }\n",
              "\n",
              "    .dataframe tbody tr th {\n",
              "        vertical-align: top;\n",
              "    }\n",
              "\n",
              "    .dataframe thead th {\n",
              "        text-align: right;\n",
              "    }\n",
              "</style>\n",
              "<table border=\"1\" class=\"dataframe\">\n",
              "  <thead>\n",
              "    <tr style=\"text-align: right;\">\n",
              "      <th></th>\n",
              "      <th>Column_Name</th>\n",
              "      <th>Num_Unique</th>\n",
              "      <th>Type</th>\n",
              "      <th>Unique_category</th>\n",
              "    </tr>\n",
              "  </thead>\n",
              "  <tbody>\n",
              "    <tr>\n",
              "      <th>0</th>\n",
              "      <td>id</td>\n",
              "      <td>2</td>\n",
              "      <td>object</td>\n",
              "      <td>[iva_rtu_security, deu_hn_security, nan]</td>\n",
              "    </tr>\n",
              "    <tr>\n",
              "      <th>5</th>\n",
              "      <td>Year Established</td>\n",
              "      <td>24</td>\n",
              "      <td>int64</td>\n",
              "      <td>[2021, 2020, 2023, 2017, 2006, 2019, 2000, 200...</td>\n",
              "    </tr>\n",
              "    <tr>\n",
              "      <th>4</th>\n",
              "      <td>Country</td>\n",
              "      <td>29</td>\n",
              "      <td>object</td>\n",
              "      <td>[lva, deu, fin, cyp, esp, bgr, aut, ita, pol, ...</td>\n",
              "    </tr>\n",
              "    <tr>\n",
              "      <th>3</th>\n",
              "      <td>City</td>\n",
              "      <td>100</td>\n",
              "      <td>object</td>\n",
              "      <td>[Riga, Mönchengladbach, Oulu, Nicosia, San Jua...</td>\n",
              "    </tr>\n",
              "    <tr>\n",
              "      <th>2</th>\n",
              "      <td>Study Program Name</td>\n",
              "      <td>116</td>\n",
              "      <td>object</td>\n",
              "      <td>[Cybersecurity Engineering, Cyber Security Man...</td>\n",
              "    </tr>\n",
              "    <tr>\n",
              "      <th>1</th>\n",
              "      <td>University Name</td>\n",
              "      <td>118</td>\n",
              "      <td>object</td>\n",
              "      <td>[Riga Technical University, Hochschule Niederr...</td>\n",
              "    </tr>\n",
              "    <tr>\n",
              "      <th>6</th>\n",
              "      <td>Description</td>\n",
              "      <td>143</td>\n",
              "      <td>object</td>\n",
              "      <td>[Brand new study program, with focus on indust...</td>\n",
              "    </tr>\n",
              "  </tbody>\n",
              "</table>\n",
              "</div>\n",
              "    <div class=\"colab-df-buttons\">\n",
              "\n",
              "  <div class=\"colab-df-container\">\n",
              "    <button class=\"colab-df-convert\" onclick=\"convertToInteractive('df-891ac241-e3c5-4c39-aedd-b8d9f1ef3b3b')\"\n",
              "            title=\"Convert this dataframe to an interactive table.\"\n",
              "            style=\"display:none;\">\n",
              "\n",
              "  <svg xmlns=\"http://www.w3.org/2000/svg\" height=\"24px\" viewBox=\"0 -960 960 960\">\n",
              "    <path d=\"M120-120v-720h720v720H120Zm60-500h600v-160H180v160Zm220 220h160v-160H400v160Zm0 220h160v-160H400v160ZM180-400h160v-160H180v160Zm440 0h160v-160H620v160ZM180-180h160v-160H180v160Zm440 0h160v-160H620v160Z\"/>\n",
              "  </svg>\n",
              "    </button>\n",
              "\n",
              "  <style>\n",
              "    .colab-df-container {\n",
              "      display:flex;\n",
              "      gap: 12px;\n",
              "    }\n",
              "\n",
              "    .colab-df-convert {\n",
              "      background-color: #E8F0FE;\n",
              "      border: none;\n",
              "      border-radius: 50%;\n",
              "      cursor: pointer;\n",
              "      display: none;\n",
              "      fill: #1967D2;\n",
              "      height: 32px;\n",
              "      padding: 0 0 0 0;\n",
              "      width: 32px;\n",
              "    }\n",
              "\n",
              "    .colab-df-convert:hover {\n",
              "      background-color: #E2EBFA;\n",
              "      box-shadow: 0px 1px 2px rgba(60, 64, 67, 0.3), 0px 1px 3px 1px rgba(60, 64, 67, 0.15);\n",
              "      fill: #174EA6;\n",
              "    }\n",
              "\n",
              "    .colab-df-buttons div {\n",
              "      margin-bottom: 4px;\n",
              "    }\n",
              "\n",
              "    [theme=dark] .colab-df-convert {\n",
              "      background-color: #3B4455;\n",
              "      fill: #D2E3FC;\n",
              "    }\n",
              "\n",
              "    [theme=dark] .colab-df-convert:hover {\n",
              "      background-color: #434B5C;\n",
              "      box-shadow: 0px 1px 3px 1px rgba(0, 0, 0, 0.15);\n",
              "      filter: drop-shadow(0px 1px 2px rgba(0, 0, 0, 0.3));\n",
              "      fill: #FFFFFF;\n",
              "    }\n",
              "  </style>\n",
              "\n",
              "    <script>\n",
              "      const buttonEl =\n",
              "        document.querySelector('#df-891ac241-e3c5-4c39-aedd-b8d9f1ef3b3b button.colab-df-convert');\n",
              "      buttonEl.style.display =\n",
              "        google.colab.kernel.accessAllowed ? 'block' : 'none';\n",
              "\n",
              "      async function convertToInteractive(key) {\n",
              "        const element = document.querySelector('#df-891ac241-e3c5-4c39-aedd-b8d9f1ef3b3b');\n",
              "        const dataTable =\n",
              "          await google.colab.kernel.invokeFunction('convertToInteractive',\n",
              "                                                    [key], {});\n",
              "        if (!dataTable) return;\n",
              "\n",
              "        const docLinkHtml = 'Like what you see? Visit the ' +\n",
              "          '<a target=\"_blank\" href=https://colab.research.google.com/notebooks/data_table.ipynb>data table notebook</a>'\n",
              "          + ' to learn more about interactive tables.';\n",
              "        element.innerHTML = '';\n",
              "        dataTable['output_type'] = 'display_data';\n",
              "        await google.colab.output.renderOutput(dataTable, element);\n",
              "        const docLink = document.createElement('div');\n",
              "        docLink.innerHTML = docLinkHtml;\n",
              "        element.appendChild(docLink);\n",
              "      }\n",
              "    </script>\n",
              "  </div>\n",
              "\n",
              "\n",
              "<div id=\"df-949869a7-747d-4e40-afb2-db4a081a83ef\">\n",
              "  <button class=\"colab-df-quickchart\" onclick=\"quickchart('df-949869a7-747d-4e40-afb2-db4a081a83ef')\"\n",
              "            title=\"Suggest charts\"\n",
              "            style=\"display:none;\">\n",
              "\n",
              "<svg xmlns=\"http://www.w3.org/2000/svg\" height=\"24px\"viewBox=\"0 0 24 24\"\n",
              "     width=\"24px\">\n",
              "    <g>\n",
              "        <path d=\"M19 3H5c-1.1 0-2 .9-2 2v14c0 1.1.9 2 2 2h14c1.1 0 2-.9 2-2V5c0-1.1-.9-2-2-2zM9 17H7v-7h2v7zm4 0h-2V7h2v10zm4 0h-2v-4h2v4z\"/>\n",
              "    </g>\n",
              "</svg>\n",
              "  </button>\n",
              "\n",
              "<style>\n",
              "  .colab-df-quickchart {\n",
              "      --bg-color: #E8F0FE;\n",
              "      --fill-color: #1967D2;\n",
              "      --hover-bg-color: #E2EBFA;\n",
              "      --hover-fill-color: #174EA6;\n",
              "      --disabled-fill-color: #AAA;\n",
              "      --disabled-bg-color: #DDD;\n",
              "  }\n",
              "\n",
              "  [theme=dark] .colab-df-quickchart {\n",
              "      --bg-color: #3B4455;\n",
              "      --fill-color: #D2E3FC;\n",
              "      --hover-bg-color: #434B5C;\n",
              "      --hover-fill-color: #FFFFFF;\n",
              "      --disabled-bg-color: #3B4455;\n",
              "      --disabled-fill-color: #666;\n",
              "  }\n",
              "\n",
              "  .colab-df-quickchart {\n",
              "    background-color: var(--bg-color);\n",
              "    border: none;\n",
              "    border-radius: 50%;\n",
              "    cursor: pointer;\n",
              "    display: none;\n",
              "    fill: var(--fill-color);\n",
              "    height: 32px;\n",
              "    padding: 0;\n",
              "    width: 32px;\n",
              "  }\n",
              "\n",
              "  .colab-df-quickchart:hover {\n",
              "    background-color: var(--hover-bg-color);\n",
              "    box-shadow: 0 1px 2px rgba(60, 64, 67, 0.3), 0 1px 3px 1px rgba(60, 64, 67, 0.15);\n",
              "    fill: var(--button-hover-fill-color);\n",
              "  }\n",
              "\n",
              "  .colab-df-quickchart-complete:disabled,\n",
              "  .colab-df-quickchart-complete:disabled:hover {\n",
              "    background-color: var(--disabled-bg-color);\n",
              "    fill: var(--disabled-fill-color);\n",
              "    box-shadow: none;\n",
              "  }\n",
              "\n",
              "  .colab-df-spinner {\n",
              "    border: 2px solid var(--fill-color);\n",
              "    border-color: transparent;\n",
              "    border-bottom-color: var(--fill-color);\n",
              "    animation:\n",
              "      spin 1s steps(1) infinite;\n",
              "  }\n",
              "\n",
              "  @keyframes spin {\n",
              "    0% {\n",
              "      border-color: transparent;\n",
              "      border-bottom-color: var(--fill-color);\n",
              "      border-left-color: var(--fill-color);\n",
              "    }\n",
              "    20% {\n",
              "      border-color: transparent;\n",
              "      border-left-color: var(--fill-color);\n",
              "      border-top-color: var(--fill-color);\n",
              "    }\n",
              "    30% {\n",
              "      border-color: transparent;\n",
              "      border-left-color: var(--fill-color);\n",
              "      border-top-color: var(--fill-color);\n",
              "      border-right-color: var(--fill-color);\n",
              "    }\n",
              "    40% {\n",
              "      border-color: transparent;\n",
              "      border-right-color: var(--fill-color);\n",
              "      border-top-color: var(--fill-color);\n",
              "    }\n",
              "    60% {\n",
              "      border-color: transparent;\n",
              "      border-right-color: var(--fill-color);\n",
              "    }\n",
              "    80% {\n",
              "      border-color: transparent;\n",
              "      border-right-color: var(--fill-color);\n",
              "      border-bottom-color: var(--fill-color);\n",
              "    }\n",
              "    90% {\n",
              "      border-color: transparent;\n",
              "      border-bottom-color: var(--fill-color);\n",
              "    }\n",
              "  }\n",
              "</style>\n",
              "\n",
              "  <script>\n",
              "    async function quickchart(key) {\n",
              "      const quickchartButtonEl =\n",
              "        document.querySelector('#' + key + ' button');\n",
              "      quickchartButtonEl.disabled = true;  // To prevent multiple clicks.\n",
              "      quickchartButtonEl.classList.add('colab-df-spinner');\n",
              "      try {\n",
              "        const charts = await google.colab.kernel.invokeFunction(\n",
              "            'suggestCharts', [key], {});\n",
              "      } catch (error) {\n",
              "        console.error('Error during call to suggestCharts:', error);\n",
              "      }\n",
              "      quickchartButtonEl.classList.remove('colab-df-spinner');\n",
              "      quickchartButtonEl.classList.add('colab-df-quickchart-complete');\n",
              "    }\n",
              "    (() => {\n",
              "      let quickchartButtonEl =\n",
              "        document.querySelector('#df-949869a7-747d-4e40-afb2-db4a081a83ef button');\n",
              "      quickchartButtonEl.style.display =\n",
              "        google.colab.kernel.accessAllowed ? 'block' : 'none';\n",
              "    })();\n",
              "  </script>\n",
              "</div>\n",
              "    </div>\n",
              "  </div>\n"
            ],
            "application/vnd.google.colaboratory.intrinsic+json": {
              "type": "dataframe",
              "variable_name": "unique_counts",
              "summary": "{\n  \"name\": \"unique_counts\",\n  \"rows\": 7,\n  \"fields\": [\n    {\n      \"column\": \"Column_Name\",\n      \"properties\": {\n        \"dtype\": \"string\",\n        \"num_unique_values\": 7,\n        \"samples\": [\n          \"id\",\n          \"Year Established\",\n          \"University Name\"\n        ],\n        \"semantic_type\": \"\",\n        \"description\": \"\"\n      }\n    },\n    {\n      \"column\": \"Num_Unique\",\n      \"properties\": {\n        \"dtype\": \"number\",\n        \"std\": 56,\n        \"min\": 2,\n        \"max\": 143,\n        \"num_unique_values\": 7,\n        \"samples\": [\n          2,\n          24,\n          118\n        ],\n        \"semantic_type\": \"\",\n        \"description\": \"\"\n      }\n    },\n    {\n      \"column\": \"Type\",\n      \"properties\": {\n        \"dtype\": \"category\",\n        \"num_unique_values\": 2,\n        \"samples\": [\n          \"int64\",\n          \"object\"\n        ],\n        \"semantic_type\": \"\",\n        \"description\": \"\"\n      }\n    },\n    {\n      \"column\": \"Unique_category\",\n      \"properties\": {\n        \"dtype\": \"object\",\n        \"semantic_type\": \"\",\n        \"description\": \"\"\n      }\n    }\n  ]\n}"
            }
          },
          "metadata": {}
        }
      ]
    },
    {
      "cell_type": "code",
      "source": [
        "# coordinate systems visualization\n",
        "fig, axes = plt.subplots(nrows=1, ncols=2, figsize=(15,5))\n",
        "\n",
        "# Bar chart for timeline of each year established\n",
        "sns.countplot(\n",
        "    x=\"Year Established\",\n",
        "    data=df,\n",
        "    ax=axes[0]\n",
        ")\n",
        "axes[0].set_title(\"Number of Study Programs Based On Year Established\", fontsize=16)\n",
        "axes[0].set_xlabel(\"Year Established\", fontsize=14)\n",
        "axes[0].set_ylabel(\"Number of Study Programs\", fontsize=14)\n",
        "axes[0].tick_params(axis='x', rotation=45)\n",
        "\n",
        "# Bar chart for country with the most number of programs\n",
        "country_counts = df[\"Country\"].value_counts().sort_values(ascending=False)\n",
        "top_country = country_counts.head(10)\n",
        "\n",
        "sns.barplot(\n",
        "    x=top_country.index,\n",
        "    y=top_country.values,\n",
        "    ax=axes[1]\n",
        ")\n",
        "axes[1].set_title(\"Top 10 Country by Number of Programs\", fontsize=16)\n",
        "axes[1].set_xlabel(\"Country\", fontsize=14)\n",
        "axes[1].set_ylabel(\"Number of Programs\", fontsize=14)\n",
        "axes[1].tick_params(axis='x', rotation=45)\n",
        "\n",
        "plt.tight_layout()\n",
        "plt.show()"
      ],
      "metadata": {
        "colab": {
          "base_uri": "https://localhost:8080/",
          "height": 478
        },
        "id": "qY84MsyJ0lA7",
        "outputId": "3f9de7e9-6208-430f-cece-4416407f2dbe"
      },
      "execution_count": null,
      "outputs": [
        {
          "output_type": "display_data",
          "data": {
            "text/plain": [
              "<Figure size 1500x500 with 2 Axes>"
            ],
            "image/png": "[encoded data removed]"
          },
          "metadata": {}
        }
      ]
    },
    {
      "cell_type": "markdown",
      "source": [
        "## Text preprocessing is the practice of cleaning and preparing text data. This is one of the most crucial steps in the process.\n",
        "\n",
        "Using NLTK, study program title and description are then pre-processed with the following:\n",
        "\n",
        "**tokenization** — convert sentences to words converting the text to lower case\n",
        "\n",
        "**stopwords removal** - frequent words which have not any semantic sense\n",
        "removing punctuation, numerical values, some extra examples\n",
        "\n",
        "**lemmatization** - convert the word into a root word\n",
        "using WordNetLemmatizer in order to get correct word form based on the context\n",
        "\n",
        "**vectorization** - numerically representation of text (tf-idf vectorization)"
      ],
      "metadata": {
        "id": "4KB-BLc6AS-X"
      }
    },
    {
      "cell_type": "code",
      "source": [
        "print(SnowballStemmer(\"english\").stem(\"enginering\"))\n",
        "print(SnowballStemmer(\"english\", ignore_stopwords=True).stem(\"having\"))"
      ],
      "metadata": {
        "colab": {
          "base_uri": "https://localhost:8080/"
        },
        "id": "CnndB45NmP_h",
        "outputId": "5bca7b47-f9b9-41e6-86d1-a4c1459e80e3"
      },
      "execution_count": null,
      "outputs": [
        {
          "output_type": "stream",
          "name": "stdout",
          "text": [
            "engin\n",
            "having\n"
          ]
        }
      ]
    },
    {
      "cell_type": "code",
      "source": [
        "import re\n",
        "def get_wordnet_pos(word):\n",
        "    \"\"\"Map POS tag to first character lemmatize() accepts\"\"\"\n",
        "    tag = pos_tag([word])[0][1][0].upper()\n",
        "    tag_dict = {\"J\": wordnet.ADJ,\n",
        "                \"N\": wordnet.NOUN,\n",
        "                \"V\": wordnet.VERB,\n",
        "                \"R\": wordnet.ADV}\n",
        "\n",
        "    return tag_dict.get(tag, wordnet.NOUN)\n",
        "\n",
        "# Remove HTML elements\n",
        "data['cleaning_process'] = data['program_name_and_description'].str.replace(r'<[^<>]*>', '', regex=True)\n",
        "# Remove special characters, numbers and multiple space\n",
        "data['cleaning_process'] = data['cleaning_process'].str.replace(r'[^\\w\\s]|[\\d]', '', regex=True)\n",
        "# Remove multiple space\n",
        "data['cleaning_process'] = data['cleaning_process'].str.replace(r'\\s+', ' ', regex=True)\n",
        "# Lowercase\n",
        "data['cleaning_process'] = data['cleaning_process'].str.lower()\n",
        "# Tokenize the cleaned description\n",
        "data['clean_token'] = data['cleaning_process'].apply(lambda x: nlp(x))\n",
        "# Remove stop words and lemmatization\n",
        "from spacy.lang.en.stop_words import STOP_WORDS\n",
        "lemmatizer = WordNetLemmatizer()\n",
        "data['clean_tokens_lemma'] = data['clean_token'].apply(lambda x: [lemmatizer.lemmatize(token.text, get_wordnet_pos(token.text)) for token in x if token.text not in STOP_WORDS])\n",
        "data['clean_tokens_stopword'] = data['clean_token'].apply(lambda x: [token.text for token in x if token.text not in STOP_WORDS])\n",
        "# Count to total of each tokens\n",
        "data[\"token_number_lemma\"] = data[\"clean_tokens_lemma\"].apply(lambda x: len(x))\n",
        "data[\"token_number_stopword\"] = data[\"clean_tokens_stopword\"].apply(lambda x: len(x))\n",
        "# Put back tokens into one single string\n",
        "data[\"clean_document_lemma\"] = [\" \".join(x) for x in data['clean_tokens_lemma']]\n",
        "data[\"clean_document_stopword\"] = [\" \".join(x) for x in data['clean_tokens_stopword']]"
      ],
      "metadata": {
        "id": "SMnvmo81tOcH"
      },
      "execution_count": null,
      "outputs": []
    },
    {
      "cell_type": "code",
      "source": [
        "data.head()"
      ],
      "metadata": {
        "colab": {
          "base_uri": "https://localhost:8080/",
          "height": 625
        },
        "id": "wwYWiMW4udxL",
        "outputId": "f7a2f3ad-36f3-4e5f-82ee-187fb083fdc0"
      },
      "execution_count": null,
      "outputs": [
        {
          "output_type": "execute_result",
          "data": {
            "text/plain": [
              "                                  Study Program Name  \\\n",
              "0                          Cybersecurity Engineering   \n",
              "1                          Cyber Security Management   \n",
              "2  Cybersecurity specialisation for Computer Scie...   \n",
              "3                               MSc in Cybersecurity   \n",
              "4  High Specialization Master in Forensic Computi...   \n",
              "\n",
              "                                         Description  \\\n",
              "0  Brand new study program, with focus on industr...   \n",
              "1  The study concept offers problem-based learnin...   \n",
              "2  The student specialising in cybersecurity will...   \n",
              "3  The MSc in Cybersecurity at EUC addresses the ...   \n",
              "4  This master offers the student a complete trai...   \n",
              "\n",
              "                        program_name_and_description  \\\n",
              "0  Cybersecurity Engineering Brand new study prog...   \n",
              "1  Cyber Security Management The study concept of...   \n",
              "2  Cybersecurity specialisation for Computer Scie...   \n",
              "3  MSc in Cybersecurity The MSc in Cybersecurity ...   \n",
              "4  High Specialization Master in Forensic Computi...   \n",
              "\n",
              "                                    cleaning_process  \\\n",
              "0  cybersecurity engineering brand new study prog...   \n",
              "1  cyber security management the study concept of...   \n",
              "2  cybersecurity specialisation for computer scie...   \n",
              "3  msc in cybersecurity the msc in cybersecurity ...   \n",
              "4  high specialization master in forensic computi...   \n",
              "\n",
              "                                         clean_token  \\\n",
              "0  (cybersecurity, engineering, brand, new, study...   \n",
              "1  (cyber, security, management, the, study, conc...   \n",
              "2  (cybersecurity, specialisation, for, computer,...   \n",
              "3  (msc, in, cybersecurity, the, msc, in, cyberse...   \n",
              "4  (high, specialization, master, in, forensic, c...   \n",
              "\n",
              "                                  clean_tokens_lemma  \\\n",
              "0  [cybersecurity, engineering, brand, new, study...   \n",
              "1  [cyber, security, management, study, concept, ...   \n",
              "2  [cybersecurity, specialisation, computer, scie...   \n",
              "3  [msc, cybersecurity, msc, cybersecurity, euc, ...   \n",
              "4  [high, specialization, master, forensic, compu...   \n",
              "\n",
              "                               clean_tokens_stopword  token_number_lemma  \\\n",
              "0  [cybersecurity, engineering, brand, new, study...                  47   \n",
              "1  [cyber, security, management, study, concept, ...                  37   \n",
              "2  [cybersecurity, specialisation, computer, scie...                  39   \n",
              "3  [msc, cybersecurity, msc, cybersecurity, euc, ...                  49   \n",
              "4  [high, specialization, master, forensic, compu...                  30   \n",
              "\n",
              "   token_number_stopword                               clean_document_lemma  \\\n",
              "0                     47  cybersecurity engineering brand new study prog...   \n",
              "1                     37  cyber security management study concept offer ...   \n",
              "2                     39  cybersecurity specialisation computer science ...   \n",
              "3                     49  msc cybersecurity msc cybersecurity euc addres...   \n",
              "4                     30  high specialization master forensic compute cy...   \n",
              "\n",
              "                             clean_document_stopword  \n",
              "0  cybersecurity engineering brand new study prog...  \n",
              "1  cyber security management study concept offers...  \n",
              "2  cybersecurity specialisation computer science ...  \n",
              "3  msc cybersecurity msc cybersecurity euc addres...  \n",
              "4  high specialization master forensic computing ...  "
            ],
            "text/html": [
              "\n",
              "  <div id=\"df-5934f68a-75e2-4a12-9bc7-4299bdff7c02\" class=\"colab-df-container\">\n",
              "    <div>\n",
              "<style scoped>\n",
              "    .dataframe tbody tr th:only-of-type {\n",
              "        vertical-align: middle;\n",
              "    }\n",
              "\n",
              "    .dataframe tbody tr th {\n",
              "        vertical-align: top;\n",
              "    }\n",
              "\n",
              "    .dataframe thead th {\n",
              "        text-align: right;\n",
              "    }\n",
              "</style>\n",
              "<table border=\"1\" class=\"dataframe\">\n",
              "  <thead>\n",
              "    <tr style=\"text-align: right;\">\n",
              "      <th></th>\n",
              "      <th>Study Program Name</th>\n",
              "      <th>Description</th>\n",
              "      <th>program_name_and_description</th>\n",
              "      <th>cleaning_process</th>\n",
              "      <th>clean_token</th>\n",
              "      <th>clean_tokens_lemma</th>\n",
              "      <th>clean_tokens_stopword</th>\n",
              "      <th>token_number_lemma</th>\n",
              "      <th>token_number_stopword</th>\n",
              "      <th>clean_document_lemma</th>\n",
              "      <th>clean_document_stopword</th>\n",
              "    </tr>\n",
              "  </thead>\n",
              "  <tbody>\n",
              "    <tr>\n",
              "      <th>0</th>\n",
              "      <td>Cybersecurity Engineering</td>\n",
              "      <td>Brand new study program, with focus on industr...</td>\n",
              "      <td>Cybersecurity Engineering Brand new study prog...</td>\n",
              "      <td>cybersecurity engineering brand new study prog...</td>\n",
              "      <td>(cybersecurity, engineering, brand, new, study...</td>\n",
              "      <td>[cybersecurity, engineering, brand, new, study...</td>\n",
              "      <td>[cybersecurity, engineering, brand, new, study...</td>\n",
              "      <td>47</td>\n",
              "      <td>47</td>\n",
              "      <td>cybersecurity engineering brand new study prog...</td>\n",
              "      <td>cybersecurity engineering brand new study prog...</td>\n",
              "    </tr>\n",
              "    <tr>\n",
              "      <th>1</th>\n",
              "      <td>Cyber Security Management</td>\n",
              "      <td>The study concept offers problem-based learnin...</td>\n",
              "      <td>Cyber Security Management The study concept of...</td>\n",
              "      <td>cyber security management the study concept of...</td>\n",
              "      <td>(cyber, security, management, the, study, conc...</td>\n",
              "      <td>[cyber, security, management, study, concept, ...</td>\n",
              "      <td>[cyber, security, management, study, concept, ...</td>\n",
              "      <td>37</td>\n",
              "      <td>37</td>\n",
              "      <td>cyber security management study concept offer ...</td>\n",
              "      <td>cyber security management study concept offers...</td>\n",
              "    </tr>\n",
              "    <tr>\n",
              "      <th>2</th>\n",
              "      <td>Cybersecurity specialisation for Computer Scie...</td>\n",
              "      <td>The student specialising in cybersecurity will...</td>\n",
              "      <td>Cybersecurity specialisation for Computer Scie...</td>\n",
              "      <td>cybersecurity specialisation for computer scie...</td>\n",
              "      <td>(cybersecurity, specialisation, for, computer,...</td>\n",
              "      <td>[cybersecurity, specialisation, computer, scie...</td>\n",
              "      <td>[cybersecurity, specialisation, computer, scie...</td>\n",
              "      <td>39</td>\n",
              "      <td>39</td>\n",
              "      <td>cybersecurity specialisation computer science ...</td>\n",
              "      <td>cybersecurity specialisation computer science ...</td>\n",
              "    </tr>\n",
              "    <tr>\n",
              "      <th>3</th>\n",
              "      <td>MSc in Cybersecurity</td>\n",
              "      <td>The MSc in Cybersecurity at EUC addresses the ...</td>\n",
              "      <td>MSc in Cybersecurity The MSc in Cybersecurity ...</td>\n",
              "      <td>msc in cybersecurity the msc in cybersecurity ...</td>\n",
              "      <td>(msc, in, cybersecurity, the, msc, in, cyberse...</td>\n",
              "      <td>[msc, cybersecurity, msc, cybersecurity, euc, ...</td>\n",
              "      <td>[msc, cybersecurity, msc, cybersecurity, euc, ...</td>\n",
              "      <td>49</td>\n",
              "      <td>49</td>\n",
              "      <td>msc cybersecurity msc cybersecurity euc addres...</td>\n",
              "      <td>msc cybersecurity msc cybersecurity euc addres...</td>\n",
              "    </tr>\n",
              "    <tr>\n",
              "      <th>4</th>\n",
              "      <td>High Specialization Master in Forensic Computi...</td>\n",
              "      <td>This master offers the student a complete trai...</td>\n",
              "      <td>High Specialization Master in Forensic Computi...</td>\n",
              "      <td>high specialization master in forensic computi...</td>\n",
              "      <td>(high, specialization, master, in, forensic, c...</td>\n",
              "      <td>[high, specialization, master, forensic, compu...</td>\n",
              "      <td>[high, specialization, master, forensic, compu...</td>\n",
              "      <td>30</td>\n",
              "      <td>30</td>\n",
              "      <td>high specialization master forensic compute cy...</td>\n",
              "      <td>high specialization master forensic computing ...</td>\n",
              "    </tr>\n",
              "  </tbody>\n",
              "</table>\n",
              "</div>\n",
              "    <div class=\"colab-df-buttons\">\n",
              "\n",
              "  <div class=\"colab-df-container\">\n",
              "    <button class=\"colab-df-convert\" onclick=\"convertToInteractive('df-5934f68a-75e2-4a12-9bc7-4299bdff7c02')\"\n",
              "            title=\"Convert this dataframe to an interactive table.\"\n",
              "            style=\"display:none;\">\n",
              "\n",
              "  <svg xmlns=\"http://www.w3.org/2000/svg\" height=\"24px\" viewBox=\"0 -960 960 960\">\n",
              "    <path d=\"M120-120v-720h720v720H120Zm60-500h600v-160H180v160Zm220 220h160v-160H400v160Zm0 220h160v-160H400v160ZM180-400h160v-160H180v160Zm440 0h160v-160H620v160ZM180-180h160v-160H180v160Zm440 0h160v-160H620v160Z\"/>\n",
              "  </svg>\n",
              "    </button>\n",
              "\n",
              "  <style>\n",
              "    .colab-df-container {\n",
              "      display:flex;\n",
              "      gap: 12px;\n",
              "    }\n",
              "\n",
              "    .colab-df-convert {\n",
              "      background-color: #E8F0FE;\n",
              "      border: none;\n",
              "      border-radius: 50%;\n",
              "      cursor: pointer;\n",
              "      display: none;\n",
              "      fill: #1967D2;\n",
              "      height: 32px;\n",
              "      padding: 0 0 0 0;\n",
              "      width: 32px;\n",
              "    }\n",
              "\n",
              "    .colab-df-convert:hover {\n",
              "      background-color: #E2EBFA;\n",
              "      box-shadow: 0px 1px 2px rgba(60, 64, 67, 0.3), 0px 1px 3px 1px rgba(60, 64, 67, 0.15);\n",
              "      fill: #174EA6;\n",
              "    }\n",
              "\n",
              "    .colab-df-buttons div {\n",
              "      margin-bottom: 4px;\n",
              "    }\n",
              "\n",
              "    [theme=dark] .colab-df-convert {\n",
              "      background-color: #3B4455;\n",
              "      fill: #D2E3FC;\n",
              "    }\n",
              "\n",
              "    [theme=dark] .colab-df-convert:hover {\n",
              "      background-color: #434B5C;\n",
              "      box-shadow: 0px 1px 3px 1px rgba(0, 0, 0, 0.15);\n",
              "      filter: drop-shadow(0px 1px 2px rgba(0, 0, 0, 0.3));\n",
              "      fill: #FFFFFF;\n",
              "    }\n",
              "  </style>\n",
              "\n",
              "    <script>\n",
              "      const buttonEl =\n",
              "        document.querySelector('#df-5934f68a-75e2-4a12-9bc7-4299bdff7c02 button.colab-df-convert');\n",
              "      buttonEl.style.display =\n",
              "        google.colab.kernel.accessAllowed ? 'block' : 'none';\n",
              "\n",
              "      async function convertToInteractive(key) {\n",
              "        const element = document.querySelector('#df-5934f68a-75e2-4a12-9bc7-4299bdff7c02');\n",
              "        const dataTable =\n",
              "          await google.colab.kernel.invokeFunction('convertToInteractive',\n",
              "                                                    [key], {});\n",
              "        if (!dataTable) return;\n",
              "\n",
              "        const docLinkHtml = 'Like what you see? Visit the ' +\n",
              "          '<a target=\"_blank\" href=https://colab.research.google.com/notebooks/data_table.ipynb>data table notebook</a>'\n",
              "          + ' to learn more about interactive tables.';\n",
              "        element.innerHTML = '';\n",
              "        dataTable['output_type'] = 'display_data';\n",
              "        await google.colab.output.renderOutput(dataTable, element);\n",
              "        const docLink = document.createElement('div');\n",
              "        docLink.innerHTML = docLinkHtml;\n",
              "        element.appendChild(docLink);\n",
              "      }\n",
              "    </script>\n",
              "  </div>\n",
              "\n",
              "\n",
              "<div id=\"df-f2e7014f-902c-4560-bb68-d6cf96748859\">\n",
              "  <button class=\"colab-df-quickchart\" onclick=\"quickchart('df-f2e7014f-902c-4560-bb68-d6cf96748859')\"\n",
              "            title=\"Suggest charts\"\n",
              "            style=\"display:none;\">\n",
              "\n",
              "<svg xmlns=\"http://www.w3.org/2000/svg\" height=\"24px\"viewBox=\"0 0 24 24\"\n",
              "     width=\"24px\">\n",
              "    <g>\n",
              "        <path d=\"M19 3H5c-1.1 0-2 .9-2 2v14c0 1.1.9 2 2 2h14c1.1 0 2-.9 2-2V5c0-1.1-.9-2-2-2zM9 17H7v-7h2v7zm4 0h-2V7h2v10zm4 0h-2v-4h2v4z\"/>\n",
              "    </g>\n",
              "</svg>\n",
              "  </button>\n",
              "\n",
              "<style>\n",
              "  .colab-df-quickchart {\n",
              "      --bg-color: #E8F0FE;\n",
              "      --fill-color: #1967D2;\n",
              "      --hover-bg-color: #E2EBFA;\n",
              "      --hover-fill-color: #174EA6;\n",
              "      --disabled-fill-color: #AAA;\n",
              "      --disabled-bg-color: #DDD;\n",
              "  }\n",
              "\n",
              "  [theme=dark] .colab-df-quickchart {\n",
              "      --bg-color: #3B4455;\n",
              "      --fill-color: #D2E3FC;\n",
              "      --hover-bg-color: #434B5C;\n",
              "      --hover-fill-color: #FFFFFF;\n",
              "      --disabled-bg-color: #3B4455;\n",
              "      --disabled-fill-color: #666;\n",
              "  }\n",
              "\n",
              "  .colab-df-quickchart {\n",
              "    background-color: var(--bg-color);\n",
              "    border: none;\n",
              "    border-radius: 50%;\n",
              "    cursor: pointer;\n",
              "    display: none;\n",
              "    fill: var(--fill-color);\n",
              "    height: 32px;\n",
              "    padding: 0;\n",
              "    width: 32px;\n",
              "  }\n",
              "\n",
              "  .colab-df-quickchart:hover {\n",
              "    background-color: var(--hover-bg-color);\n",
              "    box-shadow: 0 1px 2px rgba(60, 64, 67, 0.3), 0 1px 3px 1px rgba(60, 64, 67, 0.15);\n",
              "    fill: var(--button-hover-fill-color);\n",
              "  }\n",
              "\n",
              "  .colab-df-quickchart-complete:disabled,\n",
              "  .colab-df-quickchart-complete:disabled:hover {\n",
              "    background-color: var(--disabled-bg-color);\n",
              "    fill: var(--disabled-fill-color);\n",
              "    box-shadow: none;\n",
              "  }\n",
              "\n",
              "  .colab-df-spinner {\n",
              "    border: 2px solid var(--fill-color);\n",
              "    border-color: transparent;\n",
              "    border-bottom-color: var(--fill-color);\n",
              "    animation:\n",
              "      spin 1s steps(1) infinite;\n",
              "  }\n",
              "\n",
              "  @keyframes spin {\n",
              "    0% {\n",
              "      border-color: transparent;\n",
              "      border-bottom-color: var(--fill-color);\n",
              "      border-left-color: var(--fill-color);\n",
              "    }\n",
              "    20% {\n",
              "      border-color: transparent;\n",
              "      border-left-color: var(--fill-color);\n",
              "      border-top-color: var(--fill-color);\n",
              "    }\n",
              "    30% {\n",
              "      border-color: transparent;\n",
              "      border-left-color: var(--fill-color);\n",
              "      border-top-color: var(--fill-color);\n",
              "      border-right-color: var(--fill-color);\n",
              "    }\n",
              "    40% {\n",
              "      border-color: transparent;\n",
              "      border-right-color: var(--fill-color);\n",
              "      border-top-color: var(--fill-color);\n",
              "    }\n",
              "    60% {\n",
              "      border-color: transparent;\n",
              "      border-right-color: var(--fill-color);\n",
              "    }\n",
              "    80% {\n",
              "      border-color: transparent;\n",
              "      border-right-color: var(--fill-color);\n",
              "      border-bottom-color: var(--fill-color);\n",
              "    }\n",
              "    90% {\n",
              "      border-color: transparent;\n",
              "      border-bottom-color: var(--fill-color);\n",
              "    }\n",
              "  }\n",
              "</style>\n",
              "\n",
              "  <script>\n",
              "    async function quickchart(key) {\n",
              "      const quickchartButtonEl =\n",
              "        document.querySelector('#' + key + ' button');\n",
              "      quickchartButtonEl.disabled = true;  // To prevent multiple clicks.\n",
              "      quickchartButtonEl.classList.add('colab-df-spinner');\n",
              "      try {\n",
              "        const charts = await google.colab.kernel.invokeFunction(\n",
              "            'suggestCharts', [key], {});\n",
              "      } catch (error) {\n",
              "        console.error('Error during call to suggestCharts:', error);\n",
              "      }\n",
              "      quickchartButtonEl.classList.remove('colab-df-spinner');\n",
              "      quickchartButtonEl.classList.add('colab-df-quickchart-complete');\n",
              "    }\n",
              "    (() => {\n",
              "      let quickchartButtonEl =\n",
              "        document.querySelector('#df-f2e7014f-902c-4560-bb68-d6cf96748859 button');\n",
              "      quickchartButtonEl.style.display =\n",
              "        google.colab.kernel.accessAllowed ? 'block' : 'none';\n",
              "    })();\n",
              "  </script>\n",
              "</div>\n",
              "    </div>\n",
              "  </div>\n"
            ],
            "application/vnd.google.colaboratory.intrinsic+json": {
              "type": "dataframe",
              "variable_name": "data",
              "summary": "{\n  \"name\": \"data\",\n  \"rows\": 143,\n  \"fields\": [\n    {\n      \"column\": \"Study Program Name\",\n      \"properties\": {\n        \"dtype\": \"string\",\n        \"num_unique_values\": 116,\n        \"samples\": [\n          \"Master of Permanent Training in Cybersecurity\",\n          \"High Specialization Master in Forensic Computing and Cybercrime\",\n          \"Information Systems and Cyber Security\"\n        ],\n        \"semantic_type\": \"\",\n        \"description\": \"\"\n      }\n    },\n    {\n      \"column\": \"Description\",\n      \"properties\": {\n        \"dtype\": \"string\",\n        \"num_unique_values\": 143,\n        \"samples\": [\n          \"The master of science in cybersecurity is offered by 4 universities and 2 University College in Brussels in a multicultural environment. Key topics are Cryptography, Systems and Networks, Legal, ethics, and human aspects Management of the Security and Secure software engineering.\",\n          \"The Master\\u2019s programme in Network Forensics has a multidisciplinary connection to technology and social sciences. During the programme, you build theoretical and practical skills for work in IT forensic network analysis. You also develop in-depth knowledge of data mining, cybersecurity and investigation into cybercrime. The programme maps to the following European Cybersecurity Skills Framework (ECSF) roles: - Digital Forensics Investigator - Cyber Incident Responder - Cyber Threat Intelligent Specialist\",\n          \"Multiple teaching & training modalities utilized: synchronous & asynchronous delivery and training, state-of-the-art online cybersecurity laboratories equivalent to professional training environments, invited speakers from the industry, access to enriched e-learning material. Programme is also available in conventional delivery.\"\n        ],\n        \"semantic_type\": \"\",\n        \"description\": \"\"\n      }\n    },\n    {\n      \"column\": \"program_name_and_description\",\n      \"properties\": {\n        \"dtype\": \"string\",\n        \"num_unique_values\": 143,\n        \"samples\": [\n          \"Master of Science in Cybersecurity The master of science in cybersecurity is offered by 4 universities and 2 University College in Brussels in a multicultural environment. Key topics are Cryptography, Systems and Networks, Legal, ethics, and human aspects Management of the Security and Secure software engineering.\",\n          \"Master's Programme  in Network Forensics The Master\\u2019s programme in Network Forensics has a multidisciplinary connection to technology and social sciences. During the programme, you build theoretical and practical skills for work in IT forensic network analysis. You also develop in-depth knowledge of data mining, cybersecurity and investigation into cybercrime. The programme maps to the following European Cybersecurity Skills Framework (ECSF) roles: - Digital Forensics Investigator - Cyber Incident Responder - Cyber Threat Intelligent Specialist\",\n          \"MSc Cybersecurity Multiple teaching & training modalities utilized: synchronous & asynchronous delivery and training, state-of-the-art online cybersecurity laboratories equivalent to professional training environments, invited speakers from the industry, access to enriched e-learning material. Programme is also available in conventional delivery.\"\n        ],\n        \"semantic_type\": \"\",\n        \"description\": \"\"\n      }\n    },\n    {\n      \"column\": \"cleaning_process\",\n      \"properties\": {\n        \"dtype\": \"string\",\n        \"num_unique_values\": 143,\n        \"samples\": [\n          \"master of science in cybersecurity the master of science in cybersecurity is offered by universities and university college in brussels in a multicultural environment key topics are cryptography systems and networks legal ethics and human aspects management of the security and secure software engineering\",\n          \"masters programme in network forensics the masters programme in network forensics has a multidisciplinary connection to technology and social sciences during the programme you build theoretical and practical skills for work in it forensic network analysis you also develop indepth knowledge of data mining cybersecurity and investigation into cybercrime the programme maps to the following european cybersecurity skills framework ecsf roles digital forensics investigator cyber incident responder cyber threat intelligent specialist\",\n          \"msc cybersecurity multiple teaching training modalities utilized synchronous asynchronous delivery and training stateoftheart online cybersecurity laboratories equivalent to professional training environments invited speakers from the industry access to enriched elearning material programme is also available in conventional delivery\"\n        ],\n        \"semantic_type\": \"\",\n        \"description\": \"\"\n      }\n    },\n    {\n      \"column\": \"clean_token\",\n      \"properties\": {\n        \"dtype\": \"string\",\n        \"num_unique_values\": 143,\n        \"samples\": [\n          \"master of science in cybersecurity the master of science in cybersecurity is offered by universities and university college in brussels in a multicultural environment key topics are cryptography systems and networks legal ethics and human aspects management of the security and secure software engineering\",\n          \"masters programme in network forensics the masters programme in network forensics has a multidisciplinary connection to technology and social sciences during the programme you build theoretical and practical skills for work in it forensic network analysis you also develop indepth knowledge of data mining cybersecurity and investigation into cybercrime the programme maps to the following european cybersecurity skills framework ecsf roles digital forensics investigator cyber incident responder cyber threat intelligent specialist\",\n          \"msc cybersecurity multiple teaching training modalities utilized synchronous asynchronous delivery and training stateoftheart online cybersecurity laboratories equivalent to professional training environments invited speakers from the industry access to enriched elearning material programme is also available in conventional delivery\"\n        ],\n        \"semantic_type\": \"\",\n        \"description\": \"\"\n      }\n    },\n    {\n      \"column\": \"clean_tokens_lemma\",\n      \"properties\": {\n        \"dtype\": \"object\",\n        \"semantic_type\": \"\",\n        \"description\": \"\"\n      }\n    },\n    {\n      \"column\": \"clean_tokens_stopword\",\n      \"properties\": {\n        \"dtype\": \"object\",\n        \"semantic_type\": \"\",\n        \"description\": \"\"\n      }\n    },\n    {\n      \"column\": \"token_number_lemma\",\n      \"properties\": {\n        \"dtype\": \"number\",\n        \"std\": 15,\n        \"min\": 8,\n        \"max\": 81,\n        \"num_unique_values\": 54,\n        \"samples\": [\n          44,\n          75,\n          41\n        ],\n        \"semantic_type\": \"\",\n        \"description\": \"\"\n      }\n    },\n    {\n      \"column\": \"token_number_stopword\",\n      \"properties\": {\n        \"dtype\": \"number\",\n        \"std\": 15,\n        \"min\": 8,\n        \"max\": 81,\n        \"num_unique_values\": 54,\n        \"samples\": [\n          44,\n          75,\n          41\n        ],\n        \"semantic_type\": \"\",\n        \"description\": \"\"\n      }\n    },\n    {\n      \"column\": \"clean_document_lemma\",\n      \"properties\": {\n        \"dtype\": \"string\",\n        \"num_unique_values\": 143,\n        \"samples\": [\n          \"master science cybersecurity master science cybersecurity offer university university college brussels multicultural environment key topic cryptography system network legal ethic human aspect management security secure software engineering\",\n          \"master programme network forensics master programme network forensics multidisciplinary connection technology social science programme build theoretical practical skill work forensic network analysis develop indepth knowledge data mining cybersecurity investigation cybercrime programme map follow european cybersecurity skill framework ecsf role digital forensics investigator cyber incident responder cyber threat intelligent specialist\",\n          \"msc cybersecurity multiple teach training modality utilized synchronous asynchronous delivery training stateoftheart online cybersecurity laboratory equivalent professional training environment invite speaker industry access enrich elearning material programme available conventional delivery\"\n        ],\n        \"semantic_type\": \"\",\n        \"description\": \"\"\n      }\n    },\n    {\n      \"column\": \"clean_document_stopword\",\n      \"properties\": {\n        \"dtype\": \"string\",\n        \"num_unique_values\": 143,\n        \"samples\": [\n          \"master science cybersecurity master science cybersecurity offered universities university college brussels multicultural environment key topics cryptography systems networks legal ethics human aspects management security secure software engineering\",\n          \"masters programme network forensics masters programme network forensics multidisciplinary connection technology social sciences programme build theoretical practical skills work forensic network analysis develop indepth knowledge data mining cybersecurity investigation cybercrime programme maps following european cybersecurity skills framework ecsf roles digital forensics investigator cyber incident responder cyber threat intelligent specialist\",\n          \"msc cybersecurity multiple teaching training modalities utilized synchronous asynchronous delivery training stateoftheart online cybersecurity laboratories equivalent professional training environments invited speakers industry access enriched elearning material programme available conventional delivery\"\n        ],\n        \"semantic_type\": \"\",\n        \"description\": \"\"\n      }\n    }\n  ]\n}"
            }
          },
          "metadata": {},
          "execution_count": 31
        }
      ]
    },
    {
      "cell_type": "code",
      "source": [
        "display_df = data.loc[:, ['clean_tokens_lemma', 'clean_tokens_stopword']]\n",
        "\n",
        "display_df"
      ],
      "metadata": {
        "colab": {
          "base_uri": "https://localhost:8080/",
          "height": 423
        },
        "id": "BHLBh7ibxifQ",
        "outputId": "6f7243dc-bec2-476e-f93c-e56abfa07d99"
      },
      "execution_count": null,
      "outputs": [
        {
          "output_type": "execute_result",
          "data": {
            "text/plain": [
              "                                    clean_tokens_lemma  \\\n",
              "0    [cybersecurity, engineering, brand, new, study...   \n",
              "1    [cyber, security, management, study, concept, ...   \n",
              "2    [cybersecurity, specialisation, computer, scie...   \n",
              "3    [msc, cybersecurity, msc, cybersecurity, euc, ...   \n",
              "4    [high, specialization, master, forensic, compu...   \n",
              "..                                                 ...   \n",
              "138  [computer, engineering, science, cybersecurity...   \n",
              "139  [master, science, cyber, risk, strategy, gover...   \n",
              "140  [cyber, security, master, science, technology,...   \n",
              "141  [master, international, cybersecurity, cyberin...   \n",
              "142  [cybermacs, erasmus, mundus, joint, master, de...   \n",
              "\n",
              "                                 clean_tokens_stopword  \n",
              "0    [cybersecurity, engineering, brand, new, study...  \n",
              "1    [cyber, security, management, study, concept, ...  \n",
              "2    [cybersecurity, specialisation, computer, scie...  \n",
              "3    [msc, cybersecurity, msc, cybersecurity, euc, ...  \n",
              "4    [high, specialization, master, forensic, compu...  \n",
              "..                                                 ...  \n",
              "138  [computer, engineering, science, cybersecurity...  \n",
              "139  [master, science, cyber, risk, strategy, gover...  \n",
              "140  [cyber, security, master, science, technology,...  \n",
              "141  [master, international, cybersecurity, cyberin...  \n",
              "142  [cybermacs, erasmus, mundus, joint, masters, d...  \n",
              "\n",
              "[143 rows x 2 columns]"
            ],
            "text/html": [
              "\n",
              "  <div id=\"df-a548c25c-eeca-4f85-9206-affb276473f5\" class=\"colab-df-container\">\n",
              "    <div>\n",
              "<style scoped>\n",
              "    .dataframe tbody tr th:only-of-type {\n",
              "        vertical-align: middle;\n",
              "    }\n",
              "\n",
              "    .dataframe tbody tr th {\n",
              "        vertical-align: top;\n",
              "    }\n",
              "\n",
              "    .dataframe thead th {\n",
              "        text-align: right;\n",
              "    }\n",
              "</style>\n",
              "<table border=\"1\" class=\"dataframe\">\n",
              "  <thead>\n",
              "    <tr style=\"text-align: right;\">\n",
              "      <th></th>\n",
              "      <th>clean_tokens_lemma</th>\n",
              "      <th>clean_tokens_stopword</th>\n",
              "    </tr>\n",
              "  </thead>\n",
              "  <tbody>\n",
              "    <tr>\n",
              "      <th>0</th>\n",
              "      <td>[cybersecurity, engineering, brand, new, study...</td>\n",
              "      <td>[cybersecurity, engineering, brand, new, study...</td>\n",
              "    </tr>\n",
              "    <tr>\n",
              "      <th>1</th>\n",
              "      <td>[cyber, security, management, study, concept, ...</td>\n",
              "      <td>[cyber, security, management, study, concept, ...</td>\n",
              "    </tr>\n",
              "    <tr>\n",
              "      <th>2</th>\n",
              "      <td>[cybersecurity, specialisation, computer, scie...</td>\n",
              "      <td>[cybersecurity, specialisation, computer, scie...</td>\n",
              "    </tr>\n",
              "    <tr>\n",
              "      <th>3</th>\n",
              "      <td>[msc, cybersecurity, msc, cybersecurity, euc, ...</td>\n",
              "      <td>[msc, cybersecurity, msc, cybersecurity, euc, ...</td>\n",
              "    </tr>\n",
              "    <tr>\n",
              "      <th>4</th>\n",
              "      <td>[high, specialization, master, forensic, compu...</td>\n",
              "      <td>[high, specialization, master, forensic, compu...</td>\n",
              "    </tr>\n",
              "    <tr>\n",
              "      <th>...</th>\n",
              "      <td>...</td>\n",
              "      <td>...</td>\n",
              "    </tr>\n",
              "    <tr>\n",
              "      <th>138</th>\n",
              "      <td>[computer, engineering, science, cybersecurity...</td>\n",
              "      <td>[computer, engineering, science, cybersecurity...</td>\n",
              "    </tr>\n",
              "    <tr>\n",
              "      <th>139</th>\n",
              "      <td>[master, science, cyber, risk, strategy, gover...</td>\n",
              "      <td>[master, science, cyber, risk, strategy, gover...</td>\n",
              "    </tr>\n",
              "    <tr>\n",
              "      <th>140</th>\n",
              "      <td>[cyber, security, master, science, technology,...</td>\n",
              "      <td>[cyber, security, master, science, technology,...</td>\n",
              "    </tr>\n",
              "    <tr>\n",
              "      <th>141</th>\n",
              "      <td>[master, international, cybersecurity, cyberin...</td>\n",
              "      <td>[master, international, cybersecurity, cyberin...</td>\n",
              "    </tr>\n",
              "    <tr>\n",
              "      <th>142</th>\n",
              "      <td>[cybermacs, erasmus, mundus, joint, master, de...</td>\n",
              "      <td>[cybermacs, erasmus, mundus, joint, masters, d...</td>\n",
              "    </tr>\n",
              "  </tbody>\n",
              "</table>\n",
              "<p>143 rows × 2 columns</p>\n",
              "</div>\n",
              "    <div class=\"colab-df-buttons\">\n",
              "\n",
              "  <div class=\"colab-df-container\">\n",
              "    <button class=\"colab-df-convert\" onclick=\"convertToInteractive('df-a548c25c-eeca-4f85-9206-affb276473f5')\"\n",
              "            title=\"Convert this dataframe to an interactive table.\"\n",
              "            style=\"display:none;\">\n",
              "\n",
              "  <svg xmlns=\"http://www.w3.org/2000/svg\" height=\"24px\" viewBox=\"0 -960 960 960\">\n",
              "    <path d=\"M120-120v-720h720v720H120Zm60-500h600v-160H180v160Zm220 220h160v-160H400v160Zm0 220h160v-160H400v160ZM180-400h160v-160H180v160Zm440 0h160v-160H620v160ZM180-180h160v-160H180v160Zm440 0h160v-160H620v160Z\"/>\n",
              "  </svg>\n",
              "    </button>\n",
              "\n",
              "  <style>\n",
              "    .colab-df-container {\n",
              "      display:flex;\n",
              "      gap: 12px;\n",
              "    }\n",
              "\n",
              "    .colab-df-convert {\n",
              "      background-color: #E8F0FE;\n",
              "      border: none;\n",
              "      border-radius: 50%;\n",
              "      cursor: pointer;\n",
              "      display: none;\n",
              "      fill: #1967D2;\n",
              "      height: 32px;\n",
              "      padding: 0 0 0 0;\n",
              "      width: 32px;\n",
              "    }\n",
              "\n",
              "    .colab-df-convert:hover {\n",
              "      background-color: #E2EBFA;\n",
              "      box-shadow: 0px 1px 2px rgba(60, 64, 67, 0.3), 0px 1px 3px 1px rgba(60, 64, 67, 0.15);\n",
              "      fill: #174EA6;\n",
              "    }\n",
              "\n",
              "    .colab-df-buttons div {\n",
              "      margin-bottom: 4px;\n",
              "    }\n",
              "\n",
              "    [theme=dark] .colab-df-convert {\n",
              "      background-color: #3B4455;\n",
              "      fill: #D2E3FC;\n",
              "    }\n",
              "\n",
              "    [theme=dark] .colab-df-convert:hover {\n",
              "      background-color: #434B5C;\n",
              "      box-shadow: 0px 1px 3px 1px rgba(0, 0, 0, 0.15);\n",
              "      filter: drop-shadow(0px 1px 2px rgba(0, 0, 0, 0.3));\n",
              "      fill: #FFFFFF;\n",
              "    }\n",
              "  </style>\n",
              "\n",
              "    <script>\n",
              "      const buttonEl =\n",
              "        document.querySelector('#df-a548c25c-eeca-4f85-9206-affb276473f5 button.colab-df-convert');\n",
              "      buttonEl.style.display =\n",
              "        google.colab.kernel.accessAllowed ? 'block' : 'none';\n",
              "\n",
              "      async function convertToInteractive(key) {\n",
              "        const element = document.querySelector('#df-a548c25c-eeca-4f85-9206-affb276473f5');\n",
              "        const dataTable =\n",
              "          await google.colab.kernel.invokeFunction('convertToInteractive',\n",
              "                                                    [key], {});\n",
              "        if (!dataTable) return;\n",
              "\n",
              "        const docLinkHtml = 'Like what you see? Visit the ' +\n",
              "          '<a target=\"_blank\" href=https://colab.research.google.com/notebooks/data_table.ipynb>data table notebook</a>'\n",
              "          + ' to learn more about interactive tables.';\n",
              "        element.innerHTML = '';\n",
              "        dataTable['output_type'] = 'display_data';\n",
              "        await google.colab.output.renderOutput(dataTable, element);\n",
              "        const docLink = document.createElement('div');\n",
              "        docLink.innerHTML = docLinkHtml;\n",
              "        element.appendChild(docLink);\n",
              "      }\n",
              "    </script>\n",
              "  </div>\n",
              "\n",
              "\n",
              "<div id=\"df-aabbd8c7-4374-49f1-87d8-1bdc488ca577\">\n",
              "  <button class=\"colab-df-quickchart\" onclick=\"quickchart('df-aabbd8c7-4374-49f1-87d8-1bdc488ca577')\"\n",
              "            title=\"Suggest charts\"\n",
              "            style=\"display:none;\">\n",
              "\n",
              "<svg xmlns=\"http://www.w3.org/2000/svg\" height=\"24px\"viewBox=\"0 0 24 24\"\n",
              "     width=\"24px\">\n",
              "    <g>\n",
              "        <path d=\"M19 3H5c-1.1 0-2 .9-2 2v14c0 1.1.9 2 2 2h14c1.1 0 2-.9 2-2V5c0-1.1-.9-2-2-2zM9 17H7v-7h2v7zm4 0h-2V7h2v10zm4 0h-2v-4h2v4z\"/>\n",
              "    </g>\n",
              "</svg>\n",
              "  </button>\n",
              "\n",
              "<style>\n",
              "  .colab-df-quickchart {\n",
              "      --bg-color: #E8F0FE;\n",
              "      --fill-color: #1967D2;\n",
              "      --hover-bg-color: #E2EBFA;\n",
              "      --hover-fill-color: #174EA6;\n",
              "      --disabled-fill-color: #AAA;\n",
              "      --disabled-bg-color: #DDD;\n",
              "  }\n",
              "\n",
              "  [theme=dark] .colab-df-quickchart {\n",
              "      --bg-color: #3B4455;\n",
              "      --fill-color: #D2E3FC;\n",
              "      --hover-bg-color: #434B5C;\n",
              "      --hover-fill-color: #FFFFFF;\n",
              "      --disabled-bg-color: #3B4455;\n",
              "      --disabled-fill-color: #666;\n",
              "  }\n",
              "\n",
              "  .colab-df-quickchart {\n",
              "    background-color: var(--bg-color);\n",
              "    border: none;\n",
              "    border-radius: 50%;\n",
              "    cursor: pointer;\n",
              "    display: none;\n",
              "    fill: var(--fill-color);\n",
              "    height: 32px;\n",
              "    padding: 0;\n",
              "    width: 32px;\n",
              "  }\n",
              "\n",
              "  .colab-df-quickchart:hover {\n",
              "    background-color: var(--hover-bg-color);\n",
              "    box-shadow: 0 1px 2px rgba(60, 64, 67, 0.3), 0 1px 3px 1px rgba(60, 64, 67, 0.15);\n",
              "    fill: var(--button-hover-fill-color);\n",
              "  }\n",
              "\n",
              "  .colab-df-quickchart-complete:disabled,\n",
              "  .colab-df-quickchart-complete:disabled:hover {\n",
              "    background-color: var(--disabled-bg-color);\n",
              "    fill: var(--disabled-fill-color);\n",
              "    box-shadow: none;\n",
              "  }\n",
              "\n",
              "  .colab-df-spinner {\n",
              "    border: 2px solid var(--fill-color);\n",
              "    border-color: transparent;\n",
              "    border-bottom-color: var(--fill-color);\n",
              "    animation:\n",
              "      spin 1s steps(1) infinite;\n",
              "  }\n",
              "\n",
              "  @keyframes spin {\n",
              "    0% {\n",
              "      border-color: transparent;\n",
              "      border-bottom-color: var(--fill-color);\n",
              "      border-left-color: var(--fill-color);\n",
              "    }\n",
              "    20% {\n",
              "      border-color: transparent;\n",
              "      border-left-color: var(--fill-color);\n",
              "      border-top-color: var(--fill-color);\n",
              "    }\n",
              "    30% {\n",
              "      border-color: transparent;\n",
              "      border-left-color: var(--fill-color);\n",
              "      border-top-color: var(--fill-color);\n",
              "      border-right-color: var(--fill-color);\n",
              "    }\n",
              "    40% {\n",
              "      border-color: transparent;\n",
              "      border-right-color: var(--fill-color);\n",
              "      border-top-color: var(--fill-color);\n",
              "    }\n",
              "    60% {\n",
              "      border-color: transparent;\n",
              "      border-right-color: var(--fill-color);\n",
              "    }\n",
              "    80% {\n",
              "      border-color: transparent;\n",
              "      border-right-color: var(--fill-color);\n",
              "      border-bottom-color: var(--fill-color);\n",
              "    }\n",
              "    90% {\n",
              "      border-color: transparent;\n",
              "      border-bottom-color: var(--fill-color);\n",
              "    }\n",
              "  }\n",
              "</style>\n",
              "\n",
              "  <script>\n",
              "    async function quickchart(key) {\n",
              "      const quickchartButtonEl =\n",
              "        document.querySelector('#' + key + ' button');\n",
              "      quickchartButtonEl.disabled = true;  // To prevent multiple clicks.\n",
              "      quickchartButtonEl.classList.add('colab-df-spinner');\n",
              "      try {\n",
              "        const charts = await google.colab.kernel.invokeFunction(\n",
              "            'suggestCharts', [key], {});\n",
              "      } catch (error) {\n",
              "        console.error('Error during call to suggestCharts:', error);\n",
              "      }\n",
              "      quickchartButtonEl.classList.remove('colab-df-spinner');\n",
              "      quickchartButtonEl.classList.add('colab-df-quickchart-complete');\n",
              "    }\n",
              "    (() => {\n",
              "      let quickchartButtonEl =\n",
              "        document.querySelector('#df-aabbd8c7-4374-49f1-87d8-1bdc488ca577 button');\n",
              "      quickchartButtonEl.style.display =\n",
              "        google.colab.kernel.accessAllowed ? 'block' : 'none';\n",
              "    })();\n",
              "  </script>\n",
              "</div>\n",
              "    </div>\n",
              "  </div>\n"
            ],
            "application/vnd.google.colaboratory.intrinsic+json": {
              "type": "dataframe",
              "variable_name": "display_df",
              "summary": "{\n  \"name\": \"display_df\",\n  \"rows\": 143,\n  \"fields\": [\n    {\n      \"column\": \"clean_tokens_lemma\",\n      \"properties\": {\n        \"dtype\": \"object\",\n        \"semantic_type\": \"\",\n        \"description\": \"\"\n      }\n    },\n    {\n      \"column\": \"clean_tokens_stopword\",\n      \"properties\": {\n        \"dtype\": \"object\",\n        \"semantic_type\": \"\",\n        \"description\": \"\"\n      }\n    }\n  ]\n}"
            }
          },
          "metadata": {},
          "execution_count": 32
        }
      ]
    },
    {
      "cell_type": "code",
      "source": [
        "data[\"token_number_lemma\"].describe()"
      ],
      "metadata": {
        "colab": {
          "base_uri": "https://localhost:8080/"
        },
        "id": "EY5CYBrXuksK",
        "outputId": "0e9d86bc-b153-4069-f3f5-78029dbdc86b"
      },
      "execution_count": null,
      "outputs": [
        {
          "output_type": "execute_result",
          "data": {
            "text/plain": [
              "count    143.000000\n",
              "mean      49.034965\n",
              "std       15.176619\n",
              "min        8.000000\n",
              "25%       38.500000\n",
              "50%       50.000000\n",
              "75%       60.000000\n",
              "max       81.000000\n",
              "Name: token_number_lemma, dtype: float64"
            ]
          },
          "metadata": {},
          "execution_count": 33
        }
      ]
    },
    {
      "cell_type": "code",
      "source": [
        "from collections import Counter, defaultdict\n",
        "# Get the top 20 most common words among all the job descriptions\n",
        "p_text = [word.split() for word in data[\"clean_document_lemma\"]]\n",
        "\n",
        "# Flaten the list of lists\n",
        "p_text = [item for sublist in p_text for item in sublist]\n",
        "\n",
        "# Top 10\n",
        "top_10 = pd.DataFrame(\n",
        "    Counter(p_text).most_common(10),\n",
        "    columns=[\"word\", \"frequency\"]\n",
        ")\n",
        "\n",
        "top_10"
      ],
      "metadata": {
        "colab": {
          "base_uri": "https://localhost:8080/",
          "height": 363
        },
        "id": "N3lgecVbuoT5",
        "outputId": "88ff9e8e-96d7-4909-dda5-280a821fd912"
      },
      "execution_count": null,
      "outputs": [
        {
          "output_type": "execute_result",
          "data": {
            "text/plain": [
              "            word  frequency\n",
              "0  cybersecurity        413\n",
              "1       security        277\n",
              "2    information        141\n",
              "3          skill        124\n",
              "4          cyber        119\n",
              "5         master        110\n",
              "6         system         97\n",
              "7       european         91\n",
              "8           ecsf         89\n",
              "9      framework         88"
            ],
            "text/html": [
              "\n",
              "  <div id=\"df-278f8dc9-4ede-4021-babd-c54168eef1f4\" class=\"colab-df-container\">\n",
              "    <div>\n",
              "<style scoped>\n",
              "    .dataframe tbody tr th:only-of-type {\n",
              "        vertical-align: middle;\n",
              "    }\n",
              "\n",
              "    .dataframe tbody tr th {\n",
              "        vertical-align: top;\n",
              "    }\n",
              "\n",
              "    .dataframe thead th {\n",
              "        text-align: right;\n",
              "    }\n",
              "</style>\n",
              "<table border=\"1\" class=\"dataframe\">\n",
              "  <thead>\n",
              "    <tr style=\"text-align: right;\">\n",
              "      <th></th>\n",
              "      <th>word</th>\n",
              "      <th>frequency</th>\n",
              "    </tr>\n",
              "  </thead>\n",
              "  <tbody>\n",
              "    <tr>\n",
              "      <th>0</th>\n",
              "      <td>cybersecurity</td>\n",
              "      <td>413</td>\n",
              "    </tr>\n",
              "    <tr>\n",
              "      <th>1</th>\n",
              "      <td>security</td>\n",
              "      <td>277</td>\n",
              "    </tr>\n",
              "    <tr>\n",
              "      <th>2</th>\n",
              "      <td>information</td>\n",
              "      <td>141</td>\n",
              "    </tr>\n",
              "    <tr>\n",
              "      <th>3</th>\n",
              "      <td>skill</td>\n",
              "      <td>124</td>\n",
              "    </tr>\n",
              "    <tr>\n",
              "      <th>4</th>\n",
              "      <td>cyber</td>\n",
              "      <td>119</td>\n",
              "    </tr>\n",
              "    <tr>\n",
              "      <th>5</th>\n",
              "      <td>master</td>\n",
              "      <td>110</td>\n",
              "    </tr>\n",
              "    <tr>\n",
              "      <th>6</th>\n",
              "      <td>system</td>\n",
              "      <td>97</td>\n",
              "    </tr>\n",
              "    <tr>\n",
              "      <th>7</th>\n",
              "      <td>european</td>\n",
              "      <td>91</td>\n",
              "    </tr>\n",
              "    <tr>\n",
              "      <th>8</th>\n",
              "      <td>ecsf</td>\n",
              "      <td>89</td>\n",
              "    </tr>\n",
              "    <tr>\n",
              "      <th>9</th>\n",
              "      <td>framework</td>\n",
              "      <td>88</td>\n",
              "    </tr>\n",
              "  </tbody>\n",
              "</table>\n",
              "</div>\n",
              "    <div class=\"colab-df-buttons\">\n",
              "\n",
              "  <div class=\"colab-df-container\">\n",
              "    <button class=\"colab-df-convert\" onclick=\"convertToInteractive('df-278f8dc9-4ede-4021-babd-c54168eef1f4')\"\n",
              "            title=\"Convert this dataframe to an interactive table.\"\n",
              "            style=\"display:none;\">\n",
              "\n",
              "  <svg xmlns=\"http://www.w3.org/2000/svg\" height=\"24px\" viewBox=\"0 -960 960 960\">\n",
              "    <path d=\"M120-120v-720h720v720H120Zm60-500h600v-160H180v160Zm220 220h160v-160H400v160Zm0 220h160v-160H400v160ZM180-400h160v-160H180v160Zm440 0h160v-160H620v160ZM180-180h160v-160H180v160Zm440 0h160v-160H620v160Z\"/>\n",
              "  </svg>\n",
              "    </button>\n",
              "\n",
              "  <style>\n",
              "    .colab-df-container {\n",
              "      display:flex;\n",
              "      gap: 12px;\n",
              "    }\n",
              "\n",
              "    .colab-df-convert {\n",
              "      background-color: #E8F0FE;\n",
              "      border: none;\n",
              "      border-radius: 50%;\n",
              "      cursor: pointer;\n",
              "      display: none;\n",
              "      fill: #1967D2;\n",
              "      height: 32px;\n",
              "      padding: 0 0 0 0;\n",
              "      width: 32px;\n",
              "    }\n",
              "\n",
              "    .colab-df-convert:hover {\n",
              "      background-color: #E2EBFA;\n",
              "      box-shadow: 0px 1px 2px rgba(60, 64, 67, 0.3), 0px 1px 3px 1px rgba(60, 64, 67, 0.15);\n",
              "      fill: #174EA6;\n",
              "    }\n",
              "\n",
              "    .colab-df-buttons div {\n",
              "      margin-bottom: 4px;\n",
              "    }\n",
              "\n",
              "    [theme=dark] .colab-df-convert {\n",
              "      background-color: #3B4455;\n",
              "      fill: #D2E3FC;\n",
              "    }\n",
              "\n",
              "    [theme=dark] .colab-df-convert:hover {\n",
              "      background-color: #434B5C;\n",
              "      box-shadow: 0px 1px 3px 1px rgba(0, 0, 0, 0.15);\n",
              "      filter: drop-shadow(0px 1px 2px rgba(0, 0, 0, 0.3));\n",
              "      fill: #FFFFFF;\n",
              "    }\n",
              "  </style>\n",
              "\n",
              "    <script>\n",
              "      const buttonEl =\n",
              "        document.querySelector('#df-278f8dc9-4ede-4021-babd-c54168eef1f4 button.colab-df-convert');\n",
              "      buttonEl.style.display =\n",
              "        google.colab.kernel.accessAllowed ? 'block' : 'none';\n",
              "\n",
              "      async function convertToInteractive(key) {\n",
              "        const element = document.querySelector('#df-278f8dc9-4ede-4021-babd-c54168eef1f4');\n",
              "        const dataTable =\n",
              "          await google.colab.kernel.invokeFunction('convertToInteractive',\n",
              "                                                    [key], {});\n",
              "        if (!dataTable) return;\n",
              "\n",
              "        const docLinkHtml = 'Like what you see? Visit the ' +\n",
              "          '<a target=\"_blank\" href=https://colab.research.google.com/notebooks/data_table.ipynb>data table notebook</a>'\n",
              "          + ' to learn more about interactive tables.';\n",
              "        element.innerHTML = '';\n",
              "        dataTable['output_type'] = 'display_data';\n",
              "        await google.colab.output.renderOutput(dataTable, element);\n",
              "        const docLink = document.createElement('div');\n",
              "        docLink.innerHTML = docLinkHtml;\n",
              "        element.appendChild(docLink);\n",
              "      }\n",
              "    </script>\n",
              "  </div>\n",
              "\n",
              "\n",
              "<div id=\"df-d27c3603-f1de-469b-9121-94deba5d82f8\">\n",
              "  <button class=\"colab-df-quickchart\" onclick=\"quickchart('df-d27c3603-f1de-469b-9121-94deba5d82f8')\"\n",
              "            title=\"Suggest charts\"\n",
              "            style=\"display:none;\">\n",
              "\n",
              "<svg xmlns=\"http://www.w3.org/2000/svg\" height=\"24px\"viewBox=\"0 0 24 24\"\n",
              "     width=\"24px\">\n",
              "    <g>\n",
              "        <path d=\"M19 3H5c-1.1 0-2 .9-2 2v14c0 1.1.9 2 2 2h14c1.1 0 2-.9 2-2V5c0-1.1-.9-2-2-2zM9 17H7v-7h2v7zm4 0h-2V7h2v10zm4 0h-2v-4h2v4z\"/>\n",
              "    </g>\n",
              "</svg>\n",
              "  </button>\n",
              "\n",
              "<style>\n",
              "  .colab-df-quickchart {\n",
              "      --bg-color: #E8F0FE;\n",
              "      --fill-color: #1967D2;\n",
              "      --hover-bg-color: #E2EBFA;\n",
              "      --hover-fill-color: #174EA6;\n",
              "      --disabled-fill-color: #AAA;\n",
              "      --disabled-bg-color: #DDD;\n",
              "  }\n",
              "\n",
              "  [theme=dark] .colab-df-quickchart {\n",
              "      --bg-color: #3B4455;\n",
              "      --fill-color: #D2E3FC;\n",
              "      --hover-bg-color: #434B5C;\n",
              "      --hover-fill-color: #FFFFFF;\n",
              "      --disabled-bg-color: #3B4455;\n",
              "      --disabled-fill-color: #666;\n",
              "  }\n",
              "\n",
              "  .colab-df-quickchart {\n",
              "    background-color: var(--bg-color);\n",
              "    border: none;\n",
              "    border-radius: 50%;\n",
              "    cursor: pointer;\n",
              "    display: none;\n",
              "    fill: var(--fill-color);\n",
              "    height: 32px;\n",
              "    padding: 0;\n",
              "    width: 32px;\n",
              "  }\n",
              "\n",
              "  .colab-df-quickchart:hover {\n",
              "    background-color: var(--hover-bg-color);\n",
              "    box-shadow: 0 1px 2px rgba(60, 64, 67, 0.3), 0 1px 3px 1px rgba(60, 64, 67, 0.15);\n",
              "    fill: var(--button-hover-fill-color);\n",
              "  }\n",
              "\n",
              "  .colab-df-quickchart-complete:disabled,\n",
              "  .colab-df-quickchart-complete:disabled:hover {\n",
              "    background-color: var(--disabled-bg-color);\n",
              "    fill: var(--disabled-fill-color);\n",
              "    box-shadow: none;\n",
              "  }\n",
              "\n",
              "  .colab-df-spinner {\n",
              "    border: 2px solid var(--fill-color);\n",
              "    border-color: transparent;\n",
              "    border-bottom-color: var(--fill-color);\n",
              "    animation:\n",
              "      spin 1s steps(1) infinite;\n",
              "  }\n",
              "\n",
              "  @keyframes spin {\n",
              "    0% {\n",
              "      border-color: transparent;\n",
              "      border-bottom-color: var(--fill-color);\n",
              "      border-left-color: var(--fill-color);\n",
              "    }\n",
              "    20% {\n",
              "      border-color: transparent;\n",
              "      border-left-color: var(--fill-color);\n",
              "      border-top-color: var(--fill-color);\n",
              "    }\n",
              "    30% {\n",
              "      border-color: transparent;\n",
              "      border-left-color: var(--fill-color);\n",
              "      border-top-color: var(--fill-color);\n",
              "      border-right-color: var(--fill-color);\n",
              "    }\n",
              "    40% {\n",
              "      border-color: transparent;\n",
              "      border-right-color: var(--fill-color);\n",
              "      border-top-color: var(--fill-color);\n",
              "    }\n",
              "    60% {\n",
              "      border-color: transparent;\n",
              "      border-right-color: var(--fill-color);\n",
              "    }\n",
              "    80% {\n",
              "      border-color: transparent;\n",
              "      border-right-color: var(--fill-color);\n",
              "      border-bottom-color: var(--fill-color);\n",
              "    }\n",
              "    90% {\n",
              "      border-color: transparent;\n",
              "      border-bottom-color: var(--fill-color);\n",
              "    }\n",
              "  }\n",
              "</style>\n",
              "\n",
              "  <script>\n",
              "    async function quickchart(key) {\n",
              "      const quickchartButtonEl =\n",
              "        document.querySelector('#' + key + ' button');\n",
              "      quickchartButtonEl.disabled = true;  // To prevent multiple clicks.\n",
              "      quickchartButtonEl.classList.add('colab-df-spinner');\n",
              "      try {\n",
              "        const charts = await google.colab.kernel.invokeFunction(\n",
              "            'suggestCharts', [key], {});\n",
              "      } catch (error) {\n",
              "        console.error('Error during call to suggestCharts:', error);\n",
              "      }\n",
              "      quickchartButtonEl.classList.remove('colab-df-spinner');\n",
              "      quickchartButtonEl.classList.add('colab-df-quickchart-complete');\n",
              "    }\n",
              "    (() => {\n",
              "      let quickchartButtonEl =\n",
              "        document.querySelector('#df-d27c3603-f1de-469b-9121-94deba5d82f8 button');\n",
              "      quickchartButtonEl.style.display =\n",
              "        google.colab.kernel.accessAllowed ? 'block' : 'none';\n",
              "    })();\n",
              "  </script>\n",
              "</div>\n",
              "    </div>\n",
              "  </div>\n"
            ],
            "application/vnd.google.colaboratory.intrinsic+json": {
              "type": "dataframe",
              "variable_name": "top_10",
              "summary": "{\n  \"name\": \"top_10\",\n  \"rows\": 10,\n  \"fields\": [\n    {\n      \"column\": \"word\",\n      \"properties\": {\n        \"dtype\": \"string\",\n        \"num_unique_values\": 10,\n        \"samples\": [\n          \"ecsf\",\n          \"security\",\n          \"master\"\n        ],\n        \"semantic_type\": \"\",\n        \"description\": \"\"\n      }\n    },\n    {\n      \"column\": \"frequency\",\n      \"properties\": {\n        \"dtype\": \"number\",\n        \"std\": 106,\n        \"min\": 88,\n        \"max\": 413,\n        \"num_unique_values\": 10,\n        \"samples\": [\n          89,\n          277,\n          110\n        ],\n        \"semantic_type\": \"\",\n        \"description\": \"\"\n      }\n    }\n  ]\n}"
            }
          },
          "metadata": {},
          "execution_count": 34
        }
      ]
    },
    {
      "cell_type": "code",
      "source": [
        "# Plot a bar chart for the top 10 most frequently occuring words\n",
        "fig = plt.figure(figsize=(10,5))\n",
        "\n",
        "g = sns.barplot(\n",
        "    x=\"word\",\n",
        "    y=\"frequency\",\n",
        "    data=top_10,\n",
        "    palette=\"GnBu_d\"\n",
        ")\n",
        "\n",
        "g.set_xticklabels(\n",
        "    g.get_xticklabels(),\n",
        "    rotation=45,\n",
        "    fontsize=14\n",
        ")\n",
        "\n",
        "plt.yticks(fontsize=10)\n",
        "plt.xlabel(\"Words\", fontsize=10)\n",
        "plt.ylabel(\"Frequency\", fontsize=10)\n",
        "plt.title(\"Top 10 Words\", fontsize=10)\n",
        "\n",
        "\n",
        "plt.show()"
      ],
      "metadata": {
        "colab": {
          "base_uri": "https://localhost:8080/",
          "height": 581
        },
        "id": "NvwhPFqWusjS",
        "outputId": "2fc803c8-f3d7-4d7d-f405-7a622bcb084a"
      },
      "execution_count": null,
      "outputs": [
        {
          "output_type": "display_data",
          "data": {
            "text/plain": [
              "<Figure size 1000x500 with 1 Axes>"
            ],
            "image/png": "[encoded data removed]"
          },
          "metadata": {}
        }
      ]
    },
    {
      "cell_type": "code",
      "source": [
        "# Get the number of unique words after processing\n",
        "num_unique_words = len(set(p_text))\n",
        "num_unique_words"
      ],
      "metadata": {
        "colab": {
          "base_uri": "https://localhost:8080/"
        },
        "id": "liSk2Xo4uz-y",
        "outputId": "43612073-cf81-43bd-c271-4ca86c963556"
      },
      "execution_count": null,
      "outputs": [
        {
          "output_type": "execute_result",
          "data": {
            "text/plain": [
              "1246"
            ]
          },
          "metadata": {},
          "execution_count": 36
        }
      ]
    },
    {
      "cell_type": "markdown",
      "source": [
        "## Text clustering: TF-IDF + dimensionality reduction + clustering algorithms\n",
        "\n",
        "In this project I use TF-IDF Vectorization (Term Frequency - Inverse Document Frequency)\n",
        "\n"
      ],
      "metadata": {
        "id": "k3E1TNbbn3c6"
      }
    },
    {
      "cell_type": "markdown",
      "source": [
        "### 1) Vectorise our dataset by TfIdfVectorizer()\n",
        "\n",
        "Term Frequency (TF): This summarizes how often a given word appears within a document\n",
        "Inverse Document Frequency (IDF): This downscales the words that appear a lot across documents.\n",
        "\n",
        "TF-IDF Vectorizer takes into account not only how many times a word appears in a document but also how important that word is to the whole corpus."
      ],
      "metadata": {
        "id": "QADJ2FKLl6rY"
      }
    },
    {
      "cell_type": "code",
      "source": [
        "data_copy = data.copy()"
      ],
      "metadata": {
        "id": "l1JPNSgIjC8_"
      },
      "execution_count": null,
      "outputs": []
    },
    {
      "cell_type": "code",
      "source": [
        "# TF-IDF vector\n",
        "\n",
        "desc = data['clean_document_lemma'].values\n",
        "vectorizer = TfidfVectorizer()\n",
        "X_tfidf = vectorizer.fit_transform(desc)\n",
        "word_features = vectorizer.get_feature_names_out()\n",
        "\n",
        "print(len(word_features))\n",
        "print(word_features[:50])"
      ],
      "metadata": {
        "colab": {
          "base_uri": "https://localhost:8080/"
        },
        "id": "Yi6MboFun5Ue",
        "outputId": "2c98201e-820d-4fa3-e421-6a871a1b43b5"
      },
      "execution_count": null,
      "outputs": [
        {
          "output_type": "stream",
          "name": "stdout",
          "text": [
            "1243\n",
            "['ability' 'able' 'academic' 'access' 'accessibility' 'accident'\n",
            " 'accommodate' 'accord' 'accordance' 'account' 'accredit' 'achieve'\n",
            " 'achievement' 'acquire' 'acquisition' 'acsc' 'action' 'active' 'activity'\n",
            " 'actor' 'adapt' 'add' 'addition' 'additional' 'address' 'adequate'\n",
            " 'administration' 'administrative' 'admission' 'adria' 'advanced'\n",
            " 'advancement' 'advantage' 'affair' 'agency' 'agreement' 'ai' 'aim'\n",
            " 'algebra' 'algorithm' 'align' 'allow' 'allows' 'alpen' 'alternative'\n",
            " 'alto' 'analysis' 'analytic' 'analytics' 'analyze']\n"
          ]
        }
      ]
    },
    {
      "cell_type": "code",
      "source": [
        "X_tfidf.todense()\n",
        "print(X_tfidf.shape)"
      ],
      "metadata": {
        "colab": {
          "base_uri": "https://localhost:8080/"
        },
        "id": "o1qh25tXfGD_",
        "outputId": "cc5f21e6-17cb-4121-fa2e-b04f49fe86fd"
      },
      "execution_count": null,
      "outputs": [
        {
          "output_type": "stream",
          "name": "stdout",
          "text": [
            "(143, 1243)\n"
          ]
        }
      ]
    },
    {
      "cell_type": "markdown",
      "source": [
        "Again, we have 143 study program name and 1242 unique words.\n"
      ],
      "metadata": {
        "id": "UqbQpWopo_RU"
      }
    },
    {
      "cell_type": "markdown",
      "source": [
        "### 2) Reduce the [dimensionality](https:// [link text](https://)) of the data using\n",
        "\n",
        "\n",
        "*   TruncatedSVD (Singular Value Decomposition)\n",
        "*   PCA (Principal component analysis)\n",
        "  \n",
        "\n"
      ],
      "metadata": {
        "id": "caNqqMDmmFjA"
      }
    },
    {
      "cell_type": "code",
      "source": [
        "# Use TruncatedSVD() for dimensional reduction\n",
        "t0 = time()\n",
        "\n",
        "tsvd = TruncatedSVD(n_components=X_tfidf.shape[1]-1)\n",
        "X_tsvd = tsvd.fit(X_tfidf)\n",
        "\n",
        "print(f\"\\nDimensionality reduction with SVD done in {time() - t0:.3f} s\")"
      ],
      "metadata": {
        "colab": {
          "base_uri": "https://localhost:8080/"
        },
        "id": "u_b9yR3ygseb",
        "outputId": "e4620931-ab1e-4481-9b63-9b6dfc9d40e4"
      },
      "execution_count": null,
      "outputs": [
        {
          "output_type": "stream",
          "name": "stdout",
          "text": [
            "\n",
            "Dimensionality reduction with SVD done in 0.264 s\n"
          ]
        }
      ]
    },
    {
      "cell_type": "code",
      "source": [
        "# List of explained variances\n",
        "tsvd_var_ratios = tsvd.explained_variance_ratio_"
      ],
      "metadata": {
        "id": "aFvSNB4fh9Ja"
      },
      "execution_count": null,
      "outputs": []
    },
    {
      "cell_type": "code",
      "source": [
        "\"\"\"\n",
        "Create a function to select the best number of components\n",
        "\"\"\"\n",
        "def select_n_components(var_ratio, goal_var):\n",
        "    # Set initial variance explained so far\n",
        "    total_variance = 0.0\n",
        "\n",
        "    # Set initial number of features\n",
        "    n_components = 0\n",
        "\n",
        "    # For the explained variance of each feature:\n",
        "    for explained_variance in var_ratio:\n",
        "        total_variance += explained_variance #add the explained variance to the total\n",
        "        n_components += 1 #add one to the number of components\n",
        "\n",
        "        if total_variance >= goal_var: #if we reach our goal level of explained variance\n",
        "            # End the loop\n",
        "            break\n",
        "\n",
        "    # Return the number of components\n",
        "    return n_components"
      ],
      "metadata": {
        "id": "2BA-GMtIiD3S"
      },
      "execution_count": null,
      "outputs": []
    },
    {
      "cell_type": "code",
      "source": [
        "# Run function\n",
        "select_n_components(tsvd_var_ratios, 0.95)"
      ],
      "metadata": {
        "colab": {
          "base_uri": "https://localhost:8080/"
        },
        "id": "RRaYTOe3iGXl",
        "outputId": "f7583a19-c4ea-401c-b159-cf6c5a9a5609"
      },
      "execution_count": null,
      "outputs": [
        {
          "output_type": "execute_result",
          "data": {
            "text/plain": [
              "124"
            ]
          },
          "metadata": {},
          "execution_count": 42
        }
      ]
    },
    {
      "cell_type": "code",
      "source": [
        "# Dimensionality reduction by TruncatedSVD() with optimal number of components\n",
        "tsvd_train = TruncatedSVD(n_components=124)\n",
        "tsvd_matrix = tsvd_train.fit_transform(X_tfidf)\n",
        "explained_variance = tsvd_train.explained_variance_ratio_.sum()\n",
        "\n",
        "print(f\"Shape of matrix: {tsvd_matrix.shape}\")\n",
        "print(f\"\\nExplained variance of the SVD step: {explained_variance * 100:.1f}%\")"
      ],
      "metadata": {
        "colab": {
          "base_uri": "https://localhost:8080/"
        },
        "id": "jx0bYL8fiLjS",
        "outputId": "116bd72c-6924-4b32-d4fc-b0e6e418a542"
      },
      "execution_count": null,
      "outputs": [
        {
          "output_type": "stream",
          "name": "stdout",
          "text": [
            "Shape of matrix: (143, 124)\n",
            "\n",
            "Explained variance of the SVD step: 95.2%\n"
          ]
        }
      ]
    },
    {
      "cell_type": "code",
      "source": [
        "# using PCA to reduce dimensionality\n",
        "pca = PCA(random_state=42)\n",
        "pca.fit(X_tfidf.toarray())"
      ],
      "metadata": {
        "id": "1tM9bNXIbkJ5"
      },
      "execution_count": null,
      "outputs": []
    },
    {
      "cell_type": "code",
      "source": [
        "# transformed features\n",
        "x_pca = pca.transform(X_tfidf.toarray())\n",
        "explained_variance_pca = pca.explained_variance_ratio_.sum()\n",
        "\n",
        "print(f\"Shape of matrix: {x_pca.shape}\")\n",
        "print(f\"\\nExplained variance of the PCA step: {explained_variance_pca * 100:.1f}%\")"
      ],
      "metadata": {
        "colab": {
          "base_uri": "https://localhost:8080/"
        },
        "id": "MxbQpN1ycLqO",
        "outputId": "0db9cead-be1c-449f-f72e-74ee5794836b"
      },
      "execution_count": null,
      "outputs": [
        {
          "output_type": "stream",
          "name": "stdout",
          "text": [
            "Shape of matrix: (143, 143)\n",
            "\n",
            "Explained variance of the PCA step: 100.0%\n"
          ]
        }
      ]
    },
    {
      "cell_type": "markdown",
      "source": [
        "Identifying the optimal number of clusters :\n",
        "\n",
        "*   Elbow method\n",
        "*   Silhouette score\n",
        "\n",
        "\n",
        "\n",
        "\n"
      ],
      "metadata": {
        "id": "HfOFNIQfiWbI"
      }
    },
    {
      "cell_type": "code",
      "source": [
        "# Create list of inertia and silhouette_score values in different number of clusters\n",
        "t0 = time()\n",
        "\n",
        "wcss = []\n",
        "silhouette = []\n",
        "\n",
        "# training k_means model\n",
        "# Fit on data (no need to normalize data, it already is due to TF-IDF)\n",
        "for i in range(2,21,2):\n",
        "    kmeans = KMeans(n_clusters=i, init=\"k-means++\", n_init=1, random_state=42)\n",
        "    kmeans.fit(X_tfidf)\n",
        "    wcss.append(kmeans.inertia_)\n",
        "    silhouette.append(silhouette_score(X_tfidf, kmeans.labels_))\n",
        "\n",
        "\n",
        "print(f\"\\nModel running with 20 different number of clusters done in {time() - t0:.3f} s\")"
      ],
      "metadata": {
        "colab": {
          "base_uri": "https://localhost:8080/"
        },
        "id": "lf0S9nNziZzy",
        "outputId": "f4c83218-17cc-42a7-af72-e8af05c9349f"
      },
      "execution_count": null,
      "outputs": [
        {
          "output_type": "stream",
          "name": "stdout",
          "text": [
            "\n",
            "Model running with 20 different number of clusters done in 0.201 s\n"
          ]
        }
      ]
    },
    {
      "cell_type": "code",
      "source": [
        "\"\"\"\n",
        "Elbow method plot\n",
        "\"\"\"\n",
        "plt.plot(range(2,21,2), wcss)\n",
        "plt.title(\"The Elbow Method\")\n",
        "plt.xlabel(\"Number of clusters\")\n",
        "plt.ylabel(\"Inertia value\")"
      ],
      "metadata": {
        "colab": {
          "base_uri": "https://localhost:8080/",
          "height": 497
        },
        "id": "_jNoHtgYitPn",
        "outputId": "2a63f69d-e68a-47e7-e08d-f54dd557bdb7"
      },
      "execution_count": null,
      "outputs": [
        {
          "output_type": "execute_result",
          "data": {
            "text/plain": [
              "Text(0, 0.5, 'Inertia value')"
            ]
          },
          "metadata": {},
          "execution_count": 48
        },
        {
          "output_type": "display_data",
          "data": {
            "text/plain": [
              "<Figure size 640x480 with 1 Axes>"
            ],
            "image/png": "[encoded data removed]"
          },
          "metadata": {}
        }
      ]
    },
    {
      "cell_type": "code",
      "source": [
        "\"\"\"\n",
        "Silhouette score plot\n",
        "\"\"\"\n",
        "plt.plot(range(2,21,2), silhouette)\n",
        "plt.title(\"The Silhouette score\")\n",
        "plt.xlabel(\"Number of clusters\")\n",
        "plt.ylabel(\"Silhouette score\")"
      ],
      "metadata": {
        "colab": {
          "base_uri": "https://localhost:8080/",
          "height": 497
        },
        "id": "oILgnHRbixFl",
        "outputId": "846d01d4-a500-4876-eaa2-0b74e074e38e"
      },
      "execution_count": null,
      "outputs": [
        {
          "output_type": "execute_result",
          "data": {
            "text/plain": [
              "Text(0, 0.5, 'Silhouette score')"
            ]
          },
          "metadata": {},
          "execution_count": 49
        },
        {
          "output_type": "display_data",
          "data": {
            "text/plain": [
              "<Figure size 640x480 with 1 Axes>"
            ],
            "image/png": "[encoded data removed]"
          },
          "metadata": {}
        }
      ]
    },
    {
      "cell_type": "code",
      "source": [
        "max_score = max(silhouette)\n",
        "print(f\"Optimal number of clusters - {silhouette.index(max_score)*5+5} with silhouette score value: {round(max_score, 4)}\")"
      ],
      "metadata": {
        "colab": {
          "base_uri": "https://localhost:8080/"
        },
        "id": "2bBAkTNFi2ID",
        "outputId": "6f9610a5-2fca-411f-d8a8-8a27a9a72743"
      },
      "execution_count": null,
      "outputs": [
        {
          "output_type": "stream",
          "name": "stdout",
          "text": [
            "Optimal number of clusters - 5 with silhouette score value: 0.0203\n"
          ]
        }
      ]
    },
    {
      "cell_type": "code",
      "source": [
        "\"\"\"\n",
        "Before we start to test another clustering algorithms\n",
        "I want to check one more time how will be better - to use only TF-IDF vectorizer or with TruncatedSVD or with PCA?\n",
        "\"\"\"\n",
        "t0 = time()\n",
        "\n",
        "# run kmeans model with TF-IDF vectors\n",
        "kmeans_tfidf = KMeans(n_clusters=5, init=\"k-means++\", n_init=10, random_state=42)\n",
        "kmeans_tfidf_clusters = kmeans_tfidf.fit_predict(X_tfidf)\n",
        "\n",
        "print(f\"KMeans\\non tf-idf vectors: {round(silhouette_score(X_tfidf, kmeans_tfidf_clusters), 4)}\")\n",
        "print(f\"\\nModel running done in {time() - t0:.3f} s\")"
      ],
      "metadata": {
        "colab": {
          "base_uri": "https://localhost:8080/"
        },
        "id": "j0DB_gdEkOSf",
        "outputId": "95c3b457-6fab-41aa-bb67-2faf91e83924"
      },
      "execution_count": null,
      "outputs": [
        {
          "output_type": "stream",
          "name": "stdout",
          "text": [
            "KMeans\n",
            "on tf-idf vectors: 0.0115\n",
            "\n",
            "Model running done in 0.142 s\n"
          ]
        }
      ]
    },
    {
      "cell_type": "code",
      "source": [
        "t0 = time()\n",
        "\n",
        "# run MiniBatchKMeans model on TF-IDF vectors\n",
        "minibatch_tfidf = MiniBatchKMeans(n_clusters=5, n_init=10, random_state=42)\n",
        "minibatch_tfidf_clusters = minibatch_tfidf.fit_predict(X_tfidf)\n",
        "\n",
        "print(f\"MiniBatchKMeans\\non tf-idf vectors: {round(silhouette_score(X_tfidf, minibatch_tfidf_clusters), 4)}\")\n",
        "print(f\"\\nModel running done in {time() - t0:.3f} s\")"
      ],
      "metadata": {
        "colab": {
          "base_uri": "https://localhost:8080/"
        },
        "id": "DqaA7KHCkXIK",
        "outputId": "f3e2ad35-0ebc-46eb-d18b-e256d1642177"
      },
      "execution_count": null,
      "outputs": [
        {
          "output_type": "stream",
          "name": "stdout",
          "text": [
            "MiniBatchKMeans\n",
            "on tf-idf vectors: 0.0095\n",
            "\n",
            "Model running done in 2.125 s\n"
          ]
        }
      ]
    },
    {
      "cell_type": "code",
      "source": [
        "t0 = time()\n",
        "\n",
        "# run kmeans model with LSA on TF-IDF vectors\n",
        "kmeans_lsa = KMeans(n_clusters=5, init=\"k-means++\", n_init=10, random_state=42)\n",
        "kmeans_lsa_clusters = kmeans_lsa.fit_predict(tsvd_matrix)\n",
        "\n",
        "print(f\"KMeans with LSA\\non tf-idf vectors: {round(silhouette_score(tsvd_matrix, kmeans_lsa_clusters), 4)}\")\n",
        "print(f\"\\nModel running done in {time() - t0:.3f} s\")"
      ],
      "metadata": {
        "colab": {
          "base_uri": "https://localhost:8080/"
        },
        "id": "rpstX4j0wonk",
        "outputId": "ccf53633-1b3e-43de-db56-bad3dc108628"
      },
      "execution_count": null,
      "outputs": [
        {
          "output_type": "stream",
          "name": "stdout",
          "text": [
            "KMeans with LSA\n",
            "on tf-idf vectors: 0.0018\n",
            "\n",
            "Model running done in 0.146 s\n"
          ]
        }
      ]
    },
    {
      "cell_type": "code",
      "source": [
        "t0 = time()\n",
        "\n",
        "# run MiniBatchKMeans model with LSA on TF-IDF vectors\n",
        "minibatch_lsa = MiniBatchKMeans(n_clusters=5, n_init=10, random_state=42)\n",
        "minibatch_lsa_clusters = minibatch_lsa.fit_predict(tsvd_matrix)\n",
        "\n",
        "print(f\"MiniBatchKMeans with LSA\\non tf-idf vectors: {round(silhouette_score(tsvd_matrix, minibatch_lsa_clusters), 4)}\")\n",
        "print(f\"\\nModel running done in {time() - t0:.3f} s\")"
      ],
      "metadata": {
        "colab": {
          "base_uri": "https://localhost:8080/"
        },
        "id": "AcwruYzzwuXt",
        "outputId": "d17542de-01ef-4380-dae7-be6a5b619348"
      },
      "execution_count": null,
      "outputs": [
        {
          "output_type": "stream",
          "name": "stdout",
          "text": [
            "MiniBatchKMeans with LSA\n",
            "on tf-idf vectors: -0.0078\n",
            "\n",
            "Model running done in 0.232 s\n"
          ]
        }
      ]
    },
    {
      "cell_type": "code",
      "source": [
        "t0 = time()\n",
        "\n",
        "# run kmeans model with PCA on TF-IDF vectors\n",
        "kmeans_pca = KMeans(n_clusters=5, init=\"k-means++\", n_init=10, random_state=42)\n",
        "kmeans_pca_clusters = kmeans_pca.fit_predict(x_pca)\n",
        "\n",
        "print(f\"KMeans with PCA\\non tf-idf vectors: {round(silhouette_score(x_pca, kmeans_pca_clusters), 4)}\")\n",
        "print(f\"\\nModel running done in {time() - t0:.3f} s\")"
      ],
      "metadata": {
        "colab": {
          "base_uri": "https://localhost:8080/"
        },
        "id": "TenMH3Q8doFf",
        "outputId": "6ec221e5-861f-422f-d550-99347384a608"
      },
      "execution_count": null,
      "outputs": [
        {
          "output_type": "stream",
          "name": "stdout",
          "text": [
            "KMeans with PCA\n",
            "on tf-idf vectors: 0.0115\n",
            "\n",
            "Model running done in 0.124 s\n"
          ]
        }
      ]
    },
    {
      "cell_type": "code",
      "source": [
        "t0 = time()\n",
        "\n",
        "# run MiniBatchKMeans model with LSA on TF-IDF vectors\n",
        "minibatch_pca = MiniBatchKMeans(n_clusters=5, n_init=10, random_state=42)\n",
        "minibatch_pca_clusters = minibatch_lsa.fit_predict(x_pca)\n",
        "\n",
        "print(f\"MiniBatchKMeans with PCA\\non tf-idf vectors: {round(silhouette_score(x_pca, minibatch_pca_clusters), 4)}\")\n",
        "print(f\"\\nModel running done in {time() - t0:.3f} s\")"
      ],
      "metadata": {
        "colab": {
          "base_uri": "https://localhost:8080/"
        },
        "id": "HA5CogXad4Nz",
        "outputId": "9f0db16c-034c-41f1-dbf4-27137c677eca"
      },
      "execution_count": null,
      "outputs": [
        {
          "output_type": "stream",
          "name": "stdout",
          "text": [
            "MiniBatchKMeans with PCA\n",
            "on tf-idf vectors: 0.0095\n",
            "\n",
            "Model running done in 0.440 s\n"
          ]
        }
      ]
    },
    {
      "cell_type": "code",
      "source": [
        "t0 = time()\n",
        "\n",
        "# run GaussianMixture model on TF-IDF vectors\n",
        "gm = GaussianMixture(n_components=5, random_state=42)\n",
        "gm_clustring_tfidf = gm.fit_predict(X_tfidf.toarray())\n",
        "gm_silhouette_tfidf = silhouette_score(X_tfidf, gm_clustring_tfidf)\n",
        "\n",
        "print(f\"GaussianMixture \\non tf-idf vectors: {round(gm_silhouette_tfidf, 4)}\")\n",
        "print(f\"\\nModel running done in {time() - t0:.3f} s\")"
      ],
      "metadata": {
        "colab": {
          "base_uri": "https://localhost:8080/"
        },
        "id": "pdze07Ui3jgX",
        "outputId": "5c6113f9-d572-43d3-bc46-4a81fa7f0aa2"
      },
      "execution_count": null,
      "outputs": [
        {
          "output_type": "stream",
          "name": "stdout",
          "text": [
            "GaussianMixture \n",
            "on tf-idf vectors: 0.0016\n",
            "\n",
            "Model running done in 5.341 s\n"
          ]
        }
      ]
    },
    {
      "cell_type": "code",
      "source": [
        "t0 = time()\n",
        "\n",
        "# run GaussianMixture model with LSA on TF-IDF vectors\n",
        "gm = GaussianMixture(n_components=5, random_state=42)\n",
        "gm_clustring_tsvd = gm.fit_predict(tsvd_matrix)\n",
        "gm_silhouette_tsvd = silhouette_score(tsvd_matrix, gm_clustring_tsvd)\n",
        "\n",
        "print(f\"GaussianMixture with LSA\\non tf-idf vectors: {round(gm_silhouette_tsvd, 4)}\")\n",
        "print(f\"\\nModel running done in {time() - t0:.3f} s\")"
      ],
      "metadata": {
        "colab": {
          "base_uri": "https://localhost:8080/"
        },
        "id": "cUDEz1NP5zbH",
        "outputId": "e6ef524e-0da8-4d26-9cdf-42d5dc4cc079"
      },
      "execution_count": null,
      "outputs": [
        {
          "output_type": "stream",
          "name": "stdout",
          "text": [
            "GaussianMixture with LSA\n",
            "on tf-idf vectors: 0.0069\n",
            "\n",
            "Model running done in 0.101 s\n"
          ]
        }
      ]
    },
    {
      "cell_type": "code",
      "source": [
        "t0 = time()\n",
        "\n",
        "# run GaussianMixture model with PCA on TF-IDF vectors\n",
        "gm = GaussianMixture(n_components=5, random_state=42)\n",
        "gm_clustring_pcs = gm.fit_predict(x_pca)\n",
        "gm_silhouette_pcs = silhouette_score(x_pca, gm_clustring_pcs)\n",
        "\n",
        "print(f\"GaussianMixture with PCA\\non tf-idf vectors: {round(gm_silhouette_pcs, 4)}\")\n",
        "print(f\"\\nModel running done in {time() - t0:.3f} s\")"
      ],
      "metadata": {
        "colab": {
          "base_uri": "https://localhost:8080/"
        },
        "id": "fEqm6ib47et9",
        "outputId": "f13ddb74-7f48-46d7-cc11-1a3fdc1473c3"
      },
      "execution_count": null,
      "outputs": [
        {
          "output_type": "stream",
          "name": "stdout",
          "text": [
            "GaussianMixture with PCA\n",
            "on tf-idf vectors: 0.0016\n",
            "\n",
            "Model running done in 0.127 s\n"
          ]
        }
      ]
    },
    {
      "cell_type": "code",
      "source": [
        "t0 = time()\n",
        "\n",
        "# run Agglomerative model on TF-IDF vectors\n",
        "agglo = AgglomerativeClustering(linkage=\"ward\", n_clusters=17)\n",
        "agglo_clustering_tfidf = agglo.fit_predict(X_tfidf.toarray())\n",
        "agglo_silhouette_tfidf = silhouette_score(X_tfidf, agglo_clustering_tfidf)\n",
        "\n",
        "print(f\"Agglomerative \\non tf-idf vectors: {round(agglo_silhouette_tfidf, 4)}\")\n",
        "print(f\"\\nModel running done in {time() - t0:.3f} s\")"
      ],
      "metadata": {
        "colab": {
          "base_uri": "https://localhost:8080/"
        },
        "id": "WlUlSsM0lmID",
        "outputId": "83e62c30-cc57-4187-ac84-62ab5961d71c"
      },
      "execution_count": null,
      "outputs": [
        {
          "output_type": "stream",
          "name": "stdout",
          "text": [
            "Agglomerative \n",
            "on tf-idf vectors: 0.0217\n",
            "\n",
            "Model running done in 0.089 s\n"
          ]
        }
      ]
    },
    {
      "cell_type": "code",
      "source": [
        "t0 = time()\n",
        "\n",
        "# run Agglomerative model with LSA on TF-IDF vectors\n",
        "agglo = AgglomerativeClustering(linkage=\"ward\", n_clusters=17)\n",
        "agglo_clustering_tsvd = agglo.fit_predict(tsvd_matrix)\n",
        "agglo_silhouette_tsvd = silhouette_score(tsvd_matrix, agglo_clustering_tsvd)\n",
        "\n",
        "print(f\"Agglomerative with LSA\\non tf-idf vectors: {round(agglo_silhouette_tsvd, 4)}\")\n",
        "print(f\"\\nModel running done in {time() - t0:.3f} s\")"
      ],
      "metadata": {
        "colab": {
          "base_uri": "https://localhost:8080/"
        },
        "id": "O20Mwjhrl_4A",
        "outputId": "5be565a8-990c-46e5-8062-5c07c4e4358f"
      },
      "execution_count": null,
      "outputs": [
        {
          "output_type": "stream",
          "name": "stdout",
          "text": [
            "Agglomerative with LSA\n",
            "on tf-idf vectors: 0.0214\n",
            "\n",
            "Model running done in 0.027 s\n"
          ]
        }
      ]
    },
    {
      "cell_type": "code",
      "source": [
        "t0 = time()\n",
        "\n",
        "# run Agglomerative model with PCA on TF-IDF vectors\n",
        "agglo = AgglomerativeClustering(linkage=\"ward\", n_clusters=17)\n",
        "agglo_clustering_pca = agglo.fit_predict(x_pca)\n",
        "agglo_silhouette_pca = silhouette_score(x_pca, agglo_clustering_pca)\n",
        "\n",
        "print(f\"Agglomerative with PCA\\non tf-idf vectors: {round(agglo_silhouette_pca, 4)}\")\n",
        "print(f\"\\nModel running done in {time() - t0:.3f} s\")"
      ],
      "metadata": {
        "colab": {
          "base_uri": "https://localhost:8080/"
        },
        "id": "UKRclurtmQnN",
        "outputId": "7fd91e04-7fde-4cac-ace3-c2a894de63bf"
      },
      "execution_count": null,
      "outputs": [
        {
          "output_type": "stream",
          "name": "stdout",
          "text": [
            "Agglomerative with PCA\n",
            "on tf-idf vectors: 0.0217\n",
            "\n",
            "Model running done in 0.020 s\n"
          ]
        }
      ]
    },
    {
      "cell_type": "code",
      "source": [
        "# Clustering on documents with DBSCAN\n",
        "dbs = DBSCAN(eps=0.8, min_samples=5, metric=\"cosine\", algorithm=\"brute\") # number eps can try to find the optimal number, has a room for improvement.\n",
        "dbs_clustering_tfidf = dbs.fit_predict(X_tfidf)\n",
        "dcs_silhouette_tfidf = silhouette_score(X_tfidf, dbs_clustering_tfidf)\n",
        "\n",
        "print(f\"DBSCAN \\non tf-idf vectors: {round(dcs_silhouette_tfidf, 4)}\")\n",
        "print(f\"\\nModel running done in {time() - t0:.3f} s\")"
      ],
      "metadata": {
        "colab": {
          "base_uri": "https://localhost:8080/"
        },
        "id": "3ebmf4QX9YEY",
        "outputId": "5992de28-0fdc-41ba-e8f3-75e134c929ed"
      },
      "execution_count": null,
      "outputs": [
        {
          "output_type": "stream",
          "name": "stdout",
          "text": [
            "DBSCAN \n",
            "on tf-idf vectors: 0.0246\n",
            "\n",
            "Model running done in 501.307 s\n"
          ]
        }
      ]
    },
    {
      "cell_type": "code",
      "source": [
        "# Clustering on documents with DBSCAN\n",
        "dbs = DBSCAN(eps=0.5, min_samples=2, metric=\"cosine\", algorithm=\"brute\") # number eps can try to find the optimal number, has a room for improvement.\n",
        "dbs_clustering_tsvd = dbs.fit_predict(tsvd_matrix)\n",
        "dcs_silhouette_tsvd = silhouette_score(tsvd_matrix, dbs_clustering_tsvd)\n",
        "\n",
        "print(f\"DBSCAN with LSA \\non tf-idf vectors: {round(dcs_silhouette_tsvd, 4)}\")\n",
        "print(f\"\\nModel running done in {time() - t0:.3f} s\")"
      ],
      "metadata": {
        "colab": {
          "base_uri": "https://localhost:8080/"
        },
        "id": "pxx7AakPzwh3",
        "outputId": "8177feaf-80b7-47b9-a70b-8ef7aa9732ca"
      },
      "execution_count": null,
      "outputs": [
        {
          "output_type": "stream",
          "name": "stdout",
          "text": [
            "DBSCAN with LSA \n",
            "on tf-idf vectors: -0.0212\n",
            "\n",
            "Model running done in 125.485 s\n"
          ]
        }
      ]
    },
    {
      "cell_type": "code",
      "source": [
        "# Clustering on documents with DBSCAN\n",
        "dbs = DBSCAN(eps=0.8, min_samples=5, metric=\"cosine\", algorithm=\"brute\") # number eps can try to find the optimal number, has a room for improvement.\n",
        "dbs_clustering_pca = dbs.fit_predict(x_pca)\n",
        "dcs_silhouette_pca = silhouette_score(x_pca, dbs_clustering_pca)\n",
        "\n",
        "print(f\"DBSCAN with PCA\\non tf-idf vectors: {round(dcs_silhouette_tsvd, 4)}\")\n",
        "print(f\"\\nModel running done in {time() - t0:.3f} s\")"
      ],
      "metadata": {
        "colab": {
          "base_uri": "https://localhost:8080/"
        },
        "id": "qYGluv080F7M",
        "outputId": "53853cb3-cfec-4d78-e2af-b6e940aa48d3"
      },
      "execution_count": null,
      "outputs": [
        {
          "output_type": "stream",
          "name": "stdout",
          "text": [
            "DBSCAN with PCA\n",
            "on tf-idf vectors: 0.0335\n",
            "\n",
            "Model running done in 34.256 s\n"
          ]
        }
      ]
    },
    {
      "cell_type": "code",
      "source": [
        "tfidf_vs_lsa = pd.DataFrame({\n",
        "    \"Model Name\": [\"KMeans on TF-IDF\", \"KMeans with LSA on TF-IDF\", \"KMeans with PCA on TF-IDF\"\n",
        "                   ,\"MiniBatchKMeans on TF-IDF\", \"MiniBatchKMeans with LSA on TF-IDF\",\"MiniBatchKMeans with PCA on TF-IDF\"\n",
        "                   ,\"GaussianMixture on TF-IDF\", \"GaussianMixture with LSA on TF-IDF\",\"GaussianMixture with PCA on TF-IDF\"\n",
        "                   ,\"Agglomerative on TF IDF\", \"Agglomerative with LSA on TF-IDF\", \"Agglomerative with PCA on TF-IDF\"\n",
        "                   ,\"DBSCAN on TF-IDF\",\"DBSCAN with LSA on TF-IDF\",\"DBSCAN with PCA on TF-IDF\"],\n",
        "    \"Silhouette score\": [\"0.0115\", \"0.0018\",\"0.0115\"\n",
        "                   , \"0.0095\", \"-0.0078\",\"0.0095\"\n",
        "                   ,\"0.0061\",\"0.0200\",\"0.0203\"\n",
        "                   ,\"0.0217\",\"0.0214\",\"0.0217\"\n",
        "                   ,\"0.0246\",\"0.0335\",\"0.0135\"],\n",
        "})\n",
        "\n",
        "display(tfidf_vs_lsa)"
      ],
      "metadata": {
        "colab": {
          "base_uri": "https://localhost:8080/",
          "height": 519
        },
        "id": "6d0Q4GnLw1Qe",
        "outputId": "6e69ce83-b837-40f3-bcc8-d3f73c7d3a2c"
      },
      "execution_count": null,
      "outputs": [
        {
          "output_type": "display_data",
          "data": {
            "text/plain": [
              "                            Model Name Silhouette score\n",
              "0                     KMeans on TF-IDF           0.0115\n",
              "1            KMeans with LSA on TF-IDF           0.0018\n",
              "2            KMeans with PCA on TF-IDF           0.0115\n",
              "3            MiniBatchKMeans on TF-IDF           0.0095\n",
              "4   MiniBatchKMeans with LSA on TF-IDF          -0.0078\n",
              "5   MiniBatchKMeans with PCA on TF-IDF           0.0095\n",
              "6            GaussianMixture on TF-IDF           0.0061\n",
              "7   GaussianMixture with LSA on TF-IDF           0.0200\n",
              "8   GaussianMixture with PCA on TF-IDF           0.0203\n",
              "9              Agglomerative on TF IDF           0.0217\n",
              "10    Agglomerative with LSA on TF-IDF           0.0214\n",
              "11    Agglomerative with PCA on TF-IDF           0.0217\n",
              "12                    DBSCAN on TF-IDF           0.0246\n",
              "13           DBSCAN with LSA on TF-IDF           0.0335\n",
              "14           DBSCAN with PCA on TF-IDF           0.0135"
            ],
            "text/html": [
              "\n",
              "  <div id=\"df-bb942635-900f-43a5-868c-b6d8306b9b09\" class=\"colab-df-container\">\n",
              "    <div>\n",
              "<style scoped>\n",
              "    .dataframe tbody tr th:only-of-type {\n",
              "        vertical-align: middle;\n",
              "    }\n",
              "\n",
              "    .dataframe tbody tr th {\n",
              "        vertical-align: top;\n",
              "    }\n",
              "\n",
              "    .dataframe thead th {\n",
              "        text-align: right;\n",
              "    }\n",
              "</style>\n",
              "<table border=\"1\" class=\"dataframe\">\n",
              "  <thead>\n",
              "    <tr style=\"text-align: right;\">\n",
              "      <th></th>\n",
              "      <th>Model Name</th>\n",
              "      <th>Silhouette score</th>\n",
              "    </tr>\n",
              "  </thead>\n",
              "  <tbody>\n",
              "    <tr>\n",
              "      <th>0</th>\n",
              "      <td>KMeans on TF-IDF</td>\n",
              "      <td>0.0115</td>\n",
              "    </tr>\n",
              "    <tr>\n",
              "      <th>1</th>\n",
              "      <td>KMeans with LSA on TF-IDF</td>\n",
              "      <td>0.0018</td>\n",
              "    </tr>\n",
              "    <tr>\n",
              "      <th>2</th>\n",
              "      <td>KMeans with PCA on TF-IDF</td>\n",
              "      <td>0.0115</td>\n",
              "    </tr>\n",
              "    <tr>\n",
              "      <th>3</th>\n",
              "      <td>MiniBatchKMeans on TF-IDF</td>\n",
              "      <td>0.0095</td>\n",
              "    </tr>\n",
              "    <tr>\n",
              "      <th>4</th>\n",
              "      <td>MiniBatchKMeans with LSA on TF-IDF</td>\n",
              "      <td>-0.0078</td>\n",
              "    </tr>\n",
              "    <tr>\n",
              "      <th>5</th>\n",
              "      <td>MiniBatchKMeans with PCA on TF-IDF</td>\n",
              "      <td>0.0095</td>\n",
              "    </tr>\n",
              "    <tr>\n",
              "      <th>6</th>\n",
              "      <td>GaussianMixture on TF-IDF</td>\n",
              "      <td>0.0061</td>\n",
              "    </tr>\n",
              "    <tr>\n",
              "      <th>7</th>\n",
              "      <td>GaussianMixture with LSA on TF-IDF</td>\n",
              "      <td>0.0200</td>\n",
              "    </tr>\n",
              "    <tr>\n",
              "      <th>8</th>\n",
              "      <td>GaussianMixture with PCA on TF-IDF</td>\n",
              "      <td>0.0203</td>\n",
              "    </tr>\n",
              "    <tr>\n",
              "      <th>9</th>\n",
              "      <td>Agglomerative on TF IDF</td>\n",
              "      <td>0.0217</td>\n",
              "    </tr>\n",
              "    <tr>\n",
              "      <th>10</th>\n",
              "      <td>Agglomerative with LSA on TF-IDF</td>\n",
              "      <td>0.0214</td>\n",
              "    </tr>\n",
              "    <tr>\n",
              "      <th>11</th>\n",
              "      <td>Agglomerative with PCA on TF-IDF</td>\n",
              "      <td>0.0217</td>\n",
              "    </tr>\n",
              "    <tr>\n",
              "      <th>12</th>\n",
              "      <td>DBSCAN on TF-IDF</td>\n",
              "      <td>0.0246</td>\n",
              "    </tr>\n",
              "    <tr>\n",
              "      <th>13</th>\n",
              "      <td>DBSCAN with LSA on TF-IDF</td>\n",
              "      <td>0.0335</td>\n",
              "    </tr>\n",
              "    <tr>\n",
              "      <th>14</th>\n",
              "      <td>DBSCAN with PCA on TF-IDF</td>\n",
              "      <td>0.0135</td>\n",
              "    </tr>\n",
              "  </tbody>\n",
              "</table>\n",
              "</div>\n",
              "    <div class=\"colab-df-buttons\">\n",
              "\n",
              "  <div class=\"colab-df-container\">\n",
              "    <button class=\"colab-df-convert\" onclick=\"convertToInteractive('df-bb942635-900f-43a5-868c-b6d8306b9b09')\"\n",
              "            title=\"Convert this dataframe to an interactive table.\"\n",
              "            style=\"display:none;\">\n",
              "\n",
              "  <svg xmlns=\"http://www.w3.org/2000/svg\" height=\"24px\" viewBox=\"0 -960 960 960\">\n",
              "    <path d=\"M120-120v-720h720v720H120Zm60-500h600v-160H180v160Zm220 220h160v-160H400v160Zm0 220h160v-160H400v160ZM180-400h160v-160H180v160Zm440 0h160v-160H620v160ZM180-180h160v-160H180v160Zm440 0h160v-160H620v160Z\"/>\n",
              "  </svg>\n",
              "    </button>\n",
              "\n",
              "  <style>\n",
              "    .colab-df-container {\n",
              "      display:flex;\n",
              "      gap: 12px;\n",
              "    }\n",
              "\n",
              "    .colab-df-convert {\n",
              "      background-color: #E8F0FE;\n",
              "      border: none;\n",
              "      border-radius: 50%;\n",
              "      cursor: pointer;\n",
              "      display: none;\n",
              "      fill: #1967D2;\n",
              "      height: 32px;\n",
              "      padding: 0 0 0 0;\n",
              "      width: 32px;\n",
              "    }\n",
              "\n",
              "    .colab-df-convert:hover {\n",
              "      background-color: #E2EBFA;\n",
              "      box-shadow: 0px 1px 2px rgba(60, 64, 67, 0.3), 0px 1px 3px 1px rgba(60, 64, 67, 0.15);\n",
              "      fill: #174EA6;\n",
              "    }\n",
              "\n",
              "    .colab-df-buttons div {\n",
              "      margin-bottom: 4px;\n",
              "    }\n",
              "\n",
              "    [theme=dark] .colab-df-convert {\n",
              "      background-color: #3B4455;\n",
              "      fill: #D2E3FC;\n",
              "    }\n",
              "\n",
              "    [theme=dark] .colab-df-convert:hover {\n",
              "      background-color: #434B5C;\n",
              "      box-shadow: 0px 1px 3px 1px rgba(0, 0, 0, 0.15);\n",
              "      filter: drop-shadow(0px 1px 2px rgba(0, 0, 0, 0.3));\n",
              "      fill: #FFFFFF;\n",
              "    }\n",
              "  </style>\n",
              "\n",
              "    <script>\n",
              "      const buttonEl =\n",
              "        document.querySelector('#df-bb942635-900f-43a5-868c-b6d8306b9b09 button.colab-df-convert');\n",
              "      buttonEl.style.display =\n",
              "        google.colab.kernel.accessAllowed ? 'block' : 'none';\n",
              "\n",
              "      async function convertToInteractive(key) {\n",
              "        const element = document.querySelector('#df-bb942635-900f-43a5-868c-b6d8306b9b09');\n",
              "        const dataTable =\n",
              "          await google.colab.kernel.invokeFunction('convertToInteractive',\n",
              "                                                    [key], {});\n",
              "        if (!dataTable) return;\n",
              "\n",
              "        const docLinkHtml = 'Like what you see? Visit the ' +\n",
              "          '<a target=\"_blank\" href=https://colab.research.google.com/notebooks/data_table.ipynb>data table notebook</a>'\n",
              "          + ' to learn more about interactive tables.';\n",
              "        element.innerHTML = '';\n",
              "        dataTable['output_type'] = 'display_data';\n",
              "        await google.colab.output.renderOutput(dataTable, element);\n",
              "        const docLink = document.createElement('div');\n",
              "        docLink.innerHTML = docLinkHtml;\n",
              "        element.appendChild(docLink);\n",
              "      }\n",
              "    </script>\n",
              "  </div>\n",
              "\n",
              "\n",
              "<div id=\"df-ee9e85d8-d050-47e5-acee-bba69560dd67\">\n",
              "  <button class=\"colab-df-quickchart\" onclick=\"quickchart('df-ee9e85d8-d050-47e5-acee-bba69560dd67')\"\n",
              "            title=\"Suggest charts\"\n",
              "            style=\"display:none;\">\n",
              "\n",
              "<svg xmlns=\"http://www.w3.org/2000/svg\" height=\"24px\"viewBox=\"0 0 24 24\"\n",
              "     width=\"24px\">\n",
              "    <g>\n",
              "        <path d=\"M19 3H5c-1.1 0-2 .9-2 2v14c0 1.1.9 2 2 2h14c1.1 0 2-.9 2-2V5c0-1.1-.9-2-2-2zM9 17H7v-7h2v7zm4 0h-2V7h2v10zm4 0h-2v-4h2v4z\"/>\n",
              "    </g>\n",
              "</svg>\n",
              "  </button>\n",
              "\n",
              "<style>\n",
              "  .colab-df-quickchart {\n",
              "      --bg-color: #E8F0FE;\n",
              "      --fill-color: #1967D2;\n",
              "      --hover-bg-color: #E2EBFA;\n",
              "      --hover-fill-color: #174EA6;\n",
              "      --disabled-fill-color: #AAA;\n",
              "      --disabled-bg-color: #DDD;\n",
              "  }\n",
              "\n",
              "  [theme=dark] .colab-df-quickchart {\n",
              "      --bg-color: #3B4455;\n",
              "      --fill-color: #D2E3FC;\n",
              "      --hover-bg-color: #434B5C;\n",
              "      --hover-fill-color: #FFFFFF;\n",
              "      --disabled-bg-color: #3B4455;\n",
              "      --disabled-fill-color: #666;\n",
              "  }\n",
              "\n",
              "  .colab-df-quickchart {\n",
              "    background-color: var(--bg-color);\n",
              "    border: none;\n",
              "    border-radius: 50%;\n",
              "    cursor: pointer;\n",
              "    display: none;\n",
              "    fill: var(--fill-color);\n",
              "    height: 32px;\n",
              "    padding: 0;\n",
              "    width: 32px;\n",
              "  }\n",
              "\n",
              "  .colab-df-quickchart:hover {\n",
              "    background-color: var(--hover-bg-color);\n",
              "    box-shadow: 0 1px 2px rgba(60, 64, 67, 0.3), 0 1px 3px 1px rgba(60, 64, 67, 0.15);\n",
              "    fill: var(--button-hover-fill-color);\n",
              "  }\n",
              "\n",
              "  .colab-df-quickchart-complete:disabled,\n",
              "  .colab-df-quickchart-complete:disabled:hover {\n",
              "    background-color: var(--disabled-bg-color);\n",
              "    fill: var(--disabled-fill-color);\n",
              "    box-shadow: none;\n",
              "  }\n",
              "\n",
              "  .colab-df-spinner {\n",
              "    border: 2px solid var(--fill-color);\n",
              "    border-color: transparent;\n",
              "    border-bottom-color: var(--fill-color);\n",
              "    animation:\n",
              "      spin 1s steps(1) infinite;\n",
              "  }\n",
              "\n",
              "  @keyframes spin {\n",
              "    0% {\n",
              "      border-color: transparent;\n",
              "      border-bottom-color: var(--fill-color);\n",
              "      border-left-color: var(--fill-color);\n",
              "    }\n",
              "    20% {\n",
              "      border-color: transparent;\n",
              "      border-left-color: var(--fill-color);\n",
              "      border-top-color: var(--fill-color);\n",
              "    }\n",
              "    30% {\n",
              "      border-color: transparent;\n",
              "      border-left-color: var(--fill-color);\n",
              "      border-top-color: var(--fill-color);\n",
              "      border-right-color: var(--fill-color);\n",
              "    }\n",
              "    40% {\n",
              "      border-color: transparent;\n",
              "      border-right-color: var(--fill-color);\n",
              "      border-top-color: var(--fill-color);\n",
              "    }\n",
              "    60% {\n",
              "      border-color: transparent;\n",
              "      border-right-color: var(--fill-color);\n",
              "    }\n",
              "    80% {\n",
              "      border-color: transparent;\n",
              "      border-right-color: var(--fill-color);\n",
              "      border-bottom-color: var(--fill-color);\n",
              "    }\n",
              "    90% {\n",
              "      border-color: transparent;\n",
              "      border-bottom-color: var(--fill-color);\n",
              "    }\n",
              "  }\n",
              "</style>\n",
              "\n",
              "  <script>\n",
              "    async function quickchart(key) {\n",
              "      const quickchartButtonEl =\n",
              "        document.querySelector('#' + key + ' button');\n",
              "      quickchartButtonEl.disabled = true;  // To prevent multiple clicks.\n",
              "      quickchartButtonEl.classList.add('colab-df-spinner');\n",
              "      try {\n",
              "        const charts = await google.colab.kernel.invokeFunction(\n",
              "            'suggestCharts', [key], {});\n",
              "      } catch (error) {\n",
              "        console.error('Error during call to suggestCharts:', error);\n",
              "      }\n",
              "      quickchartButtonEl.classList.remove('colab-df-spinner');\n",
              "      quickchartButtonEl.classList.add('colab-df-quickchart-complete');\n",
              "    }\n",
              "    (() => {\n",
              "      let quickchartButtonEl =\n",
              "        document.querySelector('#df-ee9e85d8-d050-47e5-acee-bba69560dd67 button');\n",
              "      quickchartButtonEl.style.display =\n",
              "        google.colab.kernel.accessAllowed ? 'block' : 'none';\n",
              "    })();\n",
              "  </script>\n",
              "</div>\n",
              "    </div>\n",
              "  </div>\n"
            ],
            "application/vnd.google.colaboratory.intrinsic+json": {
              "type": "dataframe",
              "variable_name": "tfidf_vs_lsa",
              "summary": "{\n  \"name\": \"tfidf_vs_lsa\",\n  \"rows\": 15,\n  \"fields\": [\n    {\n      \"column\": \"Model Name\",\n      \"properties\": {\n        \"dtype\": \"string\",\n        \"num_unique_values\": 15,\n        \"samples\": [\n          \"Agglomerative on TF IDF\",\n          \"Agglomerative with PCA on TF-IDF\",\n          \"KMeans on TF-IDF\"\n        ],\n        \"semantic_type\": \"\",\n        \"description\": \"\"\n      }\n    },\n    {\n      \"column\": \"Silhouette score\",\n      \"properties\": {\n        \"dtype\": \"string\",\n        \"num_unique_values\": 12,\n        \"samples\": [\n          \"0.0335\",\n          \"0.0246\",\n          \"0.0115\"\n        ],\n        \"semantic_type\": \"\",\n        \"description\": \"\"\n      }\n    }\n  ]\n}"
            }
          },
          "metadata": {}
        }
      ]
    },
    {
      "cell_type": "code",
      "source": [],
      "metadata": {
        "id": "LGT0h6UON9i7"
      },
      "execution_count": null,
      "outputs": []
    },
    {
      "cell_type": "markdown",
      "source": [
        "We found the optimal cluster algorithm **DBSCAN with LSA on TF-IDF with Sillhoutte score 0.0335.**\n",
        "\n",
        "Now I want to try to find the optimal number for the epsilon and the number for the cluster to use in the cluster algorithm DBSCAN."
      ],
      "metadata": {
        "id": "B8tMTzLS0_3G"
      }
    },
    {
      "cell_type": "code",
      "source": [
        "\"\"\"\n",
        "Hyperparameter optimization by for loop\n",
        "- eps is a distance measure that will be used to locate the points in the neighborhood of any point.\n",
        "- min_samples is the fewest number of points required to form a cluster\n",
        "\"\"\"\n",
        "t0 = time()\n",
        "\n",
        "min_samples = np.arange(2, 10, 1)\n",
        "eps = np.arange(0.60, 0.83, 0.02) # returns array of ranging from 0.6 to 0.8 with step of 0.02\n",
        "\n",
        "output_eps = []\n",
        "\n",
        "for ms in min_samples:\n",
        "    for ep in eps:\n",
        "        labels = DBSCAN(min_samples=ms, eps=ep, metric=\"cosine\").fit(tsvd_matrix).labels_\n",
        "        score = silhouette_score(tsvd_matrix, labels)\n",
        "        # print(round(ms,3), round(ep,3), round(score,3))\n",
        "        output_eps.append((ms, ep, score))\n",
        "\n",
        "# Get the parameters for best silhouette score\n",
        "min_samples, eps, score = sorted(output_eps, key=lambda x:x[-1])[-1]\n",
        "print(\"DBSCAN model with LSA on TF-IDF vector\")\n",
        "print(f\"Best silhouette_score: {round(score, 3)}\")\n",
        "print(f\"min_samples: {min_samples}\")\n",
        "print(f\"eps: {(round(eps, 1))}\")\n",
        "\n",
        "print(f\"\\nHyperparameters optimization done in {time() - t0:.3f} s\")"
      ],
      "metadata": {
        "colab": {
          "base_uri": "https://localhost:8080/"
        },
        "id": "0u6YHqO8Y2dg",
        "outputId": "34feb155-d4c5-483a-f72c-99807f2beb9c"
      },
      "execution_count": null,
      "outputs": [
        {
          "output_type": "stream",
          "name": "stdout",
          "text": [
            "DBSCAN model with LSA on TF-IDF vector\n",
            "Best silhouette_score: 0.043\n",
            "min_samples: 7\n",
            "eps: 0.8\n",
            "\n",
            "Hyperparameters optimization done in 1.179 s\n"
          ]
        }
      ]
    },
    {
      "cell_type": "markdown",
      "source": [
        "The model has 0.043 maximum average silhouette score with epsilon = 0.8 and min_sample = 7.\n",
        "\n",
        "min_samples' values [2,3,4,6,7,8,9]\n",
        "\n",
        "eps' values [0.6, 0.7, 0.8]\n",
        "\n",
        "So, now I'm ready to compare with other clustering models based on the Silhouette score value"
      ],
      "metadata": {
        "id": "HCPa5coudX3S"
      }
    },
    {
      "cell_type": "code",
      "source": [
        "# apply kmeans algorithm\n",
        "t0 = time()\n",
        "\n",
        "kmeans_model = KMeans(n_clusters=5, init=\"k-means++\", n_init=10, random_state=42)\n",
        "kmeans_train = kmeans_model.fit(tsvd_matrix)\n",
        "print(f\"\\nModel running done in {time() - t0:.3f} s\")"
      ],
      "metadata": {
        "colab": {
          "base_uri": "https://localhost:8080/"
        },
        "id": "KaiQVsco0_gj",
        "outputId": "d7ff709d-46c6-4982-fa27-885a21b94563"
      },
      "execution_count": null,
      "outputs": [
        {
          "output_type": "stream",
          "name": "stdout",
          "text": [
            "\n",
            "Model running done in 0.143 s\n"
          ]
        }
      ]
    },
    {
      "cell_type": "code",
      "source": [
        "# apply agglomerative algorithm\n",
        "t0 = time()\n",
        "\n",
        "agglo_model = AgglomerativeClustering(affinity='cosine', linkage='complete', n_clusters=19)\n",
        "agglomerative_clusters = agglo_model.fit_predict(tsvd_matrix)\n",
        "print(f\"\\nModel running done in {time() - t0:.3f} s\")"
      ],
      "metadata": {
        "colab": {
          "base_uri": "https://localhost:8080/"
        },
        "id": "EIjMcSZje4-a",
        "outputId": "42b62ca7-dcc3-4c07-f873-894831abf531"
      },
      "execution_count": null,
      "outputs": [
        {
          "output_type": "stream",
          "name": "stdout",
          "text": [
            "\n",
            "Model running done in 0.007 s\n"
          ]
        }
      ]
    },
    {
      "cell_type": "code",
      "source": [
        "# apply agglomerative algorithm\n",
        "t0 = time()\n",
        "\n",
        "gauss_model = GaussianMixture(n_components=2, random_state=42)\n",
        "gaussian_clusters = gm.fit_predict(tsvd_matrix)\n",
        "print(f\"\\nModel running done in {time() - t0:.3f} s\")"
      ],
      "metadata": {
        "colab": {
          "base_uri": "https://localhost:8080/"
        },
        "id": "UtduPKb6k-sN",
        "outputId": "3ffdcb1b-8cdc-417a-aa36-435b6774bc71"
      },
      "execution_count": null,
      "outputs": [
        {
          "output_type": "stream",
          "name": "stdout",
          "text": [
            "\n",
            "Model running done in 0.076 s\n"
          ]
        }
      ]
    },
    {
      "cell_type": "code",
      "source": [
        "# apply DBSCAN algorithm: When dealing with texts, the distance metric to be used is cosine instead of \"euclidean\"\n",
        "t0 = time()\n",
        "\n",
        "model_dbscan = DBSCAN(eps=0.8, min_samples=7, metric=\"cosine\", algorithm=\"brute\")\n",
        "dbscan_clusters = model_dbscan.fit_predict(tsvd_matrix)\n",
        "\n",
        "print(f\"\\nModel running done in {time() - t0:.3f} s\")"
      ],
      "metadata": {
        "colab": {
          "base_uri": "https://localhost:8080/"
        },
        "id": "MLaKc46We8nc",
        "outputId": "2e1465a6-be65-4e7c-cba9-5f9ee5c0b1d3"
      },
      "execution_count": null,
      "outputs": [
        {
          "output_type": "stream",
          "name": "stdout",
          "text": [
            "\n",
            "Model running done in 0.007 s\n"
          ]
        }
      ]
    },
    {
      "cell_type": "code",
      "source": [
        "def silhouette_method(df, algo, pred_clusters):\n",
        "  print(\"=================================================================================\")\n",
        "  print(f\"Clustering: {algo}  Silhouette score: {silhouette_score(df, pred_clusters)}\")\n",
        "\n",
        "\n",
        "silhouette_method(tsvd_matrix, \"KMeans\", kmeans_model.labels_)\n",
        "silhouette_method(tsvd_matrix, \"Agglomerative\", agglomerative_clusters)\n",
        "silhouette_method(tsvd_matrix, \"Gaussian Mixture\", gaussian_clusters)\n",
        "silhouette_method(tsvd_matrix, \"DBSCAN\", dbscan_clusters)\n",
        "print(\"=================================================================================\")"
      ],
      "metadata": {
        "colab": {
          "base_uri": "https://localhost:8080/"
        },
        "id": "sNbnUYlyfGLs",
        "outputId": "a3af8766-4039-4b96-d0cd-a3f1fe19d402"
      },
      "execution_count": null,
      "outputs": [
        {
          "output_type": "stream",
          "name": "stdout",
          "text": [
            "=================================================================================\n",
            "Clustering: KMeans  Silhouette score: 0.0018167766992666983\n",
            "=================================================================================\n",
            "Clustering: Agglomerative  Silhouette score: 0.012216833204360771\n",
            "=================================================================================\n",
            "Clustering: Gaussian Mixture  Silhouette score: 0.006888899909977034\n",
            "=================================================================================\n",
            "Clustering: DBSCAN  Silhouette score: 0.033463554637046915\n",
            "=================================================================================\n"
          ]
        }
      ]
    },
    {
      "cell_type": "code",
      "source": [
        "\"\"\"\n",
        "Save kmeans model\n",
        "\"\"\"\n",
        "with open(\"./model_dbscan.pickle\", \"wb\") as pkl_file:\n",
        "    pickle.dump(model_dbscan, pkl_file)\n",
        "\n",
        "## For, loading the final model\n",
        "# with open(\"./kmeans_model.pickle\", \"rb\") as pkl_file:\n",
        "#     model_kmeans = pickle.load(pkl_file)"
      ],
      "metadata": {
        "id": "v8hADgFahhkO"
      },
      "execution_count": null,
      "outputs": []
    },
    {
      "cell_type": "code",
      "source": [
        "# Building a dendogram to decide on the number of clusters\n",
        "import scipy.cluster.hierarchy as shc\n",
        "plt.figure(figsize=(16, 5))\n",
        "dend = shc.dendrogram(shc.linkage(tsvd_matrix, method='ward')) #LSA with TF-IDF\n",
        "plt.title('Dendrogram')\n",
        "plt.xlabel('Study Program + Desc')\n",
        "plt.ylabel('Distance')\n",
        "plt.axhline(y= 3.8, color='r', linestyle='--')"
      ],
      "metadata": {
        "colab": {
          "base_uri": "https://localhost:8080/",
          "height": 522
        },
        "id": "bHXWbr-xVsOb",
        "outputId": "bfa3a719-a264-4c58-ff8d-3bfbd3be3f61"
      },
      "execution_count": null,
      "outputs": [
        {
          "output_type": "execute_result",
          "data": {
            "text/plain": [
              "<matplotlib.lines.Line2D at 0x7c40cbfe6b90>"
            ]
          },
          "metadata": {},
          "execution_count": 322
        },
        {
          "output_type": "display_data",
          "data": {
            "text/plain": [
              "<Figure size 1600x500 with 1 Axes>"
            ],
            "image/png": "[encoded data removed]"
          },
          "metadata": {}
        }
      ]
    },
    {
      "cell_type": "code",
      "source": [
        "results_kmean_300 = {}\n",
        "\n",
        "for i in range(2, 100):\n",
        "    kmeans = DBSCAN(eps=0.8, min_samples=7, metric=\"cosine\", algorithm=\"brute\")\n",
        "    labels= kmeans.fit_predict(tsvd_matrix)\n",
        "    silhouette_value = silhouette_score(tsvd_matrix, labels)\n",
        "    results_kmean_300[i] = silhouette_value"
      ],
      "metadata": {
        "id": "TlUbxu8mG_QY"
      },
      "execution_count": null,
      "outputs": []
    },
    {
      "cell_type": "code",
      "source": [
        "clusters_count = max(results_kmean_300, key=results_kmean_300.get)\n",
        "clusters_count"
      ],
      "metadata": {
        "colab": {
          "base_uri": "https://localhost:8080/"
        },
        "id": "U5VbVZuXHSfU",
        "outputId": "55ac18dd-bbb3-405f-ba44-f054238684df"
      },
      "execution_count": null,
      "outputs": [
        {
          "output_type": "execute_result",
          "data": {
            "text/plain": [
              "2"
            ]
          },
          "metadata": {},
          "execution_count": 298
        }
      ]
    },
    {
      "cell_type": "code",
      "source": [
        "def visualize_clusters(X, y, clusters_count, figsize=(10,5), title=None, show_palette=True, font_scale=1.5):\n",
        "    tsne = TSNE(n_components=2, verbose=0, random_state=42)\n",
        "    z = tsne.fit_transform(X)\n",
        "\n",
        "    tsne_df = pd.DataFrame()\n",
        "    tsne_df[\"y\"] = y\n",
        "    tsne_df[\"comp-1\"] = z[:,0]\n",
        "    tsne_df[\"comp-2\"] = z[:,1]\n",
        "\n",
        "    plt.figure(figsize=figsize)\n",
        "\n",
        "    sns.set(font_scale=font_scale)\n",
        "\n",
        "    if show_palette:\n",
        "        sns.scatterplot(x=\"comp-1\", y=\"comp-2\", hue=tsne_df.y.tolist(),\n",
        "                    palette=sns.color_palette(\"hls\", clusters_count),\n",
        "                    data=tsne_df).set(title=title)\n",
        "    else:\n",
        "         sns.scatterplot(x=\"comp-1\", y=\"comp-2\", hue=tsne_df.y.tolist(),\n",
        "                    data=tsne_df).set(title=title)\n",
        "\n",
        "    plt.legend(loc='upper right', title='Clusters')"
      ],
      "metadata": {
        "id": "jiNms8Xa3kn7"
      },
      "execution_count": null,
      "outputs": []
    },
    {
      "cell_type": "code",
      "source": [
        "title = \"DBSCAN with eps 0.8 and min sample 7 T-SNE projection based on silhouette score\"\n",
        "\n",
        "visualize_clusters(tsvd_matrix, dbscan_clusters, clusters_count, title=title, show_palette=False)"
      ],
      "metadata": {
        "colab": {
          "base_uri": "https://localhost:8080/",
          "height": 515
        },
        "id": "0GeiqqZ_F_iy",
        "outputId": "a0f9e207-122f-4d68-ca51-3561faefb772"
      },
      "execution_count": null,
      "outputs": [
        {
          "output_type": "display_data",
          "data": {
            "text/plain": [
              "<Figure size 1000x500 with 1 Axes>"
            ],
            "image/png": "[encoded data removed]"
          },
          "metadata": {}
        }
      ]
    },
    {
      "cell_type": "code",
      "source": [
        "X_tfidf.shape"
      ],
      "metadata": {
        "colab": {
          "base_uri": "https://localhost:8080/"
        },
        "id": "5bXWAV0o9mS9",
        "outputId": "2a69b07b-f464-4997-fe68-024b9d565c54"
      },
      "execution_count": null,
      "outputs": [
        {
          "output_type": "execute_result",
          "data": {
            "text/plain": [
              "(143, 1243)"
            ]
          },
          "metadata": {},
          "execution_count": 323
        }
      ]
    },
    {
      "cell_type": "code",
      "source": [
        "data.shape"
      ],
      "metadata": {
        "colab": {
          "base_uri": "https://localhost:8080/"
        },
        "id": "3o_sC2K99qpE",
        "outputId": "25a8e8e1-65cb-4f1d-93f9-2f4038eafe23"
      },
      "execution_count": null,
      "outputs": [
        {
          "output_type": "execute_result",
          "data": {
            "text/plain": [
              "(143, 11)"
            ]
          },
          "metadata": {},
          "execution_count": 324
        }
      ]
    },
    {
      "cell_type": "code",
      "source": [
        "# Create a dataframe with tf-idf\n",
        "X_df = pd.DataFrame(X_tfidf,\n",
        "             columns=vectorizer.get_feature_names_out(),\n",
        "             index=[\"item_{}\".format(x) for x in range(data.shape[0])] )\n",
        "\n",
        "X_df.head()"
      ],
      "metadata": {
        "colab": {
          "base_uri": "https://localhost:8080/",
          "height": 356
        },
        "id": "Jm29w120LU59",
        "outputId": "34dada5d-0722-4c32-d994-94a62428c1b8"
      },
      "execution_count": null,
      "outputs": [
        {
          "output_type": "error",
          "ename": "ValueError",
          "evalue": "Shape of passed values is (143, 1), indices imply (143, 1243)",
          "traceback": [
            "\u001b[0;31m---------------------------------------------------------------------------\u001b[0m",
            "\u001b[0;31mValueError\u001b[0m                                Traceback (most recent call last)",
            "\u001b[0;32m<ipython-input-310-3c7bfc4a4172>\u001b[0m in \u001b[0;36m<cell line: 2>\u001b[0;34m()\u001b[0m\n\u001b[1;32m      1\u001b[0m \u001b[0;31m# Create a dataframe with tf-idf\u001b[0m\u001b[0;34m\u001b[0m\u001b[0;34m\u001b[0m\u001b[0m\n\u001b[0;32m----> 2\u001b[0;31m X_df = pd.DataFrame(X_tfidf, \n\u001b[0m\u001b[1;32m      3\u001b[0m              \u001b[0mcolumns\u001b[0m\u001b[0;34m=\u001b[0m\u001b[0mvectorizer\u001b[0m\u001b[0;34m.\u001b[0m\u001b[0mget_feature_names_out\u001b[0m\u001b[0;34m(\u001b[0m\u001b[0;34m)\u001b[0m\u001b[0;34m,\u001b[0m\u001b[0;34m\u001b[0m\u001b[0;34m\u001b[0m\u001b[0m\n\u001b[1;32m      4\u001b[0m              index=[\"item_{}\".format(x) for x in range(data.shape[0])] )\n\u001b[1;32m      5\u001b[0m \u001b[0;34m\u001b[0m\u001b[0m\n",
            "\u001b[0;32m/usr/local/lib/python3.10/dist-packages/pandas/core/frame.py\u001b[0m in \u001b[0;36m__init__\u001b[0;34m(self, data, index, columns, dtype, copy)\u001b[0m\n\u001b[1;32m    796\u001b[0m                     )\n\u001b[1;32m    797\u001b[0m                 \u001b[0;32melse\u001b[0m\u001b[0;34m:\u001b[0m\u001b[0;34m\u001b[0m\u001b[0;34m\u001b[0m\u001b[0m\n\u001b[0;32m--> 798\u001b[0;31m                     mgr = ndarray_to_mgr(\n\u001b[0m\u001b[1;32m    799\u001b[0m                         \u001b[0mdata\u001b[0m\u001b[0;34m,\u001b[0m\u001b[0;34m\u001b[0m\u001b[0;34m\u001b[0m\u001b[0m\n\u001b[1;32m    800\u001b[0m                         \u001b[0mindex\u001b[0m\u001b[0;34m,\u001b[0m\u001b[0;34m\u001b[0m\u001b[0;34m\u001b[0m\u001b[0m\n",
            "\u001b[0;32m/usr/local/lib/python3.10/dist-packages/pandas/core/internals/construction.py\u001b[0m in \u001b[0;36mndarray_to_mgr\u001b[0;34m(values, index, columns, dtype, copy, typ)\u001b[0m\n\u001b[1;32m    335\u001b[0m     )\n\u001b[1;32m    336\u001b[0m \u001b[0;34m\u001b[0m\u001b[0m\n\u001b[0;32m--> 337\u001b[0;31m     \u001b[0m_check_values_indices_shape_match\u001b[0m\u001b[0;34m(\u001b[0m\u001b[0mvalues\u001b[0m\u001b[0;34m,\u001b[0m \u001b[0mindex\u001b[0m\u001b[0;34m,\u001b[0m \u001b[0mcolumns\u001b[0m\u001b[0;34m)\u001b[0m\u001b[0;34m\u001b[0m\u001b[0;34m\u001b[0m\u001b[0m\n\u001b[0m\u001b[1;32m    338\u001b[0m \u001b[0;34m\u001b[0m\u001b[0m\n\u001b[1;32m    339\u001b[0m     \u001b[0;32mif\u001b[0m \u001b[0mtyp\u001b[0m \u001b[0;34m==\u001b[0m \u001b[0;34m\"array\"\u001b[0m\u001b[0;34m:\u001b[0m\u001b[0;34m\u001b[0m\u001b[0;34m\u001b[0m\u001b[0m\n",
            "\u001b[0;32m/usr/local/lib/python3.10/dist-packages/pandas/core/internals/construction.py\u001b[0m in \u001b[0;36m_check_values_indices_shape_match\u001b[0;34m(values, index, columns)\u001b[0m\n\u001b[1;32m    406\u001b[0m         \u001b[0mpassed\u001b[0m \u001b[0;34m=\u001b[0m \u001b[0mvalues\u001b[0m\u001b[0;34m.\u001b[0m\u001b[0mshape\u001b[0m\u001b[0;34m\u001b[0m\u001b[0;34m\u001b[0m\u001b[0m\n\u001b[1;32m    407\u001b[0m         \u001b[0mimplied\u001b[0m \u001b[0;34m=\u001b[0m \u001b[0;34m(\u001b[0m\u001b[0mlen\u001b[0m\u001b[0;34m(\u001b[0m\u001b[0mindex\u001b[0m\u001b[0;34m)\u001b[0m\u001b[0;34m,\u001b[0m \u001b[0mlen\u001b[0m\u001b[0;34m(\u001b[0m\u001b[0mcolumns\u001b[0m\u001b[0;34m)\u001b[0m\u001b[0;34m)\u001b[0m\u001b[0;34m\u001b[0m\u001b[0;34m\u001b[0m\u001b[0m\n\u001b[0;32m--> 408\u001b[0;31m         \u001b[0;32mraise\u001b[0m \u001b[0mValueError\u001b[0m\u001b[0;34m(\u001b[0m\u001b[0;34mf\"Shape of passed values is {passed}, indices imply {implied}\"\u001b[0m\u001b[0;34m)\u001b[0m\u001b[0;34m\u001b[0m\u001b[0;34m\u001b[0m\u001b[0m\n\u001b[0m\u001b[1;32m    409\u001b[0m \u001b[0;34m\u001b[0m\u001b[0m\n\u001b[1;32m    410\u001b[0m \u001b[0;34m\u001b[0m\u001b[0m\n",
            "\u001b[0;31mValueError\u001b[0m: Shape of passed values is (143, 1), indices imply (143, 1243)"
          ]
        }
      ]
    },
    {
      "cell_type": "code",
      "source": [
        "# Clustering on documents with DBSCAN\n",
        "clustering = DBSCAN(eps=0.8, min_samples=7, metric=\"cosine\", algorithm=\"brute\")\n",
        "\n",
        "# Fit on data\n",
        "#No need to normalize data, it already is due to TF-IDF\n",
        "clustering.fit(X)\n",
        "\n",
        "# Write cluster ids into corpus and X_df\n",
        "data['cluster_id'] = clustering.labels_\n",
        "display(corpus.head())\n",
        "X_df['cluster_id'] = clustering.labels_\n",
        "display(X_df.head())"
      ],
      "metadata": {
        "id": "89N2WLyRKttN"
      },
      "execution_count": null,
      "outputs": []
    },
    {
      "cell_type": "code",
      "source": [
        "# Elbow method to find the optimal value of k\n",
        "wcss=[]\n",
        "for i in range(1,31):\n",
        "  kmeans = KMeans(n_clusters=i,init='k-means++',random_state=33)\n",
        "  kmeans.fit(x_pca)\n",
        "  wcss_iter = kmeans.inertia_\n",
        "  wcss.append(wcss_iter)\n",
        "\n",
        "number_clusters = range(1,31)\n",
        "plt.figure(figsize=(10,5))\n",
        "plt.plot(number_clusters,wcss)\n",
        "plt.title('The Elbow Method - KMeans clustering')\n",
        "plt.xlabel('Number of clusters')\n",
        "plt.ylabel('WCSS')"
      ],
      "metadata": {
        "id": "jrZNZdBV-tCs"
      },
      "execution_count": null,
      "outputs": []
    },
    {
      "cell_type": "code",
      "source": [
        "output_eps = []\n",
        "\n",
        "for ms in range(2,100,2):\n",
        "        label = AgglomerativeClustering(n_clusters=ms, affinity='cosine', linkage='complete').fit(x_pca).labels_\n",
        "        score = silhouette_score(x_pca, labels)\n",
        "        # print(round(ms,4), round(score,4))\n",
        "        output_eps.append((ms, score))\n",
        "\n",
        "# Get the parameters for best silhouette score\n",
        "min_samples, score = sorted(output_eps, key=lambda x:x[-1])[-1]\n",
        "print(\"DBSCAN model with LSA on TF-IDF vector\")\n",
        "print(f\"Best silhouette_score: {round(score, 3)}\")\n",
        "print(f\"min_samples: {min_samples}\")\n",
        "\n",
        "print(f\"\\nHyperparameters optimization done in {time() - t0:.3f} s\")"
      ],
      "metadata": {
        "colab": {
          "base_uri": "https://localhost:8080/"
        },
        "id": "iDeXTkjLMzqx",
        "outputId": "1365945e-44aa-4adc-cfce-65658163680b"
      },
      "execution_count": null,
      "outputs": [
        {
          "output_type": "stream",
          "name": "stdout",
          "text": [
            "DBSCAN model with LSA on TF-IDF vector\n",
            "Best silhouette_score: 0.013\n",
            "min_samples: 98\n",
            "\n",
            "Hyperparameters optimization done in 75.157 s\n"
          ]
        }
      ]
    },
    {
      "cell_type": "code",
      "source": [
        "results_agglo = {}\n",
        "\n",
        "for i in range(2,20):\n",
        "    agglo = AgglomerativeClustering(affinity='cosine', linkage='complete', n_clusters=i)\n",
        "    labels = agglo.fit_predict(X_tfidf.toarray())\n",
        "    silhouette_value = silhouette_score(X_tfidf, labels)\n",
        "    results_agglo[i] = silhouette_value"
      ],
      "metadata": {
        "id": "of8S3qHDD8mo"
      },
      "execution_count": null,
      "outputs": []
    },
    {
      "cell_type": "code",
      "source": [
        "clusters_count = max(results_agglo, key=results_agglo.get)\n",
        "clusters_count"
      ],
      "metadata": {
        "colab": {
          "base_uri": "https://localhost:8080/"
        },
        "id": "g5Xi8GtFJCSA",
        "outputId": "da6be426-83a2-4e49-8b2b-0137ca4572b3"
      },
      "execution_count": null,
      "outputs": [
        {
          "output_type": "execute_result",
          "data": {
            "text/plain": [
              "17"
            ]
          },
          "metadata": {},
          "execution_count": 230
        }
      ]
    },
    {
      "cell_type": "code",
      "source": [
        "agg_clustring = AgglomerativeClustering(n_clusters=17, affinity='cosine', linkage='complete')\n",
        "agg_clustring = agg_clustring.fit_predict(X_tfidf.toarray())\n",
        "agg_silhouette = silhouette_score(X_tfidf, agg_clustring)\n",
        "print(f'silhouette score = {agg_silhouette}')"
      ],
      "metadata": {
        "colab": {
          "base_uri": "https://localhost:8080/"
        },
        "id": "dzXkEMqSLE63",
        "outputId": "18350b6a-eb16-493d-d3ea-3b0f5022d9d4"
      },
      "execution_count": null,
      "outputs": [
        {
          "output_type": "stream",
          "name": "stdout",
          "text": [
            "silhouette score = 0.012567134118846381\n"
          ]
        }
      ]
    },
    {
      "cell_type": "code",
      "source": [
        "max_score = max(results_agglo)\n",
        "print(f\"Optimal number of clusters - {silhouette.index(max_score)*5+5} with silhouette score value: {round(max_score, 4)}\")"
      ],
      "metadata": {
        "id": "nY2Lyb2BJV78"
      },
      "execution_count": null,
      "outputs": []
    },
    {
      "cell_type": "code",
      "source": [
        "agg_silhouette_score_300 = silhouette_score(X_tfidf, results_agglo)\n",
        "print(f'silhouette score = {agg_silhouette_score_300}')"
      ],
      "metadata": {
        "id": "o2qt7yJTHItr"
      },
      "execution_count": null,
      "outputs": []
    },
    {
      "cell_type": "code",
      "source": [
        "results_gm = {}\n",
        "\n",
        "for i in range(2,20):\n",
        "    gm = GaussianMixture(n_components=i, random_state=42)\n",
        "    labels = gm.fit_predict(X_tfidf.toarray())\n",
        "    silhouette_value = silhouette_score(X_tfidf, labels)\n",
        "    results_gm[i] = silhouette_value"
      ],
      "metadata": {
        "id": "feqSqZXJetox"
      },
      "execution_count": null,
      "outputs": []
    },
    {
      "cell_type": "code",
      "source": [
        "clusters_count = max(results_gm, key=results_gm.get)\n",
        "clusters_count"
      ],
      "metadata": {
        "colab": {
          "base_uri": "https://localhost:8080/"
        },
        "id": "670ot1N3ztJJ",
        "outputId": "218052ba-e1c3-4523-cbbe-b0c6373bb781"
      },
      "execution_count": null,
      "outputs": [
        {
          "output_type": "execute_result",
          "data": {
            "text/plain": [
              "2"
            ]
          },
          "metadata": {},
          "execution_count": 59
        }
      ]
    },
    {
      "cell_type": "code",
      "source": [],
      "metadata": {
        "id": "_sAnU0zDJKEW"
      },
      "execution_count": null,
      "outputs": []
    },
    {
      "cell_type": "code",
      "source": [
        "distance = pairwise_distances(X_tfidf, metric='cosine')\n",
        "hdbscan_clustering = hdbscan.HDBSCAN(gen_min_span_tree=True, metric='precomputed')\n",
        "hdbscan_clustring_silhouette_tfidf = hdbscan_clustering.fit_predict(distance.astype('float64'))\n",
        "hdbscan_clustring_silhouette_tfidf[:5]"
      ],
      "metadata": {
        "colab": {
          "base_uri": "https://localhost:8080/"
        },
        "id": "RGCKYhSf8bKd",
        "outputId": "c2f33257-d104-4a5c-d2bf-3bc6ce5f6373"
      },
      "execution_count": null,
      "outputs": [
        {
          "output_type": "execute_result",
          "data": {
            "text/plain": [
              "array([-1, -1, -1, -1, -1])"
            ]
          },
          "metadata": {},
          "execution_count": 178
        }
      ]
    },
    {
      "cell_type": "code",
      "source": [
        "clusters_count = len(set(hdbscan_clustring_silhouette_tfidf))\n",
        "clusters_count"
      ],
      "metadata": {
        "colab": {
          "base_uri": "https://localhost:8080/"
        },
        "id": "etTTTnhW8qON",
        "outputId": "49d772f8-f488-443e-dc7b-f1547c98dd61"
      },
      "execution_count": null,
      "outputs": [
        {
          "output_type": "execute_result",
          "data": {
            "text/plain": [
              "1"
            ]
          },
          "metadata": {},
          "execution_count": 179
        }
      ]
    },
    {
      "cell_type": "code",
      "source": [
        "distance = pairwise_distances(tsvd_matrix, metric='cosine')\n",
        "hdbscan_clustering = hdbscan.HDBSCAN(gen_min_span_tree=True, metric='precomputed')\n",
        "hdbscan_clustring_silhouette_tsvd = hdbscan_clustering.fit_predict(distance.astype('float64'))\n",
        "hdbscan_clustring_silhouette_tsvd[:5]"
      ],
      "metadata": {
        "colab": {
          "base_uri": "https://localhost:8080/"
        },
        "id": "Mz6vDTK-8sc1",
        "outputId": "144cff89-416c-45d8-95f1-677c9a977752"
      },
      "execution_count": null,
      "outputs": [
        {
          "output_type": "execute_result",
          "data": {
            "text/plain": [
              "array([-1, -1, -1, -1, -1])"
            ]
          },
          "metadata": {},
          "execution_count": 180
        }
      ]
    },
    {
      "cell_type": "code",
      "source": [
        "clusters_count = len(set(hdbscan_clustring_silhouette_tsvd))\n",
        "clusters_count"
      ],
      "metadata": {
        "colab": {
          "base_uri": "https://localhost:8080/"
        },
        "id": "tfKZuqlf83m6",
        "outputId": "54ba1e62-c08b-4ec8-c936-e38ff23f7898"
      },
      "execution_count": null,
      "outputs": [
        {
          "output_type": "execute_result",
          "data": {
            "text/plain": [
              "1"
            ]
          },
          "metadata": {},
          "execution_count": 181
        }
      ]
    },
    {
      "cell_type": "code",
      "source": [
        "distance = pairwise_distances(x_pca, metric='cosine')\n",
        "hdbscan_clustering = hdbscan.HDBSCAN(gen_min_span_tree=True, metric='precomputed')\n",
        "hdbscan_clustring_silhouette_pca = hdbscan_clustering.fit_predict(distance.astype('float64'))\n",
        "hdbscan_clustring_silhouette_pca[:5]"
      ],
      "metadata": {
        "colab": {
          "base_uri": "https://localhost:8080/"
        },
        "id": "yT6O3nsj86R2",
        "outputId": "c1864991-0e69-4703-8966-243c5672d9c0"
      },
      "execution_count": null,
      "outputs": [
        {
          "output_type": "execute_result",
          "data": {
            "text/plain": [
              "array([-1, -1, -1, -1, -1])"
            ]
          },
          "metadata": {},
          "execution_count": 182
        }
      ]
    },
    {
      "cell_type": "code",
      "source": [
        "clusters_count = len(set(hdbscan_clustring_silhouette_tsvd))\n",
        "clusters_count"
      ],
      "metadata": {
        "colab": {
          "base_uri": "https://localhost:8080/"
        },
        "id": "0rC3d-Um9B1X",
        "outputId": "a252f39f-26eb-4a02-cf52-b135f7523ea0"
      },
      "execution_count": null,
      "outputs": [
        {
          "output_type": "execute_result",
          "data": {
            "text/plain": [
              "1"
            ]
          },
          "metadata": {},
          "execution_count": 183
        }
      ]
    },
    {
      "cell_type": "code",
      "source": [
        "X_tfidf.shape"
      ],
      "metadata": {
        "colab": {
          "base_uri": "https://localhost:8080/"
        },
        "id": "PrvNHzHA2YtK",
        "outputId": "eeabe980-799d-4b09-ebcc-0ec1e98c178c"
      },
      "execution_count": null,
      "outputs": [
        {
          "output_type": "execute_result",
          "data": {
            "text/plain": [
              "(143, 1243)"
            ]
          },
          "metadata": {},
          "execution_count": 103
        }
      ]
    },
    {
      "cell_type": "code",
      "source": [
        "results_agg_300 = {}\n",
        "\n",
        "for i in range(2, X_tfidf.shape[0]):\n",
        "    agg_clustring = AgglomerativeClustering(n_clusters=i, affinity='cosine', linkage='complete')\n",
        "    labels = agg_clustring.fit_predict(X_tfidf.toarray())\n",
        "    silhouette_value = silhouette_score(X_tfidf, labels)\n",
        "    results_agg_300[i] = silhouette_value"
      ],
      "metadata": {
        "id": "m7yOEd8dywY2"
      },
      "execution_count": null,
      "outputs": []
    },
    {
      "cell_type": "code",
      "source": [
        "clusters_count = max(results_agg_300, key=results_agg_300.get)\n",
        "clusters_count"
      ],
      "metadata": {
        "colab": {
          "base_uri": "https://localhost:8080/"
        },
        "id": "3r_DlibT3P-n",
        "outputId": "120dc4c8-ba27-4f37-9be1-54cf149b3320"
      },
      "execution_count": null,
      "outputs": [
        {
          "output_type": "execute_result",
          "data": {
            "text/plain": [
              "88"
            ]
          },
          "metadata": {},
          "execution_count": 43
        }
      ]
    },
    {
      "cell_type": "code",
      "source": [
        "agg_clustring = AgglomerativeClustering(n_clusters=clusters_count, affinity='cosine', linkage='complete')\n",
        "y_agg_clustring_300 = agg_clustring.fit_predict(X_tfidf.toarray())\n",
        "y_agg_clustring_300[:5]"
      ],
      "metadata": {
        "colab": {
          "base_uri": "https://localhost:8080/"
        },
        "id": "Z7x6a_Fz3TVM",
        "outputId": "98f51ef6-6dbc-4f50-fe95-0e21253b6297"
      },
      "execution_count": null,
      "outputs": [
        {
          "output_type": "execute_result",
          "data": {
            "text/plain": [
              "array([38, 57, 32,  9, 58])"
            ]
          },
          "metadata": {},
          "execution_count": 44
        }
      ]
    },
    {
      "cell_type": "code",
      "source": [
        "agg_silhouette_score_300 = silhouette_score(X_tfidf, y_agg_clustring_300)\n",
        "print(f'silhouette score = {agg_silhouette_score_300}')"
      ],
      "metadata": {
        "colab": {
          "base_uri": "https://localhost:8080/"
        },
        "id": "9IG28-T-3bLx",
        "outputId": "337a356e-979e-41fa-9b6c-fb5e9241dba7"
      },
      "execution_count": null,
      "outputs": [
        {
          "output_type": "stream",
          "name": "stdout",
          "text": [
            "silhouette score = 0.047527388096996\n"
          ]
        }
      ]
    },
    {
      "cell_type": "code",
      "source": [
        "title = \"Agglomerative 300 T-SNE projection based on silhouette score\"\n",
        "\n",
        "visualize_clusters(X_tfidf.toarray(), y_agg_clustring_300, clusters_count, title=title, show_palette=False)"
      ],
      "metadata": {
        "colab": {
          "base_uri": "https://localhost:8080/",
          "height": 515
        },
        "id": "OJKklgBM3zEA",
        "outputId": "76df7922-4bba-43e8-d82d-da7c95c82488"
      },
      "execution_count": null,
      "outputs": [
        {
          "output_type": "display_data",
          "data": {
            "text/plain": [
              "<Figure size 1000x500 with 1 Axes>"
            ],
            "image/png": "[encoded data removed]"
          },
          "metadata": {}
        }
      ]
    }
  ]
}